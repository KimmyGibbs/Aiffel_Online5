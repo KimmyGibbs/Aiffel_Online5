{
 "cells": [
  {
   "cell_type": "markdown",
   "metadata": {},
   "source": [
    "# 프로젝트: 뉴스기사 요약해보기"
   ]
  },
  {
   "cell_type": "markdown",
   "metadata": {},
   "source": [
    "## Step 0. 라이브러리 준비 및 과제 확인하기"
   ]
  },
  {
   "cell_type": "markdown",
   "metadata": {},
   "source": [
    "- 사용 데이터: [뉴스 기사 데이터](https://github.com/sunnysai12345/News_Summary)\n",
    "- **추상적 요약** 방식으로 데이터 전처리, 어텐션 메커니즘 설계, 결과 비교 수행하기\n",
    "- Summa를 사용한 추출적 요약 해보기"
   ]
  },
  {
   "cell_type": "markdown",
   "metadata": {},
   "source": [
    "평가 기준\n",
    "1. Abstractive 모델 구성을 위한 텍스트 전처리 단계가 체계적으로 진행되었다.\n",
    " - 분석단계, 정제단계, 정규화와 불용어 제거, 데이터셋 분리, 인코딩\n",
    "2. 텍스트 요약모델이 성공적으로 학습되었음을 확인하였다.\n",
    "- train loss와 validation loss 감소 경향 시각화\n",
    " - 실제 요약문의 핵심 단어가 예측 요약 문장에 포함되었는지 확인\n",
    "3. Extractive 요약을 시도해 보고 Abstractive 요약 결과와 함께 비교해 보았다.\n",
    "- 두 요약 결과를 문법완성도 측면, 핵심단어 포함 측면으로 나누어 비교분석\n",
    "- 분석 결과 표로 제시"
   ]
  },
  {
   "cell_type": "code",
   "execution_count": 1,
   "metadata": {},
   "outputs": [],
   "source": [
    "from nltk.corpus import stopwords\n",
    "import nltk\n",
    "import tensorflow as tf\n",
    "import summa\n",
    "import pandas as pd\n",
    "from bs4 import BeautifulSoup\n",
    "import matplotlib.pyplot as plt\n",
    "import re\n",
    "import numpy as np\n",
    "from tensorflow.keras.preprocessing.text import Tokenizer \n",
    "from tensorflow.keras.preprocessing.sequence import pad_sequences\n"
   ]
  },
  {
   "cell_type": "markdown",
   "metadata": {},
   "source": [
    "## Step 1. 데이터 수집하기"
   ]
  },
  {
   "cell_type": "code",
   "execution_count": 2,
   "metadata": {},
   "outputs": [],
   "source": [
    "import urllib.request\n",
    "urllib.request.urlretrieve(\"https://raw.githubusercontent.com/sunnysai12345/News_Summary/master/news_summary_more.csv\", filename=\"news_summary_more.csv\")\n",
    "data = pd.read_csv('news_summary_more.csv', encoding = 'iso-8859-1')"
   ]
  },
  {
   "cell_type": "code",
   "execution_count": 3,
   "metadata": {},
   "outputs": [
    {
     "data": {
      "text/html": [
       "<div>\n",
       "<style scoped>\n",
       "    .dataframe tbody tr th:only-of-type {\n",
       "        vertical-align: middle;\n",
       "    }\n",
       "\n",
       "    .dataframe tbody tr th {\n",
       "        vertical-align: top;\n",
       "    }\n",
       "\n",
       "    .dataframe thead th {\n",
       "        text-align: right;\n",
       "    }\n",
       "</style>\n",
       "<table border=\"1\" class=\"dataframe\">\n",
       "  <thead>\n",
       "    <tr style=\"text-align: right;\">\n",
       "      <th></th>\n",
       "      <th>headlines</th>\n",
       "      <th>text</th>\n",
       "    </tr>\n",
       "  </thead>\n",
       "  <tbody>\n",
       "    <tr>\n",
       "      <th>22571</th>\n",
       "      <td>Our country poorer today: President on Karunan...</td>\n",
       "      <td>After DMK chief M Karunanidhi's demise, Presid...</td>\n",
       "    </tr>\n",
       "    <tr>\n",
       "      <th>11019</th>\n",
       "      <td>ByteDance changes app design after copyright a...</td>\n",
       "      <td>China's ByteDance has changed the design of it...</td>\n",
       "    </tr>\n",
       "    <tr>\n",
       "      <th>31797</th>\n",
       "      <td>Azadi not possible, it won't happen: Army chie...</td>\n",
       "      <td>Expressing concern over Kashmiri youth picking...</td>\n",
       "    </tr>\n",
       "    <tr>\n",
       "      <th>58418</th>\n",
       "      <td>Draft law on Triple Talaq proposes 3 yrs jail ...</td>\n",
       "      <td>The government's draft law criminalising insta...</td>\n",
       "    </tr>\n",
       "    <tr>\n",
       "      <th>78088</th>\n",
       "      <td>Don't mind getting married even when I'm 40 or...</td>\n",
       "      <td>Actress Shamita Shetty has said that she doesn...</td>\n",
       "    </tr>\n",
       "    <tr>\n",
       "      <th>62190</th>\n",
       "      <td>6 hurt as candy-dispersing drone crashes into ...</td>\n",
       "      <td>At least six people, including children, were ...</td>\n",
       "    </tr>\n",
       "    <tr>\n",
       "      <th>38937</th>\n",
       "      <td>B'desh men's team celebrates women's last-ball...</td>\n",
       "      <td>Bangladesh men's cricket team opener Tamim Iqb...</td>\n",
       "    </tr>\n",
       "    <tr>\n",
       "      <th>26772</th>\n",
       "      <td>Civil services aspirant jumps in front of trai...</td>\n",
       "      <td>A 23-year-old civil services aspirant allegedl...</td>\n",
       "    </tr>\n",
       "    <tr>\n",
       "      <th>76271</th>\n",
       "      <td>PVR sells bowling unit to Tendulkar's firm for...</td>\n",
       "      <td>Multiplex operator PVR and Major Cineplex Grou...</td>\n",
       "    </tr>\n",
       "    <tr>\n",
       "      <th>3926</th>\n",
       "      <td>Scientists model glacier formation process of ...</td>\n",
       "      <td>US-based scientists have modelled the processe...</td>\n",
       "    </tr>\n",
       "  </tbody>\n",
       "</table>\n",
       "</div>"
      ],
      "text/plain": [
       "                                               headlines  \\\n",
       "22571  Our country poorer today: President on Karunan...   \n",
       "11019  ByteDance changes app design after copyright a...   \n",
       "31797  Azadi not possible, it won't happen: Army chie...   \n",
       "58418  Draft law on Triple Talaq proposes 3 yrs jail ...   \n",
       "78088  Don't mind getting married even when I'm 40 or...   \n",
       "62190  6 hurt as candy-dispersing drone crashes into ...   \n",
       "38937  B'desh men's team celebrates women's last-ball...   \n",
       "26772  Civil services aspirant jumps in front of trai...   \n",
       "76271  PVR sells bowling unit to Tendulkar's firm for...   \n",
       "3926   Scientists model glacier formation process of ...   \n",
       "\n",
       "                                                    text  \n",
       "22571  After DMK chief M Karunanidhi's demise, Presid...  \n",
       "11019  China's ByteDance has changed the design of it...  \n",
       "31797  Expressing concern over Kashmiri youth picking...  \n",
       "58418  The government's draft law criminalising insta...  \n",
       "78088  Actress Shamita Shetty has said that she doesn...  \n",
       "62190  At least six people, including children, were ...  \n",
       "38937  Bangladesh men's cricket team opener Tamim Iqb...  \n",
       "26772  A 23-year-old civil services aspirant allegedl...  \n",
       "76271  Multiplex operator PVR and Major Cineplex Grou...  \n",
       "3926   US-based scientists have modelled the processe...  "
      ]
     },
     "execution_count": 3,
     "metadata": {},
     "output_type": "execute_result"
    }
   ],
   "source": [
    "data.sample(10) # headlines, text로 구성된 데이터 확인"
   ]
  },
  {
   "cell_type": "markdown",
   "metadata": {},
   "source": [
    "## Step 2. 데이터 전처리하기(추상적 요약)"
   ]
  },
  {
   "cell_type": "markdown",
   "metadata": {},
   "source": [
    "실습에서 사용된 전처리를 참고하여 각자 필요없다고 생각하는 전처리를 추가 사용하여 텍스트를 정규화 또는 정제해 보세요.  \n",
    " 만약, 불용어 제거를 선택한다면 상대적으로 길이가 짧은 요약 데이터에 대해서도 불용어를 제거하는 것이 좋을지 고민해 보세요."
   ]
  },
  {
   "cell_type": "code",
   "execution_count": 4,
   "metadata": {},
   "outputs": [
    {
     "name": "stdout",
     "output_type": "stream",
     "text": [
      "Unique Text:  98360\n",
      "Unique Summary:  98280\n"
     ]
    }
   ],
   "source": [
    "# 중복 샘플 확인\n",
    "print('Unique Text: ', data['text'].nunique())\n",
    "print('Unique Summary: ', data['headlines'].nunique())\n",
    "# 98401개의 전체 데이터 중 Text는 41개, Summary는 121개가 중복됨"
   ]
  },
  {
   "cell_type": "code",
   "execution_count": 5,
   "metadata": {},
   "outputs": [
    {
     "name": "stdout",
     "output_type": "stream",
     "text": [
      "98360\n"
     ]
    }
   ],
   "source": [
    "# 요약은 겹칠 수 있다고 판단, 중복인 Text만 제거함\n",
    "data.drop_duplicates(subset=['text'], inplace=True)\n",
    "print(len(data))"
   ]
  },
  {
   "cell_type": "code",
   "execution_count": 6,
   "metadata": {},
   "outputs": [
    {
     "name": "stdout",
     "output_type": "stream",
     "text": [
      "headlines    0\n",
      "text         0\n",
      "dtype: int64\n"
     ]
    }
   ],
   "source": [
    "# 결측치 확인\n",
    "print(data.isna().sum()) # 결측치 없음"
   ]
  },
  {
   "cell_type": "markdown",
   "metadata": {},
   "source": [
    "[정규화 사전](https://stackoverflow.com/questions/19790188/expanding-english-language-contractions-in-python)"
   ]
  },
  {
   "cell_type": "code",
   "execution_count": 7,
   "metadata": {},
   "outputs": [],
   "source": [
    "# 텍스트 정규화\n",
    "contractions = { \n",
    "\"ain't\": \"am not / are not / is not / has not / have not\",\n",
    "\"aren't\": \"are not / am not\",\n",
    "\"can't\": \"cannot\",\n",
    "\"can't've\": \"cannot have\",\n",
    "\"'cause\": \"because\",\n",
    "\"could've\": \"could have\",\n",
    "\"couldn't\": \"could not\",\n",
    "\"couldn't've\": \"could not have\",\n",
    "\"didn't\": \"did not\",\n",
    "\"doesn't\": \"does not\",\n",
    "\"don't\": \"do not\",\n",
    "\"hadn't\": \"had not\",\n",
    "\"hadn't've\": \"had not have\",\n",
    "\"hasn't\": \"has not\",\n",
    "\"haven't\": \"have not\",\n",
    "\"he'd\": \"he had / he would\",\n",
    "\"he'd've\": \"he would have\",\n",
    "\"he'll\": \"he shall / he will\",\n",
    "\"he'll've\": \"he shall have / he will have\",\n",
    "\"he's\": \"he has / he is\",\n",
    "\"how'd\": \"how did\",\n",
    "\"how'd'y\": \"how do you\",\n",
    "\"how'll\": \"how will\",\n",
    "\"how's\": \"how has / how is / how does\",\n",
    "\"I'd\": \"I had / I would\",\n",
    "\"I'd've\": \"I would have\",\n",
    "\"I'll\": \"I shall / I will\",\n",
    "\"I'll've\": \"I shall have / I will have\",\n",
    "\"I'm\": \"I am\",\n",
    "\"I've\": \"I have\",\n",
    "\"isn't\": \"is not\",\n",
    "\"it'd\": \"it had / it would\",\n",
    "\"it'd've\": \"it would have\",\n",
    "\"it'll\": \"it shall / it will\",\n",
    "\"it'll've\": \"it shall have / it will have\",\n",
    "\"it's\": \"it has / it is\",\n",
    "\"let's\": \"let us\",\n",
    "\"ma'am\": \"madam\",\n",
    "\"mayn't\": \"may not\",\n",
    "\"might've\": \"might have\",\n",
    "\"mightn't\": \"might not\",\n",
    "\"mightn't've\": \"might not have\",\n",
    "\"must've\": \"must have\",\n",
    "\"mustn't\": \"must not\",\n",
    "\"mustn't've\": \"must not have\",\n",
    "\"needn't\": \"need not\",\n",
    "\"needn't've\": \"need not have\",\n",
    "\"o'clock\": \"of the clock\",\n",
    "\"oughtn't\": \"ought not\",\n",
    "\"oughtn't've\": \"ought not have\",\n",
    "\"shan't\": \"shall not\",\n",
    "\"sha'n't\": \"shall not\",\n",
    "\"shan't've\": \"shall not have\",\n",
    "\"she'd\": \"she had / she would\",\n",
    "\"she'd've\": \"she would have\",\n",
    "\"she'll\": \"she shall / she will\",\n",
    "\"she'll've\": \"she shall have / she will have\",\n",
    "\"she's\": \"she has / she is\",\n",
    "\"should've\": \"should have\",\n",
    "\"shouldn't\": \"should not\",\n",
    "\"shouldn't've\": \"should not have\",\n",
    "\"so've\": \"so have\",\n",
    "\"so's\": \"so as / so is\",\n",
    "\"that'd\": \"that would / that had\",\n",
    "\"that'd've\": \"that would have\",\n",
    "\"that's\": \"that has / that is\",\n",
    "\"there'd\": \"there had / there would\",\n",
    "\"there'd've\": \"there would have\",\n",
    "\"there's\": \"there has / there is\",\n",
    "\"they'd\": \"they had / they would\",\n",
    "\"they'd've\": \"they would have\",\n",
    "\"they'll\": \"they shall / they will\",\n",
    "\"they'll've\": \"they shall have / they will have\",\n",
    "\"they're\": \"they are\",\n",
    "\"they've\": \"they have\",\n",
    "\"to've\": \"to have\",\n",
    "\"wasn't\": \"was not\",\n",
    "\"we'd\": \"we had / we would\",\n",
    "\"we'd've\": \"we would have\",\n",
    "\"we'll\": \"we will\",\n",
    "\"we'll've\": \"we will have\",\n",
    "\"we're\": \"we are\",\n",
    "\"we've\": \"we have\",\n",
    "\"weren't\": \"were not\",\n",
    "\"what'll\": \"what shall / what will\",\n",
    "\"what'll've\": \"what shall have / what will have\",\n",
    "\"what're\": \"what are\",\n",
    "\"what's\": \"what has / what is\",\n",
    "\"what've\": \"what have\",\n",
    "\"when's\": \"when has / when is\",\n",
    "\"when've\": \"when have\",\n",
    "\"where'd\": \"where did\",\n",
    "\"where's\": \"where has / where is\",\n",
    "\"where've\": \"where have\",\n",
    "\"who'll\": \"who shall / who will\",\n",
    "\"who'll've\": \"who shall have / who will have\",\n",
    "\"who's\": \"who has / who is\",\n",
    "\"who've\": \"who have\",\n",
    "\"why's\": \"why has / why is\",\n",
    "\"why've\": \"why have\",\n",
    "\"will've\": \"will have\",\n",
    "\"won't\": \"will not\",\n",
    "\"won't've\": \"will not have\",\n",
    "\"would've\": \"would have\",\n",
    "\"wouldn't\": \"would not\",\n",
    "\"wouldn't've\": \"would not have\",\n",
    "\"y'all\": \"you all\",\n",
    "\"y'all'd\": \"you all would\",\n",
    "\"y'all'd've\": \"you all would have\",\n",
    "\"y'all're\": \"you all are\",\n",
    "\"y'all've\": \"you all have\",\n",
    "\"you'd\": \"you had / you would\",\n",
    "\"you'd've\": \"you would have\",\n",
    "\"you'll\": \"you shall / you will\",\n",
    "\"you'll've\": \"you shall have / you will have\",\n",
    "\"you're\": \"you are\",\n",
    "\"you've\": \"you have\"\n",
    "}"
   ]
  },
  {
   "cell_type": "code",
   "execution_count": 8,
   "metadata": {},
   "outputs": [
    {
     "name": "stderr",
     "output_type": "stream",
     "text": [
      "[nltk_data] Downloading package stopwords to /aiffel/nltk_data...\n",
      "[nltk_data]   Unzipping corpora/stopwords.zip.\n"
     ]
    },
    {
     "data": {
      "text/plain": [
       "True"
      ]
     },
     "execution_count": 8,
     "metadata": {},
     "output_type": "execute_result"
    }
   ],
   "source": [
    "nltk.download('stopwords') # nltk 불용어 다운로드"
   ]
  },
  {
   "cell_type": "code",
   "execution_count": 9,
   "metadata": {},
   "outputs": [
    {
     "name": "stdout",
     "output_type": "stream",
     "text": [
      "179\n"
     ]
    }
   ],
   "source": [
    "stop_words = set(stopwords.words('english'))\n",
    "print(len(stop_words))"
   ]
  },
  {
   "cell_type": "code",
   "execution_count": 10,
   "metadata": {},
   "outputs": [],
   "source": [
    "# 데이터 전처리 함수\n",
    "def preprocess_sentence(sentence, remove_stopwords=True):\n",
    "    sentence = sentence.lower() # 텍스트 소문자화\n",
    "    sentence = BeautifulSoup(sentence, \"lxml\").text # html 태그 제거\n",
    "    sentence = re.sub(r'\\([^)]*\\)', '', sentence) # 괄호로 감싸진 문자열 제거\n",
    "    sentence = re.sub('\"','', sentence) # \"\" 제거\n",
    "    sentence = ' '.join([contractions[t] if t in contractions else t for t in sentence.split(\" \")]) # 정규화\n",
    "    sentence = re.sub(r\"'s\\b\", \"\", sentence) # 소유격 제거\n",
    "    sentence = re.sub(\"[^a-zA-Z]\", \" \", sentence) # 영어 외 문자 공백으로 변환\n",
    "    sentence = re.sub('[m]{2,}', 'mm', sentence) # m이 3개 이상이면 2개로 변경(ex. emmmm)\n",
    "    \n",
    "    # 불용어 제거\n",
    "    if remove_stopwords:\n",
    "        tokens = ' '.join(word for word in sentence.split() if not word in stop_words if len(word) > 1)\n",
    "    # 불용어 미제거\n",
    "    else:\n",
    "        tokens = ' '.join(word for word in sentence.split() if len(word) > 1)\n",
    "    return tokens"
   ]
  },
  {
   "cell_type": "code",
   "execution_count": 11,
   "metadata": {},
   "outputs": [
    {
     "data": {
      "text/plain": [
       "['saurav kant alumnus upgrad iiit pg program machine learning artificial intelligence sr systems engineer infosys almost years work experience program upgrad degree career support helped transition data scientist tech mahindra salary hike upgrad online power learning powered lakh careers',\n",
       " 'kunal shah credit card bill payment platform cred gave users chance win free food swiggy one year pranav kaushik delhi techie bagged reward spending cred coins users get one cred coin per rupee bill paid used avail rewards brands like ixigo bookmyshow ubereats cult fit',\n",
       " 'new zealand defeated india wickets fourth odi hamilton thursday win first match five match odi series india lost international match rohit sharma captaincy consecutive victories dating back march match witnessed india getting seventh lowest total odi cricket history',\n",
       " 'aegon life iterm insurance plan customers enjoy tax benefits premiums paid save taxes plan provides life cover age years also customers options insure critical illnesses disability accidental death benefit rider life cover age years',\n",
       " 'speaking sexual harassment allegations rajkumar hirani sonam kapoor said known hirani many years true metoo movement get derailed metoo movement always believe woman case need reserve judgment added hirani accused assistant worked sanju']"
      ]
     },
     "execution_count": 11,
     "metadata": {},
     "output_type": "execute_result"
    }
   ],
   "source": [
    "# text 전처리(불용어 제거함)\n",
    "clean_text = []\n",
    "for sentence in data['text']:\n",
    "    clean_text.append(preprocess_sentence(sentence))\n",
    "clean_text[:5]"
   ]
  },
  {
   "cell_type": "code",
   "execution_count": 12,
   "metadata": {},
   "outputs": [
    {
     "data": {
      "text/plain": [
       "['upgrad learner switches to career in ml al with salary hike',\n",
       " 'delhi techie wins free food from swiggy for one year on cred',\n",
       " 'new zealand end rohit sharma led india match winning streak',\n",
       " 'aegon life iterm insurance plan helps customers save tax',\n",
       " 'have known hirani for yrs what if metoo claims are not true sonam']"
      ]
     },
     "execution_count": 12,
     "metadata": {},
     "output_type": "execute_result"
    }
   ],
   "source": [
    "# headlines 전처리(불용어 제거하지 않음)\n",
    "clean_summary = []\n",
    "for sentence in data['headlines']:\n",
    "    clean_summary.append(preprocess_sentence(sentence, False))\n",
    "    \n",
    "clean_summary[:5]"
   ]
  },
  {
   "cell_type": "code",
   "execution_count": 13,
   "metadata": {},
   "outputs": [],
   "source": [
    "# 전처리 후 저장\n",
    "data['text'] = clean_text\n",
    "data['headlines'] = clean_summary"
   ]
  },
  {
   "cell_type": "code",
   "execution_count": 14,
   "metadata": {},
   "outputs": [
    {
     "name": "stdout",
     "output_type": "stream",
     "text": [
      "headlines    0\n",
      "text         0\n",
      "dtype: int64\n"
     ]
    }
   ],
   "source": [
    "# 공백인 샘플 null처리\n",
    "data.replace('', np.nan, inplace=True)\n",
    "print(data.isna().sum()) # null 확인"
   ]
  },
  {
   "cell_type": "code",
   "execution_count": 15,
   "metadata": {},
   "outputs": [
    {
     "name": "stdout",
     "output_type": "stream",
     "text": [
      "min text: 1\n",
      "max text: 60\n",
      "text mean: 35.103599023993496\n",
      "min headline: 1\n",
      "max headline: 19\n",
      "headline mean: 9.307015046766978\n"
     ]
    },
    {
     "data": {
      "image/png": "[encoded data removed]",
      "text/plain": [
       "<Figure size 432x288 with 2 Axes>"
      ]
     },
     "metadata": {
      "needs_background": "light"
     },
     "output_type": "display_data"
    },
    {
     "data": {
      "image/png": "[encoded data removed]",
      "text/plain": [
       "<Figure size 432x288 with 1 Axes>"
      ]
     },
     "metadata": {
      "needs_background": "light"
     },
     "output_type": "display_data"
    },
    {
     "data": {
      "image/png": "[encoded data removed]",
      "text/plain": [
       "<Figure size 432x288 with 1 Axes>"
      ]
     },
     "metadata": {
      "needs_background": "light"
     },
     "output_type": "display_data"
    }
   ],
   "source": [
    "# 길이 분포 확인\n",
    "text_len = [len(s.split()) for s in data['text']]\n",
    "summary_len = [len(s.split()) for s in data['headlines']]\n",
    "\n",
    "print(f'min text: {np.min(text_len)}')\n",
    "print(f'max text: {np.max(text_len)}')\n",
    "print(f'text mean: {np.mean(text_len)}')\n",
    "print(f'min headline: {np.min(summary_len)}')\n",
    "print(f'max headline: {np.max(summary_len)}')\n",
    "print(f'headline mean: {np.mean(summary_len)}')\n",
    "\n",
    "plt.subplot(1,2,1)\n",
    "plt.boxplot(summary_len)\n",
    "plt.title('Summary')\n",
    "plt.subplot(1,2,2)\n",
    "plt.boxplot(text_len)\n",
    "plt.title('Text')\n",
    "plt.tight_layout()\n",
    "plt.show()\n",
    "\n",
    "plt.title('Summary')\n",
    "plt.hist(summary_len, bins=40)\n",
    "plt.xlabel('length of samples')\n",
    "plt.ylabel('number of samples')\n",
    "plt.show()\n",
    "\n",
    "plt.title('Text')\n",
    "plt.hist(text_len, bins=40)\n",
    "plt.xlabel('length of samples')\n",
    "plt.ylabel('number of samples')\n",
    "plt.show()"
   ]
  },
  {
   "cell_type": "code",
   "execution_count": 16,
   "metadata": {},
   "outputs": [],
   "source": [
    "# text와 headline(summary) 최대길이 설정\n",
    "# 평균보다 조금 크게 설정함\n",
    "text_max_len = 40\n",
    "summary_max_len = 11"
   ]
  },
  {
   "cell_type": "code",
   "execution_count": 17,
   "metadata": {},
   "outputs": [],
   "source": [
    "def below_threshold_len(max_len, nested_list):\n",
    "    cnt = 0\n",
    "    for s in nested_list:\n",
    "        if(len(s.split()) <= max_len):\n",
    "            cnt = cnt + 1\n",
    "\n",
    "    print(f'전체 샘플 중 길이가 {max_len} 이하인 샘플 비율: {cnt/len(nested_list)}')"
   ]
  },
  {
   "cell_type": "code",
   "execution_count": 18,
   "metadata": {},
   "outputs": [
    {
     "name": "stdout",
     "output_type": "stream",
     "text": [
      "전체 샘플 중 길이가 40 이하인 샘플 비율: 0.9236884912566083\n",
      "전체 샘플 중 길이가 11 이하인 샘플 비율: 0.9426291175274502\n"
     ]
    }
   ],
   "source": [
    "below_threshold_len(text_max_len, data['text'])\n",
    "below_threshold_len(summary_max_len, data['headlines'])"
   ]
  },
  {
   "cell_type": "code",
   "execution_count": 19,
   "metadata": {},
   "outputs": [
    {
     "name": "stdout",
     "output_type": "stream",
     "text": [
      "samples: 85607\n"
     ]
    }
   ],
   "source": [
    "# 최대 길이보다 큰 샘플 제거\n",
    "data = data[data['text'].apply(lambda x: len(x.split()) <= text_max_len)]\n",
    "data = data[data['headlines'].apply(lambda x: len(x.split()) <= summary_max_len)]\n",
    "print(f'samples: {len(data)}')"
   ]
  },
  {
   "cell_type": "code",
   "execution_count": 20,
   "metadata": {},
   "outputs": [
    {
     "data": {
      "text/html": [
       "<div>\n",
       "<style scoped>\n",
       "    .dataframe tbody tr th:only-of-type {\n",
       "        vertical-align: middle;\n",
       "    }\n",
       "\n",
       "    .dataframe tbody tr th {\n",
       "        vertical-align: top;\n",
       "    }\n",
       "\n",
       "    .dataframe thead th {\n",
       "        text-align: right;\n",
       "    }\n",
       "</style>\n",
       "<table border=\"1\" class=\"dataframe\">\n",
       "  <thead>\n",
       "    <tr style=\"text-align: right;\">\n",
       "      <th></th>\n",
       "      <th>headlines</th>\n",
       "      <th>text</th>\n",
       "      <th>decoder_input</th>\n",
       "      <th>decoder_target</th>\n",
       "    </tr>\n",
       "  </thead>\n",
       "  <tbody>\n",
       "    <tr>\n",
       "      <th>0</th>\n",
       "      <td>upgrad learner switches to career in ml al wit...</td>\n",
       "      <td>saurav kant alumnus upgrad iiit pg program mac...</td>\n",
       "      <td>sostoken upgrad learner switches to career in ...</td>\n",
       "      <td>upgrad learner switches to career in ml al wit...</td>\n",
       "    </tr>\n",
       "    <tr>\n",
       "      <th>2</th>\n",
       "      <td>new zealand end rohit sharma led india match w...</td>\n",
       "      <td>new zealand defeated india wickets fourth odi ...</td>\n",
       "      <td>sostoken new zealand end rohit sharma led indi...</td>\n",
       "      <td>new zealand end rohit sharma led india match w...</td>\n",
       "    </tr>\n",
       "    <tr>\n",
       "      <th>3</th>\n",
       "      <td>aegon life iterm insurance plan helps customer...</td>\n",
       "      <td>aegon life iterm insurance plan customers enjo...</td>\n",
       "      <td>sostoken aegon life iterm insurance plan helps...</td>\n",
       "      <td>aegon life iterm insurance plan helps customer...</td>\n",
       "    </tr>\n",
       "    <tr>\n",
       "      <th>5</th>\n",
       "      <td>rahat fateh ali khan denies getting notice for...</td>\n",
       "      <td>pakistani singer rahat fateh ali khan denied r...</td>\n",
       "      <td>sostoken rahat fateh ali khan denies getting n...</td>\n",
       "      <td>rahat fateh ali khan denies getting notice for...</td>\n",
       "    </tr>\n",
       "    <tr>\n",
       "      <th>7</th>\n",
       "      <td>govt directs alok verma to join work day befor...</td>\n",
       "      <td>weeks ex cbi director alok verma told departme...</td>\n",
       "      <td>sostoken govt directs alok verma to join work ...</td>\n",
       "      <td>govt directs alok verma to join work day befor...</td>\n",
       "    </tr>\n",
       "  </tbody>\n",
       "</table>\n",
       "</div>"
      ],
      "text/plain": [
       "                                           headlines  \\\n",
       "0  upgrad learner switches to career in ml al wit...   \n",
       "2  new zealand end rohit sharma led india match w...   \n",
       "3  aegon life iterm insurance plan helps customer...   \n",
       "5  rahat fateh ali khan denies getting notice for...   \n",
       "7  govt directs alok verma to join work day befor...   \n",
       "\n",
       "                                                text  \\\n",
       "0  saurav kant alumnus upgrad iiit pg program mac...   \n",
       "2  new zealand defeated india wickets fourth odi ...   \n",
       "3  aegon life iterm insurance plan customers enjo...   \n",
       "5  pakistani singer rahat fateh ali khan denied r...   \n",
       "7  weeks ex cbi director alok verma told departme...   \n",
       "\n",
       "                                       decoder_input  \\\n",
       "0  sostoken upgrad learner switches to career in ...   \n",
       "2  sostoken new zealand end rohit sharma led indi...   \n",
       "3  sostoken aegon life iterm insurance plan helps...   \n",
       "5  sostoken rahat fateh ali khan denies getting n...   \n",
       "7  sostoken govt directs alok verma to join work ...   \n",
       "\n",
       "                                      decoder_target  \n",
       "0  upgrad learner switches to career in ml al wit...  \n",
       "2  new zealand end rohit sharma led india match w...  \n",
       "3  aegon life iterm insurance plan helps customer...  \n",
       "5  rahat fateh ali khan denies getting notice for...  \n",
       "7  govt directs alok verma to join work day befor...  "
      ]
     },
     "execution_count": 20,
     "metadata": {},
     "output_type": "execute_result"
    }
   ],
   "source": [
    "# 요약 데이터에 시작, 종료 토큰 추가\n",
    "data['decoder_input'] = data['headlines'].apply(lambda x : 'sostoken ' + x)\n",
    "data['decoder_target'] = data['headlines'].apply(lambda x: x + ' eostoken')\n",
    "data.head()"
   ]
  },
  {
   "cell_type": "code",
   "execution_count": 21,
   "metadata": {},
   "outputs": [],
   "source": [
    "# 인코더의 입력, 디코더의 입력/레이블 지정\n",
    "encoder_input = np.array(data['text'])\n",
    "decoder_input = np.array(data['decoder_input'])\n",
    "decoder_target = np.array(data['decoder_target'])"
   ]
  },
  {
   "cell_type": "code",
   "execution_count": 22,
   "metadata": {},
   "outputs": [
    {
     "name": "stdout",
     "output_type": "stream",
     "text": [
      "[77293 23049 18528 ... 57516   253 33963]\n"
     ]
    }
   ],
   "source": [
    "# train, test data 분리\n",
    "indices = np.arange(encoder_input.shape[0]) # 정수 시퀀스 생성\n",
    "np.random.shuffle(indices)\n",
    "print(indices)"
   ]
  },
  {
   "cell_type": "code",
   "execution_count": 23,
   "metadata": {},
   "outputs": [],
   "source": [
    "# shuffle sample\n",
    "encoder_input = encoder_input[indices]\n",
    "decoder_input = decoder_input[indices]\n",
    "decoder_target = decoder_target[indices]"
   ]
  },
  {
   "cell_type": "code",
   "execution_count": 24,
   "metadata": {},
   "outputs": [
    {
     "name": "stdout",
     "output_type": "stream",
     "text": [
      "test data: 17121\n"
     ]
    }
   ],
   "source": [
    "n_of_val = int(len(encoder_input)*0.2)\n",
    "print(f'test data: {n_of_val}')"
   ]
  },
  {
   "cell_type": "code",
   "execution_count": 25,
   "metadata": {},
   "outputs": [],
   "source": [
    "# train, test data 준비\n",
    "encoder_input_train = encoder_input[:-n_of_val]\n",
    "decoder_input_train = decoder_input[:-n_of_val]\n",
    "decoder_target_train = decoder_target[:-n_of_val]\n",
    "\n",
    "encoder_input_test = encoder_input[-n_of_val:]\n",
    "decoder_input_test = decoder_input[-n_of_val:]\n",
    "decoder_target_test = decoder_target[-n_of_val:]"
   ]
  },
  {
   "cell_type": "code",
   "execution_count": 26,
   "metadata": {},
   "outputs": [
    {
     "name": "stdout",
     "output_type": "stream",
     "text": [
      "encoder input train: 68486\n",
      "decoder input train: 68486\n",
      "encoder input test: 17121\n",
      "decoder input test: 17121\n"
     ]
    }
   ],
   "source": [
    "print(f'encoder input train: {len(encoder_input_train)}')\n",
    "print(f'decoder input train: {len(decoder_input_train)}')\n",
    "print(f'encoder input test: {len(encoder_input_test)}')\n",
    "print(f'decoder input test: {len(decoder_input_test)}')"
   ]
  },
  {
   "cell_type": "code",
   "execution_count": 27,
   "metadata": {},
   "outputs": [],
   "source": [
    "# tokenizer 정의\n",
    "src_tokenizer = Tokenizer()\n",
    "src_tokenizer.fit_on_texts(encoder_input_train)"
   ]
  },
  {
   "cell_type": "code",
   "execution_count": 28,
   "metadata": {},
   "outputs": [
    {
     "name": "stdout",
     "output_type": "stream",
     "text": [
      "단어 집합의 크기: 64448\n",
      "등장 빈도가 6번 이하인 단어의 수: 43929\n",
      "단어 집합에서 희귀 단어를 제외시킬 경우 크기: 20519\n",
      "단어 집합에서 희귀 단어의 비율: 68.16192899702085\n",
      "전체 등장 빈도에서 희귀 단어 등장 비율: 3.7871707830280035\n"
     ]
    }
   ],
   "source": [
    "# 단어 등장 빈도수 확인\n",
    "threshold = 7\n",
    "total_cnt = len(src_tokenizer.word_index) # 단어 수\n",
    "rare_cnt = 0 # 등장 빈도수 < threshold\n",
    "total_freq = 0 # 훈련 데이터 전체 단어 빈도수 총 합\n",
    "rare_freq = 0 # 등장 빈도수 < threshold 총 합\n",
    "\n",
    "for key, value in src_tokenizer.word_counts.items():\n",
    "    total_freq += value\n",
    "    \n",
    "    if value < threshold:\n",
    "        rare_cnt += 1\n",
    "        rare_freq += value\n",
    "\n",
    "print(f'단어 집합의 크기: {total_cnt}')\n",
    "print(f'등장 빈도가 {threshold-1}번 이하인 단어의 수: {rare_cnt}')\n",
    "print(f'단어 집합에서 희귀 단어를 제외시킬 경우 크기: {total_cnt - rare_cnt}')\n",
    "print(f'단어 집합에서 희귀 단어의 비율: {(rare_cnt/total_cnt)*100}')\n",
    "print(f'전체 등장 빈도에서 희귀 단어 등장 비율: {(rare_freq/total_freq)*100}')"
   ]
  },
  {
   "cell_type": "code",
   "execution_count": 29,
   "metadata": {},
   "outputs": [],
   "source": [
    "# 등장 빈도 6회 미만 단어 제외\n",
    "src_vocab = 20000\n",
    "src_tokenizer = Tokenizer(num_words=src_vocab)\n",
    "src_tokenizer.fit_on_texts(encoder_input_train)\n",
    "\n",
    "#텍스트 시퀀스를 정수로 변환\n",
    "encoder_input_train = src_tokenizer.texts_to_sequences(encoder_input_train)\n",
    "encoder_input_test = src_tokenizer.texts_to_sequences(encoder_input_test)"
   ]
  },
  {
   "cell_type": "code",
   "execution_count": 30,
   "metadata": {},
   "outputs": [],
   "source": [
    "tar_tokenizer = Tokenizer()\n",
    "tar_tokenizer.fit_on_texts(decoder_input_train)"
   ]
  },
  {
   "cell_type": "code",
   "execution_count": 31,
   "metadata": {},
   "outputs": [
    {
     "name": "stdout",
     "output_type": "stream",
     "text": [
      "단어 집합의 크기: 28438\n",
      "등장 빈도가 6번 이하인 단어의 수: 19615\n",
      "단어 집합에서 희귀 단어를 제외시킬 경우 크기: 8823\n",
      "단어 집합에서 희귀 단어의 비율: 68.97461143540333\n",
      "전체 등장 빈도에서 희귀 단어 등장 비율: 5.947362572500213\n"
     ]
    }
   ],
   "source": [
    "# 단어 등장 빈도수 확인\n",
    "threshold = 7\n",
    "total_cnt = len(tar_tokenizer.word_index) # 단어 수\n",
    "rare_cnt = 0 # 등장 빈도수 < threshold\n",
    "total_freq = 0 # 훈련 데이터 전체 단어 빈도수 총 합\n",
    "rare_freq = 0 # 등장 빈도수 < threshold 총 합\n",
    "\n",
    "for key, value in tar_tokenizer.word_counts.items():\n",
    "    total_freq += value\n",
    "    \n",
    "    if value < threshold:\n",
    "        rare_cnt += 1\n",
    "        rare_freq += value\n",
    "\n",
    "print(f'단어 집합의 크기: {total_cnt}')\n",
    "print(f'등장 빈도가 {threshold-1}번 이하인 단어의 수: {rare_cnt}')\n",
    "print(f'단어 집합에서 희귀 단어를 제외시킬 경우 크기: {total_cnt - rare_cnt}')\n",
    "print(f'단어 집합에서 희귀 단어의 비율: {(rare_cnt/total_cnt)*100}')\n",
    "print(f'전체 등장 빈도에서 희귀 단어 등장 비율: {(rare_freq/total_freq)*100}')"
   ]
  },
  {
   "cell_type": "code",
   "execution_count": 32,
   "metadata": {},
   "outputs": [],
   "source": [
    "tar_vocab = 9000\n",
    "tar_tokenizer = Tokenizer(num_words=tar_vocab)\n",
    "tar_tokenizer.fit_on_texts(decoder_input_train)\n",
    "tar_tokenizer.fit_on_texts(decoder_target_train)"
   ]
  },
  {
   "cell_type": "code",
   "execution_count": 33,
   "metadata": {},
   "outputs": [],
   "source": [
    "# 텍스트 시퀀스 정수로 변환\n",
    "decoder_input_train = tar_tokenizer.texts_to_sequences(decoder_input_train) \n",
    "decoder_target_train = tar_tokenizer.texts_to_sequences(decoder_target_train)\n",
    "decoder_input_test = tar_tokenizer.texts_to_sequences(decoder_input_test)\n",
    "decoder_target_test = tar_tokenizer.texts_to_sequences(decoder_target_test)"
   ]
  },
  {
   "cell_type": "code",
   "execution_count": 34,
   "metadata": {},
   "outputs": [
    {
     "name": "stdout",
     "output_type": "stream",
     "text": [
      "drop train: 1\n",
      "drop test: 0\n"
     ]
    }
   ],
   "source": [
    "# 빈 셈플 제거\n",
    "drop_train = [index for index, sentence in enumerate(decoder_input_train) if len(sentence) == 1]\n",
    "drop_test = [index for index, sentence in enumerate(decoder_input_test) if len(sentence) == 1]\n",
    "\n",
    "print(f'drop train: {len(drop_train)}')\n",
    "print(f'drop test: {len(drop_test)}')"
   ]
  },
  {
   "cell_type": "code",
   "execution_count": 35,
   "metadata": {},
   "outputs": [
    {
     "name": "stdout",
     "output_type": "stream",
     "text": [
      "encoder input train: 68485\n",
      "decoder input train: 68485\n",
      "encoder input test: 17121\n",
      "decoder input test: 17121\n"
     ]
    }
   ],
   "source": [
    "# drop할 test data가 없으므로 train data에 대해서만 처리\n",
    "\n",
    "encoder_input_train = np.delete(encoder_input_train, drop_train, axis=0)\n",
    "decoder_input_train = np.delete(decoder_input_train, drop_train, axis=0)\n",
    "decoder_target_train = np.delete(decoder_target_train, drop_train, axis=0)\n",
    "\n",
    "print(f'encoder input train: {len(encoder_input_train)}')\n",
    "print(f'decoder input train: {len(decoder_input_train)}')\n",
    "print(f'encoder input test: {len(encoder_input_test)}')\n",
    "print(f'decoder input test: {len(decoder_input_test)}')"
   ]
  },
  {
   "cell_type": "code",
   "execution_count": 36,
   "metadata": {},
   "outputs": [],
   "source": [
    "# padding\n",
    "encoder_input_train = pad_sequences(encoder_input_train, maxlen = text_max_len, padding='post')\n",
    "encoder_input_test = pad_sequences(encoder_input_test, maxlen = text_max_len, padding='post')\n",
    "decoder_input_train = pad_sequences(decoder_input_train, maxlen = summary_max_len, padding='post')\n",
    "decoder_target_train = pad_sequences(decoder_target_train, maxlen = summary_max_len, padding='post')\n",
    "decoder_input_test = pad_sequences(decoder_input_test, maxlen = summary_max_len, padding='post')\n",
    "decoder_target_test = pad_sequences(decoder_target_test, maxlen = summary_max_len, padding='post')"
   ]
  },
  {
   "cell_type": "markdown",
   "metadata": {},
   "source": [
    "## Step 3. 어텐션 메커니즘 사용하기(추상적 요약)"
   ]
  },
  {
   "cell_type": "code",
   "execution_count": 37,
   "metadata": {},
   "outputs": [],
   "source": [
    "from tensorflow.keras.layers import Input, LSTM, Embedding, Dense, Concatenate\n",
    "from tensorflow.keras.models import Model\n",
    "from tensorflow.keras.callbacks import EarlyStopping, ModelCheckpoint "
   ]
  },
  {
   "cell_type": "code",
   "execution_count": 40,
   "metadata": {},
   "outputs": [],
   "source": [
    "# 인코더 설계\n",
    "embedding_dim = 128\n",
    "hidden_size = 256\n",
    "\n",
    "# 인코더\n",
    "encoder_inputs = Input(shape=(text_max_len,))\n",
    "\n",
    "# 인코더의 임베딩 층\n",
    "enc_emb = Embedding(src_vocab, embedding_dim)(encoder_inputs)\n",
    "\n",
    "# 인코더의 LSTM 1\n",
    "encoder_lstm1 = LSTM(hidden_size, return_sequences=True, return_state=True ,dropout = 0.4)\n",
    "encoder_output1, state_h1, state_c1 = encoder_lstm1(enc_emb)\n",
    "\n",
    "# 인코더의 LSTM 2\n",
    "encoder_lstm2 = LSTM(hidden_size, return_sequences=True, return_state=True, dropout=0.4)\n",
    "encoder_output2, state_h2, state_c2 = encoder_lstm2(encoder_output1)\n",
    "\n",
    "# 인코더의 LSTM 3\n",
    "encoder_lstm3 = LSTM(hidden_size, return_state=True, return_sequences=True, dropout=0.4)\n",
    "encoder_outputs, state_h, state_c= encoder_lstm3(encoder_output2)"
   ]
  },
  {
   "cell_type": "code",
   "execution_count": 41,
   "metadata": {},
   "outputs": [],
   "source": [
    "# 디코더 설계\n",
    "# 디코더\n",
    "decoder_inputs = Input(shape=(None,))\n",
    "\n",
    "# 디코더의 임베딩 층\n",
    "dec_emb_layer = Embedding(tar_vocab, embedding_dim)\n",
    "dec_emb = dec_emb_layer(decoder_inputs)\n",
    "\n",
    "# 디코더의 LSTM\n",
    "decoder_lstm = LSTM(hidden_size, return_sequences = True, return_state = True, dropout = 0.4)\n",
    "decoder_outputs, _, _ = decoder_lstm(dec_emb, initial_state = [state_h, state_c])"
   ]
  },
  {
   "cell_type": "code",
   "execution_count": 43,
   "metadata": {},
   "outputs": [
    {
     "name": "stdout",
     "output_type": "stream",
     "text": [
      "Model: \"model\"\n",
      "__________________________________________________________________________________________________\n",
      "Layer (type)                    Output Shape         Param #     Connected to                     \n",
      "==================================================================================================\n",
      "input_3 (InputLayer)            [(None, 40)]         0                                            \n",
      "__________________________________________________________________________________________________\n",
      "embedding_2 (Embedding)         (None, 40, 128)      2560000     input_3[0][0]                    \n",
      "__________________________________________________________________________________________________\n",
      "lstm_6 (LSTM)                   [(None, 40, 256), (N 394240      embedding_2[0][0]                \n",
      "__________________________________________________________________________________________________\n",
      "input_4 (InputLayer)            [(None, None)]       0                                            \n",
      "__________________________________________________________________________________________________\n",
      "lstm_7 (LSTM)                   [(None, 40, 256), (N 525312      lstm_6[0][0]                     \n",
      "__________________________________________________________________________________________________\n",
      "embedding_3 (Embedding)         (None, None, 128)    1152000     input_4[0][0]                    \n",
      "__________________________________________________________________________________________________\n",
      "lstm_8 (LSTM)                   [(None, 40, 256), (N 525312      lstm_7[0][0]                     \n",
      "__________________________________________________________________________________________________\n",
      "lstm_9 (LSTM)                   [(None, None, 256),  394240      embedding_3[0][0]                \n",
      "                                                                 lstm_8[0][1]                     \n",
      "                                                                 lstm_8[0][2]                     \n",
      "__________________________________________________________________________________________________\n",
      "attention_layer (AdditiveAttent (None, None, 256)    256         lstm_9[0][0]                     \n",
      "                                                                 lstm_8[0][0]                     \n",
      "__________________________________________________________________________________________________\n",
      "concat_layer (Concatenate)      (None, None, 512)    0           lstm_9[0][0]                     \n",
      "                                                                 attention_layer[0][0]            \n",
      "__________________________________________________________________________________________________\n",
      "dense (Dense)                   (None, None, 9000)   4617000     concat_layer[0][0]               \n",
      "==================================================================================================\n",
      "Total params: 10,168,360\n",
      "Trainable params: 10,168,360\n",
      "Non-trainable params: 0\n",
      "__________________________________________________________________________________________________\n"
     ]
    }
   ],
   "source": [
    "from tensorflow.keras.layers import AdditiveAttention\n",
    "\n",
    "# 어텐션 층(어텐션 함수)\n",
    "attn_layer = AdditiveAttention(name='attention_layer')\n",
    "\n",
    "# 인코더와 디코더의 모든 time step의 hidden state를 어텐션 층에 전달하고 결과를 리턴\n",
    "attn_out = attn_layer([decoder_outputs, encoder_outputs])\n",
    "\n",
    "\n",
    "# 어텐션의 결과와 디코더의 hidden state들을 연결\n",
    "decoder_concat_input = Concatenate(axis=-1, name='concat_layer')([decoder_outputs, attn_out])\n",
    "\n",
    "# 디코더의 출력층\n",
    "decoder_softmax_layer = Dense(tar_vocab, activation='softmax')\n",
    "decoder_softmax_outputs = decoder_softmax_layer(decoder_concat_input)\n",
    "\n",
    "# 모델 정의\n",
    "model = Model([encoder_inputs, decoder_inputs], decoder_softmax_outputs)\n",
    "model.summary()"
   ]
  },
  {
   "cell_type": "code",
   "execution_count": 44,
   "metadata": {},
   "outputs": [],
   "source": [
    "# model compile\n",
    "model.compile(optimizer='rmsprop', loss='sparse_categorical_crossentropy')"
   ]
  },
  {
   "cell_type": "code",
   "execution_count": 45,
   "metadata": {},
   "outputs": [
    {
     "name": "stdout",
     "output_type": "stream",
     "text": [
      "Epoch 1/50\n",
      "268/268 [==============================] - 31s 88ms/step - loss: 5.9590 - val_loss: 5.5418\n",
      "Epoch 2/50\n",
      "268/268 [==============================] - 23s 85ms/step - loss: 5.3833 - val_loss: 5.1678\n",
      "Epoch 3/50\n",
      "268/268 [==============================] - 23s 87ms/step - loss: 5.0451 - val_loss: 4.9133\n",
      "Epoch 4/50\n",
      "268/268 [==============================] - 23s 88ms/step - loss: 4.7834 - val_loss: 4.7179\n",
      "Epoch 5/50\n",
      "268/268 [==============================] - 23s 87ms/step - loss: 4.5569 - val_loss: 4.5502\n",
      "Epoch 6/50\n",
      "268/268 [==============================] - 23s 87ms/step - loss: 4.3677 - val_loss: 4.4129\n",
      "Epoch 7/50\n",
      "268/268 [==============================] - 23s 87ms/step - loss: 4.2032 - val_loss: 4.3239\n",
      "Epoch 8/50\n",
      "268/268 [==============================] - 23s 87ms/step - loss: 4.0611 - val_loss: 4.2430\n",
      "Epoch 9/50\n",
      "268/268 [==============================] - 23s 87ms/step - loss: 3.9349 - val_loss: 4.1786\n",
      "Epoch 10/50\n",
      "268/268 [==============================] - 23s 87ms/step - loss: 3.8200 - val_loss: 4.1249\n",
      "Epoch 11/50\n",
      "268/268 [==============================] - 23s 87ms/step - loss: 3.7184 - val_loss: 4.0833\n",
      "Epoch 12/50\n",
      "268/268 [==============================] - 23s 87ms/step - loss: 3.6249 - val_loss: 4.0620\n",
      "Epoch 13/50\n",
      "268/268 [==============================] - 23s 87ms/step - loss: 3.5404 - val_loss: 4.0233\n",
      "Epoch 14/50\n",
      "268/268 [==============================] - 23s 87ms/step - loss: 3.4611 - val_loss: 3.9954\n",
      "Epoch 15/50\n",
      "268/268 [==============================] - 23s 87ms/step - loss: 3.3892 - val_loss: 3.9772\n",
      "Epoch 16/50\n",
      "268/268 [==============================] - 23s 87ms/step - loss: 3.3221 - val_loss: 3.9623\n",
      "Epoch 17/50\n",
      "268/268 [==============================] - 23s 87ms/step - loss: 3.2595 - val_loss: 3.9408\n",
      "Epoch 18/50\n",
      "268/268 [==============================] - 23s 87ms/step - loss: 3.1995 - val_loss: 3.9409\n",
      "Epoch 19/50\n",
      "268/268 [==============================] - 23s 87ms/step - loss: 3.1434 - val_loss: 3.9286\n",
      "Epoch 20/50\n",
      "268/268 [==============================] - 23s 87ms/step - loss: 3.0895 - val_loss: 3.9135\n",
      "Epoch 21/50\n",
      "268/268 [==============================] - 23s 87ms/step - loss: 3.0391 - val_loss: 3.9214\n",
      "Epoch 22/50\n",
      "268/268 [==============================] - 23s 87ms/step - loss: 2.9928 - val_loss: 3.9148\n",
      "Epoch 00022: early stopping\n"
     ]
    }
   ],
   "source": [
    "es = EarlyStopping(monitor='val_loss', mode='min', verbose=1, patience = 2) # 조기종료 조건 설정\n",
    "history = model.fit(x = [encoder_input_train, decoder_input_train], y = decoder_target_train, \\\n",
    "          validation_data = ([encoder_input_test, decoder_input_test], decoder_target_test),\n",
    "          batch_size = 256, callbacks=[es], epochs = 50)"
   ]
  },
  {
   "cell_type": "code",
   "execution_count": 46,
   "metadata": {},
   "outputs": [
    {
     "data": {
      "image/png": "[encoded data removed]",
      "text/plain": [
       "<Figure size 432x288 with 1 Axes>"
      ]
     },
     "metadata": {
      "needs_background": "light"
     },
     "output_type": "display_data"
    }
   ],
   "source": [
    "plt.plot(history.history['loss'], label='train')\n",
    "plt.plot(history.history['val_loss'], label='test')\n",
    "plt.legend()\n",
    "plt.show()"
   ]
  },
  {
   "cell_type": "code",
   "execution_count": 47,
   "metadata": {},
   "outputs": [],
   "source": [
    "src_index_to_word = src_tokenizer.index_word # 원문 단어 집합에서 정수 -> 단어를 얻음\n",
    "tar_word_to_index = tar_tokenizer.word_index # 요약 단어 집합에서 단어 -> 정수를 얻음\n",
    "tar_index_to_word = tar_tokenizer.index_word # 요약 단어 집합에서 정수 -> 단어를 얻음"
   ]
  },
  {
   "cell_type": "code",
   "execution_count": 48,
   "metadata": {},
   "outputs": [],
   "source": [
    "# 인코더 설계\n",
    "encoder_model = Model(inputs=encoder_inputs, outputs=[encoder_outputs, state_h, state_c])"
   ]
  },
  {
   "cell_type": "code",
   "execution_count": 49,
   "metadata": {},
   "outputs": [],
   "source": [
    "# 이전 시점의 상태들을 저장하는 텐서\n",
    "decoder_state_input_h = Input(shape=(hidden_size,))\n",
    "decoder_state_input_c = Input(shape=(hidden_size,))\n",
    "\n",
    "dec_emb2 = dec_emb_layer(decoder_inputs)\n",
    "# 문장의 다음 단어를 예측하기 위해서 초기 상태(initial_state)를 이전 시점의 상태로 사용. 이는 뒤의 함수 decode_sequence()에 구현\n",
    "# 훈련 과정에서와 달리 LSTM의 리턴하는 은닉 상태와 셀 상태인 state_h와 state_c를 버리지 않음.\n",
    "decoder_outputs2, state_h2, state_c2 = decoder_lstm(dec_emb2, initial_state=[decoder_state_input_h, decoder_state_input_c])"
   ]
  },
  {
   "cell_type": "code",
   "execution_count": 51,
   "metadata": {},
   "outputs": [],
   "source": [
    "# 어텐션 함수\n",
    "decoder_hidden_state_input = Input(shape=(text_max_len, hidden_size))\n",
    "attn_out_inf = attn_layer([decoder_outputs2, decoder_hidden_state_input])\n",
    "decoder_inf_concat = Concatenate(axis=-1, name='concat')([decoder_outputs2, attn_out_inf])\n",
    "\n",
    "# 디코더의 출력층\n",
    "decoder_outputs2 = decoder_softmax_layer(decoder_inf_concat) \n",
    "\n",
    "# 최종 디코더 모델\n",
    "decoder_model = Model(\n",
    "    [decoder_inputs] + [decoder_hidden_state_input,decoder_state_input_h, decoder_state_input_c],\n",
    "    [decoder_outputs2] + [state_h2, state_c2])"
   ]
  },
  {
   "cell_type": "code",
   "execution_count": 52,
   "metadata": {},
   "outputs": [],
   "source": [
    "def decode_sequence(input_seq):\n",
    "    # 입력으로부터 인코더의 상태를 얻음\n",
    "    e_out, e_h, e_c = encoder_model.predict(input_seq)\n",
    "\n",
    "     # <SOS>에 해당하는 토큰 생성\n",
    "    target_seq = np.zeros((1,1))\n",
    "    target_seq[0, 0] = tar_word_to_index['sostoken']\n",
    "\n",
    "    stop_condition = False\n",
    "    decoded_sentence = ''\n",
    "    while not stop_condition: # stop_condition이 True가 될 때까지 루프 반복\n",
    "\n",
    "        output_tokens, h, c = decoder_model.predict([target_seq] + [e_out, e_h, e_c])\n",
    "        sampled_token_index = np.argmax(output_tokens[0, -1, :])\n",
    "        sampled_token = tar_index_to_word[sampled_token_index]\n",
    "\n",
    "        if (sampled_token!='eostoken'):\n",
    "            decoded_sentence += ' '+sampled_token\n",
    "\n",
    "        #  <eos>에 도달하거나 최대 길이를 넘으면 중단.\n",
    "        if (sampled_token == 'eostoken'  or len(decoded_sentence.split()) >= (summary_max_len-1)):\n",
    "            stop_condition = True\n",
    "\n",
    "        # 길이가 1인 타겟 시퀀스를 업데이트\n",
    "        target_seq = np.zeros((1,1))\n",
    "        target_seq[0, 0] = sampled_token_index\n",
    "\n",
    "        # 상태를 업데이트 합니다.\n",
    "        e_h, e_c = h, c\n",
    "\n",
    "    return decoded_sentence"
   ]
  },
  {
   "cell_type": "code",
   "execution_count": 55,
   "metadata": {},
   "outputs": [],
   "source": [
    "# 원문의 정수 시퀀스를 텍스트 시퀀스로 변환\n",
    "def seq2text(input_seq):\n",
    "    sentence=''\n",
    "    for i in input_seq:\n",
    "        if(i!=0):\n",
    "            sentence = sentence + src_index_to_word[i]+' '\n",
    "    return sentence\n",
    "\n",
    "# 요약문의 정수 시퀀스를 텍스트 시퀀스로 변환\n",
    "def seq2summary(input_seq):\n",
    "    sentence=''\n",
    "    for i in input_seq:\n",
    "        if((i!=0 and i!=tar_word_to_index['sostoken']) and i!=tar_word_to_index['eostoken']):\n",
    "            sentence = sentence + tar_index_to_word[i] + ' '\n",
    "    return sentence"
   ]
  },
  {
   "cell_type": "code",
   "execution_count": 57,
   "metadata": {},
   "outputs": [
    {
     "name": "stdout",
     "output_type": "stream",
     "text": [
      "원문 : supreme court wednesday upheld ban use petroleum coke around delhi counter high pollution levels national capital petroleum coke emits greenhouse gases coal banned november industrial units rajasthan uttar pradesh haryana \n",
      "실제 요약 : sc upholds ban on use of petroleum in delhi \n",
      "예측 요약 :  sc bans ban on firecrackers in delhi\n",
      "\n",
      "\n",
      "원문 : hollywood actress heather known playing role musical sound music passed away age diagnosed brain cancer month ago died christmas eve surrounded family per son ryan \n",
      "실제 요약 : the sound of music actress passes away aged \n",
      "예측 요약 :  actress passes away aged\n",
      "\n",
      "\n",
      "원문 : us district court ordered country military take transgender members ranks january partially blocking president donald trump ban transgenders serving us military last month august trump ordered military stop transgenders halt use funds pay gender transition related surgery \n",
      "실제 요약 : us court orders military to accept transgenders by jan \n",
      "예측 요약 :  us military orders travel ban to trump\n",
      "\n",
      "\n",
      "원문 : actor john abraham revealed close friend ms dhoni jumped wall gone john office get bikes found watchman sleeping abraham added returning dhoni made gate easily managed get jeans stuck gate tore \n",
      "실제 요약 : dhoni and jumped over wall to get our bikes john abraham \n",
      "예측 요약 :  my car is my car with me varun\n",
      "\n",
      "\n",
      "원문 : commentator broke tears syrian national football team scored last minute iran remain contention first ever fifa world cup berth syria drew iran tehran tuesday seal playoff spot world cup qualifying syria third group asian qualifiers face australia \n",
      "실제 요약 : commentator cries as syria keeps wc hopes alive \n",
      "예측 요약 :  iran football team to be world cup after attack\n",
      "\n",
      "\n",
      "원문 : actress kangana ranaut sister rangoli chandel took twitter announce given birth baby boy dear friends meet son prithvi raj chandel wrote sharing photo rangoli first child husband ajay chandel married private ceremony delhi \n",
      "실제 요약 : kangana ranaut sister rangoli gives birth to baby boy \n",
      "예측 요약 :  kangana slams wife over child marriage\n",
      "\n",
      "\n",
      "원문 : street food stalls major roads bangkok remain thai tourism minister announced wednesday however said government planning train street food vendors accordance universal hygiene standards earlier reports emerged kinds stalls including clothes street food stalls banned \n",
      "실제 요약 : bangkok street food stalls to stay tourism minister \n",
      "예측 요약 :  food drive to be used in food bottle\n",
      "\n",
      "\n",
      "원문 : many students shaikh ul hind maulana mahmood hasan medical college uttar pradesh saharanpur suspended class one month ragging juniors suspended anti ragging committee found complaints true batch students beaten cut hair juniors \n",
      "실제 요약 : students at up college suspended for ragging \n",
      "예측 요약 :  students fail to students in haryana\n",
      "\n",
      "\n",
      "원문 : union external affairs minister sushma swaraj saturday left people confused tweeted deleted tweet within minutes posting people began sharing screenshots twitter person tweeting combination odd even prime numbers another person tweeted otp longer valid please share new one \n",
      "실제 요약 : sushma swaraj tweets leaves people confused \n",
      "예측 요약 :  swaraj slams media over posting pic of his news\n",
      "\n",
      "\n",
      "원문 : second black box lion air flight crashed coast jakarta october recovered people board died flight crashed sea shortly taking journey officials said human remains found near black box discovered \n",
      "실제 요약 : nd black box from indonesian plane that crashed into sea found \n",
      "예측 요약 :  plane crash off runway after crash off runway\n",
      "\n",
      "\n",
      "원문 : bengaluru ranked top paying city professionals india average yearly salary lakh salary trends study followed mumbai hyderabad average yearly salaries lakh lakh respectively java best paid professionals country average salary lakh \n",
      "실제 요약 : bengaluru ranked top paying city for in india \n",
      "예측 요약 :  india has highest paid for the year in\n",
      "\n",
      "\n",
      "원문 : pm narendra modi planned review performance bjp cms every two months review meeting sunday bjp cm gave minute presentation pm point set party government schemes plugged resort avoided modi told cms \n",
      "실제 요약 : pm modi to review work of bjp cms every months \n",
      "예측 요약 :  congress mps to be held for years in tripura\n",
      "\n",
      "\n",
      "원문 : nine cryptocurrency hedge funds tracked research firm gave combined returns compared bitcoin gain contrast hedge funds globally returned average however digital currency fund gained nearly last year warned clients invest amount afford lose \n",
      "실제 요약 : crypto hedge funds saw over returns in \n",
      "예측 요약 :  bitcoin exchange exchange buys billion\n",
      "\n",
      "\n",
      "원문 : owl statue erected northern serbia drawn mockery resembling shape penis reacting nearly foot sculpture facebook user wrote cannot figure reminds meanwhile protestors said statue shape features obscene demanded removal \n",
      "실제 요약 : penis shaped statue in draws \n",
      "예측 요약 :  artist wears his own statue to be unveiled\n",
      "\n",
      "\n",
      "원문 : half estimated people trapped syria northern city raqqa children official un children agency said friday level suffering losing friends relatives family children absolutely said appealed parties conflict must protect facilitate safe passage civilians \n",
      "실제 요약 : half of those trapped in syria are kids un \n",
      "예측 요약 :  myanmar refugees in myanmar after years\n",
      "\n",
      "\n",
      "원문 : big air world championship held freestyle ski world championships sierra nevada usa big air competition involves riders performing tricks stunts air norway men category austria anna took women gold \n",
      "실제 요약 : in pictures big air world championship \n",
      "예측 요약 :  indian air india world most expensive flag in india\n",
      "\n",
      "\n",
      "원문 : grocery startup bigbasket talks raise million funding new existing investors valuing billion according reports february year bigbasket raised million series funding led alibaba valuation million earlier reports said bigbasket put merger talks rival grofers hold \n",
      "실제 요약 : bigbasket may raise mn become billion dollar startup \n",
      "예측 요약 :  zomato to raise billion in its largest startup\n",
      "\n",
      "\n",
      "원문 : city thousand planets released friday visually passion project cannot take flight wrote hindustan times audience left diabetes hardly storytelling wrote times india koimoi called film film rated \n",
      "실제 요약 : and the city of planets hits theatres \n",
      "예측 요약 :  why is the theatres\n",
      "\n",
      "\n",
      "원문 : reacting virat kohli posting picture wrestler great khali twitter user tweeted virat kohli records tweets read would want khali bowling mph kohli looks like pillow king size bed another tweet read much salary get vs much want \n",
      "실제 요약 : virat with his records tweets user on kohli pic \n",
      "예측 요약 :  twitter reacts to kohli tweets user on twitter\n",
      "\n",
      "\n",
      "원문 : austrian fitness startup co founder ceo revealed startup money beginning worked weekends took money pay first employees get salary first months added money focus core said \n",
      "실제 요약 : we did not have money we worked on ceo \n",
      "예측 요약 :  founder founder of his startup was worth crore\n",
      "\n",
      "\n",
      "원문 : commerce platform snapdeal filed fir former promoters logistics parent firm logistics startup accusing cheating defrauding snapdeal tune several crores rupees snapdeal alleged promoters offered false assurance expertise safely deliver products consumers behalf registered sellers \n",
      "실제 요약 : snapdeal files fir accusing ex promoters of cheating \n",
      "예측 요약 :  snapdeal founders hire to snapdeal flipkart ceo\n",
      "\n",
      "\n",
      "원문 : nobel prize physics divided one half awarded french physicist antoine discovery spontaneous half jointly pierre curie marie curie radium born december accidentally discovered radiation interaction light uranium studying rays \n",
      "실제 요약 : won nobel with curie for \n",
      "예측 요약 :  nobel prize prize was not won nobel prize winner\n",
      "\n",
      "\n",
      "원문 : japanese conglomerate softbank gained million indian southeast asian investments nine month period ending december major investments regions flipkart ola oyo grab others gain region contrast million loss incurred corresponding period ended december \n",
      "실제 요약 : softbank made mn from indian southeast asian investments \n",
      "예측 요약 :  softbank founders hit bn in valuation of softbank\n",
      "\n",
      "\n",
      "원문 : west bengal cm mamata banerjee appealed people darjeeling maintain peace calm region heading netherlands said ministers monitoring situation three activists gorkha janmukti morcha allegedly killed police firing protestors carried rally killed \n",
      "실제 요약 : mamata calls for peace in darjeeling flies to netherlands \n",
      "예측 요약 :  west bengal cm mamata banerjee declares anti state\n",
      "\n",
      "\n",
      "원문 : veteran actor dilip kumar discharged lilavati hospital mumbai doctors advised complete rest isolation days prevent infection thank prayers dilip family friend faisal farooqui posted via actor twitter handle dilip admitted hospital october treated pneumonia \n",
      "실제 요약 : veteran actor dilip kumar discharged from hospital \n"
     ]
    },
    {
     "name": "stdout",
     "output_type": "stream",
     "text": [
      "예측 요약 :  dilip kumar hospitalised in hospital for karunanidhi\n",
      "\n",
      "\n",
      "원문 : indian origin wrestler mahal mocked usa title celebration defeating randy become new wwe champion mahal entered arena bhangra along dance said randy like like america decline mahal spoke punjabi crowd chanted usa usa \n",
      "실제 요약 : wrestler mahal mocks usa after becoming wwe champion \n",
      "예측 요약 :  indian mahal to win asian championship\n",
      "\n",
      "\n",
      "원문 : elon musk shared information new startup boring company runs electric sleds underground tunnels carry vehicles kmph avoid traffic tunnels safe earthquakes address level traffic different layers tunnels startup looking technology turn dug dirt bricks \n",
      "실제 요약 : why is elon musk new startup digging tunnels \n",
      "예측 요약 :  elon musk launches new tunnel to avoid battery tunnel\n",
      "\n",
      "\n",
      "원문 : shiv sena mp ravindra gaikwad accused assaulting air india employee delhi airport march called staffer mad refusing apologise incident gaikwad said staff mad around eight cases indulging brawl registered air india lifted flying ban gaikwad friday \n",
      "실제 요약 : air india employee is says shiv sena mp gaikwad \n",
      "예측 요약 :  shiv sena mp gaikwad staffer staffer sexually harassed air hostess\n",
      "\n",
      "\n",
      "원문 : john abraham talking pregnant goat death allegedly gangraped eight men haryana mewat said indian say women animals safe country guys given capital punishment simple nothing else work sick men country added \n",
      "실제 요약 : women animals not safe in india john on pregnant goat rape \n",
      "예측 요약 :  was raped by my mother in my rape victim\n",
      "\n",
      "\n",
      "원문 : fans brazilian football club sport self styled worst team world claimed club roots identity stake registered first wins going winless years fans claimed coach fault victories destroying club history \n",
      "실제 요약 : fans get angry as football team wins first match in years \n",
      "예측 요약 :  club to host club for fifa world cup\n",
      "\n",
      "\n",
      "원문 : reacting wife hasin jahan allegations wants marry elder brother sister law eid indian cricketer mohammad shami said mad marry another girl much trouble due first marriage added hasin also alleged shami offered money asked divorce \n",
      "실제 요약 : do you think that will marry another girl shami \n",
      "예측 요약 :  shami wife denies shami wife marriage in law\n",
      "\n",
      "\n",
      "원문 : irctc ordered enquiry complaint passenger howrah duronto express quality food served train citing least passengers train tweeted food quality good irctc official said gentleman may liked taste food served definitely stale \n",
      "실제 요약 : irctc orders into complaint on express food \n",
      "예측 요약 :  passengers not trains to be drunk train passengers\n",
      "\n",
      "\n",
      "원문 : whatsapp started rolling feature let users delete sent messages according reports called delete everyone available ios android windows operating system applicable types messages including pictures gifs videos others reports added messages revoked within seven minutes sending \n",
      "실제 요약 : whatsapp rolls out feature to delete sent messages report \n",
      "예측 요약 :  whatsapp to launch whatsapp messages in india\n",
      "\n",
      "\n",
      "원문 : rbi reportedly initiated special audit state owned banks focussing issuance letters undertakings comes firms linked nirav modi mehul choksi raised overseas credit via fraudulent lous issued pnb rbi asked details lous whether banks kept enough cash margin issuing \n",
      "실제 요약 : rbi starts special audit of state run banks post pnb fraud \n",
      "예측 요약 :  rbi to probe down on pnb fraud case\n",
      "\n",
      "\n",
      "원문 : american singer nicki minaj brother convicted raping stepdaughter multiple occasions years old child younger brother testified case arrested faces years life prison set sentenced december \n",
      "실제 요약 : nicki minaj brother found guilty of raping \n",
      "예측 요약 :  singer accused of rape by rape by sister\n",
      "\n",
      "\n",
      "원문 : rape convict gurmeet ram rahim singh sex addict revealed doctor called rohtak jail authorities examine singh saturday doctors said uneasiness singh experiencing withdrawal symptoms access physical jail \n",
      "실제 요약 : ram rahim is sex addict doctor who him in jail \n",
      "예측 요약 :  ram rahim to be given to ram rahim\n",
      "\n",
      "\n",
      "원문 : islamic state claimed responsibility wednesday uk parliament attack three people killed several others injured group said soldier caliphate carried attack uk police already arrested eight people links attack considered london deadliest attack last years \n",
      "실제 요약 : islamic state claims responsibility for uk parliament attack \n",
      "예측 요약 :  isis claims responsibility for attack on isis attack\n",
      "\n",
      "\n",
      "원문 : cricketer also known il longest known last name first class cricketer surname literally means returned alive hospital island lau group played nine matches fiji two tours new zealand scored two hundreds \n",
      "실제 요약 : who is the cricketer with longest known surname in history \n",
      "예측 요약 :  years since wwe player retires from the day\n",
      "\n",
      "\n",
      "원문 : india largest carmaker maruti suzuki profit declined first time four years higher commodity costs weaker rupee local subsidiary japan suzuki motor corporation reported profit crore july september quarter decline year ago period company revenue rose crore \n",
      "실제 요약 : maruti suzuki profit declines for the first time in years \n",
      "예측 요약 :  india posts fall in first quarter of\n",
      "\n",
      "\n",
      "원문 : automaker bmw clarified partnership cryptocurrency startup last week claimed tie bmw create first ever connected reports cars bmw said startup using bmw interface available third party however said contractual relationship bmw parties understand word partnership differently \n",
      "실제 요약 : cryptocurrency startup claims bmw partnership bmw \n",
      "예측 요약 :  ford to build electric car to build electric cars\n",
      "\n",
      "\n",
      "원문 : bar council asked congress politicise concerns voiced four supreme court judges judiciary administration day bjp slammed party similar grounds council added unfortunate judiciary gave congress president rahul gandhi opportunity comment institution gandhi called judges move unprecedented \n",
      "실제 요약 : after bjp bar council asks cong to not politicise sc issue \n",
      "예측 요약 :  congress moves sc against congress leaders\n",
      "\n",
      "\n",
      "원문 : kapil sharma responding rumours cannot handle stardom said industry years suddenly start showing stardom misusing added saying able handle stardom cannot deal success said whatever today hard work \n",
      "실제 요약 : been here for yrs why will misuse stardom now kapil \n",
      "예측 요약 :  kapil sharma is good friends with the kapil\n",
      "\n",
      "\n",
      "원문 : launch event oneplus much awaited flagship smartphone oneplus indian market begin pm mumbai today day global launch fans could snap tickets attend launch oneplus live streaming event oneplus available purchase india exclusively via amazon india may may \n",
      "실제 요약 : oneplus launched for indian market at an event in mumbai \n",
      "예측 요약 :  oneplus to launch india in india in india\n",
      "\n",
      "\n",
      "원문 : centre planning stake national carrier air india end union minister state civil aviation jayant sinha said friday said bidding process expected concluded june legal formalities completed december \n",
      "실제 요약 : air india to be by year end mos jayant sinha \n",
      "예측 요약 :  govt to air india debt to be union minister\n",
      "\n",
      "\n",
      "원문 : philippine president rodrigo duterte tuesday said tired thinking stepping however added hesitant suggest constitutional succession satisfied successor vice president lawyer heard talk think improve anything said \n",
      "실제 요약 : tired and thinking of stepping down philippine prez duterte \n",
      "예측 요약 :  philippine prez calls to have democracy\n",
      "\n",
      "\n",
      "원문 : electric carmaker tesla ceo elon musk revealed company model car go kmph seconds musk also claimed model top speed kmph km range musk said company working two separate versions car called driving feel amazing \n",
      "실제 요약 : musk reveals tesla model can go from kmph in sec \n",
      "예측 요약 :  tesla car car car to be musk on car\n",
      "\n",
      "\n",
      "원문 : railway administration recently asked government railway police railway police force evict unauthorised hawkers various stations foot overbridges mumbai ease commuter movement move comes people killed stampede elphinstone road station last month interestingly officials also asked click photos hawkers identification \n",
      "실제 요약 : illegal to be evicted from mumbai railway stations \n",
      "예측 요약 :  mumbai railway stations to get mumbai railway tracks\n",
      "\n",
      "\n",
      "원문 : warning responsible recent attacks country afghanistan president ashraf ghani monday said take revenge every drop blood nearly people killed recent attacks mostly claimed taliban militant group notably ghani government facing growing pressure improve security country \n",
      "실제 요약 : will take revenge for every drop of blood afghanistan \n"
     ]
    },
    {
     "name": "stdout",
     "output_type": "stream",
     "text": [
      "예측 요약 :  no action against afghanistan army chief\n",
      "\n",
      "\n",
      "원문 : indian rounder hardik pandya tuesday shared video twitter birthday celebrations team india video spinner yuzvendra chahal rounder axar patel seen cake pandya face everyone birthday comes year revenge sweet throwback birthday pandya captioned video \n",
      "실제 요약 : pandya shares video of birthday celebrations with team india \n",
      "예측 요약 :  pandya shares video of hardik pandya with him\n",
      "\n",
      "\n",
      "원문 : bihar district court sentenced two brothers five year jail term imposed fine lakh drinking reportedly first conviction state anti liquor law brothers daily arrested may year people charged violating prohibition law bihar \n",
      "실제 요약 : bihar court makes first conviction under anti liquor law \n",
      "예측 요약 :  haryana jail term for selling liquor bill\n",
      "\n",
      "\n"
     ]
    }
   ],
   "source": [
    "for i in range(500, 550):\n",
    "    print(\"원문 :\", seq2text(encoder_input_test[i]))\n",
    "    print(\"실제 요약 :\", seq2summary(decoder_input_test[i]))\n",
    "    print(\"예측 요약 :\", decode_sequence(encoder_input_test[i].reshape(1, text_max_len)))\n",
    "    print(\"\\n\")"
   ]
  },
  {
   "cell_type": "code",
   "execution_count": 59,
   "metadata": {},
   "outputs": [],
   "source": [
    "from summa.summarizer import summarize"
   ]
  },
  {
   "cell_type": "code",
   "execution_count": null,
   "metadata": {},
   "outputs": [],
   "source": []
  },
  {
   "cell_type": "code",
   "execution_count": null,
   "metadata": {},
   "outputs": [],
   "source": []
  }
 ],
 "metadata": {
  "kernelspec": {
   "display_name": "Python 3 (ipykernel)",
   "language": "python",
   "name": "python3"
  },
  "language_info": {
   "codemirror_mode": {
    "name": "ipython",
    "version": 3
   },
   "file_extension": ".py",
   "mimetype": "text/x-python",
   "name": "python",
   "nbconvert_exporter": "python",
   "pygments_lexer": "ipython3",
   "version": "3.9.7"
  }
 },
 "nbformat": 4,
 "nbformat_minor": 2
}
