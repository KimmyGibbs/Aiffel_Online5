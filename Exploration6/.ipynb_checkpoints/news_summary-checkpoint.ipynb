{
 "cells": [
  {
   "cell_type": "markdown",
   "metadata": {},
   "source": [
    "# 프로젝트: 뉴스기사 요약해보기"
   ]
  },
  {
   "cell_type": "markdown",
   "metadata": {},
   "source": [
    "## Step 0. 라이브러리 준비 및 과제 확인하기"
   ]
  },
  {
   "cell_type": "markdown",
   "metadata": {},
   "source": [
    "- 사용 데이터: [뉴스 기사 데이터](https://github.com/sunnysai12345/News_Summary)\n",
    "- **추상적 요약** 방식으로 데이터 전처리, 어텐션 메커니즘 설계, 결과 비교 수행하기\n",
    "- Summa를 사용한 추출적 요약 해보기"
   ]
  },
  {
   "cell_type": "markdown",
   "metadata": {},
   "source": [
    "평가 기준\n",
    "1. Abstractive 모델 구성을 위한 텍스트 전처리 단계가 체계적으로 진행되었다.\n",
    " - 분석단계, 정제단계, 정규화와 불용어 제거, 데이터셋 분리, 인코딩\n",
    "2. 텍스트 요약모델이 성공적으로 학습되었음을 확인하였다.\n",
    "- train loss와 validation loss 감소 경향 시각화\n",
    " - 실제 요약문의 핵심 단어가 예측 요약 문장에 포함되었는지 확인\n",
    "3. Extractive 요약을 시도해 보고 Abstractive 요약 결과와 함께 비교해 보았다.\n",
    "- 두 요약 결과를 문법완성도 측면, 핵심단어 포함 측면으로 나누어 비교분석\n",
    "- 분석 결과 표로 제시"
   ]
  },
  {
   "cell_type": "code",
   "execution_count": 1,
   "metadata": {},
   "outputs": [],
   "source": [
    "from nltk.corpus import stopwords\n",
    "import nltk\n",
    "import tensorflow as tf\n",
    "import summa\n",
    "import pandas as pd\n",
    "from bs4 import BeautifulSoup\n",
    "import matplotlib.pyplot as plt\n",
    "import re\n",
    "import numpy as np\n",
    "from tensorflow.keras.preprocessing.text import Tokenizer \n",
    "from tensorflow.keras.preprocessing.sequence import pad_sequences\n"
   ]
  },
  {
   "cell_type": "markdown",
   "metadata": {},
   "source": [
    "## Step 1. 데이터 수집하기"
   ]
  },
  {
   "cell_type": "code",
   "execution_count": 2,
   "metadata": {},
   "outputs": [],
   "source": [
    "import urllib.request\n",
    "urllib.request.urlretrieve(\"https://raw.githubusercontent.com/sunnysai12345/News_Summary/master/news_summary_more.csv\", filename=\"news_summary_more.csv\")\n",
    "data = pd.read_csv('news_summary_more.csv', encoding = 'iso-8859-1')"
   ]
  },
  {
   "cell_type": "code",
   "execution_count": 3,
   "metadata": {},
   "outputs": [
    {
     "data": {
      "text/html": [
       "<div>\n",
       "<style scoped>\n",
       "    .dataframe tbody tr th:only-of-type {\n",
       "        vertical-align: middle;\n",
       "    }\n",
       "\n",
       "    .dataframe tbody tr th {\n",
       "        vertical-align: top;\n",
       "    }\n",
       "\n",
       "    .dataframe thead th {\n",
       "        text-align: right;\n",
       "    }\n",
       "</style>\n",
       "<table border=\"1\" class=\"dataframe\">\n",
       "  <thead>\n",
       "    <tr style=\"text-align: right;\">\n",
       "      <th></th>\n",
       "      <th>headlines</th>\n",
       "      <th>text</th>\n",
       "    </tr>\n",
       "  </thead>\n",
       "  <tbody>\n",
       "    <tr>\n",
       "      <th>24728</th>\n",
       "      <td>Nepotism exists, I'd be heartbroken if I was o...</td>\n",
       "      <td>Talking about nepotism, Alia Bhatt said, \"It d...</td>\n",
       "    </tr>\n",
       "    <tr>\n",
       "      <th>10413</th>\n",
       "      <td>Father pushes 6-year-old son to save goal; vid...</td>\n",
       "      <td>A video of a man pushing his six-year-old goal...</td>\n",
       "    </tr>\n",
       "    <tr>\n",
       "      <th>89156</th>\n",
       "      <td>Fans will see my romance with Anjali: Sachin o...</td>\n",
       "      <td>Sachin Tendulkar has said that the story of hi...</td>\n",
       "    </tr>\n",
       "    <tr>\n",
       "      <th>55660</th>\n",
       "      <td>Driverless truck revolves in reverse direction...</td>\n",
       "      <td>A video showing a driverless truck revolving i...</td>\n",
       "    </tr>\n",
       "    <tr>\n",
       "      <th>5878</th>\n",
       "      <td>When I was born I was named Rahul Kumar Johar,...</td>\n",
       "      <td>Filmmaker Karan Johar has revealed on his show...</td>\n",
       "    </tr>\n",
       "    <tr>\n",
       "      <th>23160</th>\n",
       "      <td>50 men return from Gulf to join Army to avenge...</td>\n",
       "      <td>Around 50 youths have left their jobs in Saudi...</td>\n",
       "    </tr>\n",
       "    <tr>\n",
       "      <th>48941</th>\n",
       "      <td>No filmmaker is god, says Rajpal Yadav</td>\n",
       "      <td>Actor Rajpal Yadav has said that no filmmaker ...</td>\n",
       "    </tr>\n",
       "    <tr>\n",
       "      <th>30719</th>\n",
       "      <td>Jethmalani moves SC over invite to BJP to form...</td>\n",
       "      <td>Senior lawyer Ram Jethmalani has moved the Sup...</td>\n",
       "    </tr>\n",
       "    <tr>\n",
       "      <th>83238</th>\n",
       "      <td>New UK aircraft carrier spotted running outdat...</td>\n",
       "      <td>The computers aboard Britain's new aircraft ca...</td>\n",
       "    </tr>\n",
       "    <tr>\n",
       "      <th>54980</th>\n",
       "      <td>67% Mumbai therapists unable to counsel molest...</td>\n",
       "      <td>Two out of every three mental health professio...</td>\n",
       "    </tr>\n",
       "  </tbody>\n",
       "</table>\n",
       "</div>"
      ],
      "text/plain": [
       "                                               headlines  \\\n",
       "24728  Nepotism exists, I'd be heartbroken if I was o...   \n",
       "10413  Father pushes 6-year-old son to save goal; vid...   \n",
       "89156  Fans will see my romance with Anjali: Sachin o...   \n",
       "55660  Driverless truck revolves in reverse direction...   \n",
       "5878   When I was born I was named Rahul Kumar Johar,...   \n",
       "23160  50 men return from Gulf to join Army to avenge...   \n",
       "48941             No filmmaker is god, says Rajpal Yadav   \n",
       "30719  Jethmalani moves SC over invite to BJP to form...   \n",
       "83238  New UK aircraft carrier spotted running outdat...   \n",
       "54980  67% Mumbai therapists unable to counsel molest...   \n",
       "\n",
       "                                                    text  \n",
       "24728  Talking about nepotism, Alia Bhatt said, \"It d...  \n",
       "10413  A video of a man pushing his six-year-old goal...  \n",
       "89156  Sachin Tendulkar has said that the story of hi...  \n",
       "55660  A video showing a driverless truck revolving i...  \n",
       "5878   Filmmaker Karan Johar has revealed on his show...  \n",
       "23160  Around 50 youths have left their jobs in Saudi...  \n",
       "48941  Actor Rajpal Yadav has said that no filmmaker ...  \n",
       "30719  Senior lawyer Ram Jethmalani has moved the Sup...  \n",
       "83238  The computers aboard Britain's new aircraft ca...  \n",
       "54980  Two out of every three mental health professio...  "
      ]
     },
     "execution_count": 3,
     "metadata": {},
     "output_type": "execute_result"
    }
   ],
   "source": [
    "data.sample(10) # headlines, text로 구성된 데이터 확인"
   ]
  },
  {
   "cell_type": "markdown",
   "metadata": {},
   "source": [
    "## Step 2. 데이터 전처리하기(추상적 요약)"
   ]
  },
  {
   "cell_type": "markdown",
   "metadata": {},
   "source": [
    "실습에서 사용된 전처리를 참고하여 각자 필요없다고 생각하는 전처리를 추가 사용하여 텍스트를 정규화 또는 정제해 보세요.  \n",
    " 만약, 불용어 제거를 선택한다면 상대적으로 길이가 짧은 요약 데이터에 대해서도 불용어를 제거하는 것이 좋을지 고민해 보세요."
   ]
  },
  {
   "cell_type": "code",
   "execution_count": 4,
   "metadata": {},
   "outputs": [
    {
     "name": "stdout",
     "output_type": "stream",
     "text": [
      "Unique Text:  98360\n",
      "Unique Summary:  98280\n"
     ]
    }
   ],
   "source": [
    "# 중복 샘플 확인\n",
    "print('Unique Text: ', data['text'].nunique())\n",
    "print('Unique Summary: ', data['headlines'].nunique())\n",
    "# 98401개의 전체 데이터 중 Text는 41개, Summary는 121개가 중복됨"
   ]
  },
  {
   "cell_type": "code",
   "execution_count": 5,
   "metadata": {},
   "outputs": [
    {
     "name": "stdout",
     "output_type": "stream",
     "text": [
      "98360\n"
     ]
    }
   ],
   "source": [
    "# 요약은 겹칠 수 있다고 판단, 중복인 Text만 제거함\n",
    "data.drop_duplicates(subset=['text'], inplace=True)\n",
    "print(len(data))"
   ]
  },
  {
   "cell_type": "code",
   "execution_count": 6,
   "metadata": {},
   "outputs": [
    {
     "name": "stdout",
     "output_type": "stream",
     "text": [
      "headlines    0\n",
      "text         0\n",
      "dtype: int64\n"
     ]
    }
   ],
   "source": [
    "# 결측치 확인\n",
    "print(data.isna().sum()) # 결측치 없음"
   ]
  },
  {
   "cell_type": "markdown",
   "metadata": {},
   "source": [
    "[정규화 사전](https://stackoverflow.com/questions/19790188/expanding-english-language-contractions-in-python)"
   ]
  },
  {
   "cell_type": "code",
   "execution_count": 7,
   "metadata": {},
   "outputs": [],
   "source": [
    "# 텍스트 정규화\n",
    "contractions = { \n",
    "\"ain't\": \"am not / are not / is not / has not / have not\",\n",
    "\"aren't\": \"are not / am not\",\n",
    "\"can't\": \"cannot\",\n",
    "\"can't've\": \"cannot have\",\n",
    "\"'cause\": \"because\",\n",
    "\"could've\": \"could have\",\n",
    "\"couldn't\": \"could not\",\n",
    "\"couldn't've\": \"could not have\",\n",
    "\"didn't\": \"did not\",\n",
    "\"doesn't\": \"does not\",\n",
    "\"don't\": \"do not\",\n",
    "\"hadn't\": \"had not\",\n",
    "\"hadn't've\": \"had not have\",\n",
    "\"hasn't\": \"has not\",\n",
    "\"haven't\": \"have not\",\n",
    "\"he'd\": \"he had / he would\",\n",
    "\"he'd've\": \"he would have\",\n",
    "\"he'll\": \"he shall / he will\",\n",
    "\"he'll've\": \"he shall have / he will have\",\n",
    "\"he's\": \"he has / he is\",\n",
    "\"how'd\": \"how did\",\n",
    "\"how'd'y\": \"how do you\",\n",
    "\"how'll\": \"how will\",\n",
    "\"how's\": \"how has / how is / how does\",\n",
    "\"I'd\": \"I had / I would\",\n",
    "\"I'd've\": \"I would have\",\n",
    "\"I'll\": \"I shall / I will\",\n",
    "\"I'll've\": \"I shall have / I will have\",\n",
    "\"I'm\": \"I am\",\n",
    "\"I've\": \"I have\",\n",
    "\"isn't\": \"is not\",\n",
    "\"it'd\": \"it had / it would\",\n",
    "\"it'd've\": \"it would have\",\n",
    "\"it'll\": \"it shall / it will\",\n",
    "\"it'll've\": \"it shall have / it will have\",\n",
    "\"it's\": \"it has / it is\",\n",
    "\"let's\": \"let us\",\n",
    "\"ma'am\": \"madam\",\n",
    "\"mayn't\": \"may not\",\n",
    "\"might've\": \"might have\",\n",
    "\"mightn't\": \"might not\",\n",
    "\"mightn't've\": \"might not have\",\n",
    "\"must've\": \"must have\",\n",
    "\"mustn't\": \"must not\",\n",
    "\"mustn't've\": \"must not have\",\n",
    "\"needn't\": \"need not\",\n",
    "\"needn't've\": \"need not have\",\n",
    "\"o'clock\": \"of the clock\",\n",
    "\"oughtn't\": \"ought not\",\n",
    "\"oughtn't've\": \"ought not have\",\n",
    "\"shan't\": \"shall not\",\n",
    "\"sha'n't\": \"shall not\",\n",
    "\"shan't've\": \"shall not have\",\n",
    "\"she'd\": \"she had / she would\",\n",
    "\"she'd've\": \"she would have\",\n",
    "\"she'll\": \"she shall / she will\",\n",
    "\"she'll've\": \"she shall have / she will have\",\n",
    "\"she's\": \"she has / she is\",\n",
    "\"should've\": \"should have\",\n",
    "\"shouldn't\": \"should not\",\n",
    "\"shouldn't've\": \"should not have\",\n",
    "\"so've\": \"so have\",\n",
    "\"so's\": \"so as / so is\",\n",
    "\"that'd\": \"that would / that had\",\n",
    "\"that'd've\": \"that would have\",\n",
    "\"that's\": \"that has / that is\",\n",
    "\"there'd\": \"there had / there would\",\n",
    "\"there'd've\": \"there would have\",\n",
    "\"there's\": \"there has / there is\",\n",
    "\"they'd\": \"they had / they would\",\n",
    "\"they'd've\": \"they would have\",\n",
    "\"they'll\": \"they shall / they will\",\n",
    "\"they'll've\": \"they shall have / they will have\",\n",
    "\"they're\": \"they are\",\n",
    "\"they've\": \"they have\",\n",
    "\"to've\": \"to have\",\n",
    "\"wasn't\": \"was not\",\n",
    "\"we'd\": \"we had / we would\",\n",
    "\"we'd've\": \"we would have\",\n",
    "\"we'll\": \"we will\",\n",
    "\"we'll've\": \"we will have\",\n",
    "\"we're\": \"we are\",\n",
    "\"we've\": \"we have\",\n",
    "\"weren't\": \"were not\",\n",
    "\"what'll\": \"what shall / what will\",\n",
    "\"what'll've\": \"what shall have / what will have\",\n",
    "\"what're\": \"what are\",\n",
    "\"what's\": \"what has / what is\",\n",
    "\"what've\": \"what have\",\n",
    "\"when's\": \"when has / when is\",\n",
    "\"when've\": \"when have\",\n",
    "\"where'd\": \"where did\",\n",
    "\"where's\": \"where has / where is\",\n",
    "\"where've\": \"where have\",\n",
    "\"who'll\": \"who shall / who will\",\n",
    "\"who'll've\": \"who shall have / who will have\",\n",
    "\"who's\": \"who has / who is\",\n",
    "\"who've\": \"who have\",\n",
    "\"why's\": \"why has / why is\",\n",
    "\"why've\": \"why have\",\n",
    "\"will've\": \"will have\",\n",
    "\"won't\": \"will not\",\n",
    "\"won't've\": \"will not have\",\n",
    "\"would've\": \"would have\",\n",
    "\"wouldn't\": \"would not\",\n",
    "\"wouldn't've\": \"would not have\",\n",
    "\"y'all\": \"you all\",\n",
    "\"y'all'd\": \"you all would\",\n",
    "\"y'all'd've\": \"you all would have\",\n",
    "\"y'all're\": \"you all are\",\n",
    "\"y'all've\": \"you all have\",\n",
    "\"you'd\": \"you had / you would\",\n",
    "\"you'd've\": \"you would have\",\n",
    "\"you'll\": \"you shall / you will\",\n",
    "\"you'll've\": \"you shall have / you will have\",\n",
    "\"you're\": \"you are\",\n",
    "\"you've\": \"you have\"\n",
    "}"
   ]
  },
  {
   "cell_type": "code",
   "execution_count": 8,
   "metadata": {},
   "outputs": [
    {
     "name": "stderr",
     "output_type": "stream",
     "text": [
      "[nltk_data] Downloading package stopwords to /aiffel/nltk_data...\n",
      "[nltk_data]   Unzipping corpora/stopwords.zip.\n"
     ]
    },
    {
     "data": {
      "text/plain": [
       "True"
      ]
     },
     "execution_count": 8,
     "metadata": {},
     "output_type": "execute_result"
    }
   ],
   "source": [
    "nltk.download('stopwords') # nltk 불용어 다운로드"
   ]
  },
  {
   "cell_type": "code",
   "execution_count": 9,
   "metadata": {},
   "outputs": [
    {
     "name": "stdout",
     "output_type": "stream",
     "text": [
      "179\n"
     ]
    }
   ],
   "source": [
    "stop_words = set(stopwords.words('english'))\n",
    "print(len(stop_words))"
   ]
  },
  {
   "cell_type": "code",
   "execution_count": 10,
   "metadata": {},
   "outputs": [],
   "source": [
    "# 데이터 전처리 함수\n",
    "def preprocess_sentence(sentence, remove_stopwords=True):\n",
    "    sentence = sentence.lower() # 텍스트 소문자화\n",
    "    sentence = BeautifulSoup(sentence, \"lxml\").text # html 태그 제거\n",
    "    sentence = re.sub(r'\\([^)]*\\)', '', sentence) # 괄호로 감싸진 문자열 제거\n",
    "    sentence = re.sub('\"','', sentence) # \"\" 제거\n",
    "    sentence = ' '.join([contractions[t] if t in contractions else t for t in sentence.split(\" \")]) # 정규화\n",
    "    sentence = re.sub(r\"'s\\b\", \"\", sentence) # 소유격 제거\n",
    "    sentence = re.sub(\"[^a-zA-Z]\", \" \", sentence) # 영어 외 문자 공백으로 변환\n",
    "    sentence = re.sub('[m]{2,}', 'mm', sentence) # m이 3개 이상이면 2개로 변경(ex. emmmm)\n",
    "    \n",
    "    # 불용어 제거\n",
    "    if remove_stopwords:\n",
    "        tokens = ' '.join(word for word in sentence.split() if not word in stop_words if len(word) > 1)\n",
    "    # 불용어 미제거\n",
    "    else:\n",
    "        tokens = ' '.join(word for word in sentence.split() if len(word) > 1)\n",
    "    return tokens"
   ]
  },
  {
   "cell_type": "code",
   "execution_count": 11,
   "metadata": {},
   "outputs": [
    {
     "data": {
      "text/plain": [
       "['saurav kant alumnus upgrad iiit pg program machine learning artificial intelligence sr systems engineer infosys almost years work experience program upgrad degree career support helped transition data scientist tech mahindra salary hike upgrad online power learning powered lakh careers',\n",
       " 'kunal shah credit card bill payment platform cred gave users chance win free food swiggy one year pranav kaushik delhi techie bagged reward spending cred coins users get one cred coin per rupee bill paid used avail rewards brands like ixigo bookmyshow ubereats cult fit',\n",
       " 'new zealand defeated india wickets fourth odi hamilton thursday win first match five match odi series india lost international match rohit sharma captaincy consecutive victories dating back march match witnessed india getting seventh lowest total odi cricket history',\n",
       " 'aegon life iterm insurance plan customers enjoy tax benefits premiums paid save taxes plan provides life cover age years also customers options insure critical illnesses disability accidental death benefit rider life cover age years',\n",
       " 'speaking sexual harassment allegations rajkumar hirani sonam kapoor said known hirani many years true metoo movement get derailed metoo movement always believe woman case need reserve judgment added hirani accused assistant worked sanju']"
      ]
     },
     "execution_count": 11,
     "metadata": {},
     "output_type": "execute_result"
    }
   ],
   "source": [
    "# text 전처리(불용어 제거함)\n",
    "clean_text = []\n",
    "for sentence in data['text']:\n",
    "    clean_text.append(preprocess_sentence(sentence))\n",
    "clean_text[:5]"
   ]
  },
  {
   "cell_type": "code",
   "execution_count": 12,
   "metadata": {},
   "outputs": [
    {
     "data": {
      "text/plain": [
       "['upgrad learner switches to career in ml al with salary hike',\n",
       " 'delhi techie wins free food from swiggy for one year on cred',\n",
       " 'new zealand end rohit sharma led india match winning streak',\n",
       " 'aegon life iterm insurance plan helps customers save tax',\n",
       " 'have known hirani for yrs what if metoo claims are not true sonam']"
      ]
     },
     "execution_count": 12,
     "metadata": {},
     "output_type": "execute_result"
    }
   ],
   "source": [
    "# headlines 전처리(불용어 제거하지 않음)\n",
    "clean_summary = []\n",
    "for sentence in data['headlines']:\n",
    "    clean_summary.append(preprocess_sentence(sentence, False))\n",
    "    \n",
    "clean_summary[:5]"
   ]
  },
  {
   "cell_type": "code",
   "execution_count": 13,
   "metadata": {},
   "outputs": [],
   "source": [
    "# 전처리 후 저장\n",
    "data['text'] = clean_text\n",
    "data['headlines'] = clean_summary"
   ]
  },
  {
   "cell_type": "code",
   "execution_count": 14,
   "metadata": {},
   "outputs": [
    {
     "name": "stdout",
     "output_type": "stream",
     "text": [
      "headlines    0\n",
      "text         0\n",
      "dtype: int64\n"
     ]
    }
   ],
   "source": [
    "# 공백인 샘플 null처리\n",
    "data.replace('', np.nan, inplace=True)\n",
    "print(data.isna().sum()) # null 확인"
   ]
  },
  {
   "cell_type": "code",
   "execution_count": 15,
   "metadata": {},
   "outputs": [
    {
     "name": "stdout",
     "output_type": "stream",
     "text": [
      "min text: 1\n",
      "max text: 60\n",
      "text mean: 35.103599023993496\n",
      "min headline: 1\n",
      "max headline: 19\n",
      "headline mean: 9.307015046766978\n"
     ]
    },
    {
     "data": {
      "image/png": "[encoded data removed]",
      "text/plain": [
       "<Figure size 432x288 with 2 Axes>"
      ]
     },
     "metadata": {
      "needs_background": "light"
     },
     "output_type": "display_data"
    },
    {
     "data": {
      "image/png": "[encoded data removed]",
      "text/plain": [
       "<Figure size 432x288 with 1 Axes>"
      ]
     },
     "metadata": {
      "needs_background": "light"
     },
     "output_type": "display_data"
    },
    {
     "data": {
      "image/png": "[encoded data removed]",
      "text/plain": [
       "<Figure size 432x288 with 1 Axes>"
      ]
     },
     "metadata": {
      "needs_background": "light"
     },
     "output_type": "display_data"
    }
   ],
   "source": [
    "# 길이 분포 확인\n",
    "text_len = [len(s.split()) for s in data['text']]\n",
    "summary_len = [len(s.split()) for s in data['headlines']]\n",
    "\n",
    "print(f'min text: {np.min(text_len)}')\n",
    "print(f'max text: {np.max(text_len)}')\n",
    "print(f'text mean: {np.mean(text_len)}')\n",
    "print(f'min headline: {np.min(summary_len)}')\n",
    "print(f'max headline: {np.max(summary_len)}')\n",
    "print(f'headline mean: {np.mean(summary_len)}')\n",
    "\n",
    "plt.subplot(1,2,1)\n",
    "plt.boxplot(summary_len)\n",
    "plt.title('Summary')\n",
    "plt.subplot(1,2,2)\n",
    "plt.boxplot(text_len)\n",
    "plt.title('Text')\n",
    "plt.tight_layout()\n",
    "plt.show()\n",
    "\n",
    "plt.title('Summary')\n",
    "plt.hist(summary_len, bins=40)\n",
    "plt.xlabel('length of samples')\n",
    "plt.ylabel('number of samples')\n",
    "plt.show()\n",
    "\n",
    "plt.title('Text')\n",
    "plt.hist(text_len, bins=40)\n",
    "plt.xlabel('length of samples')\n",
    "plt.ylabel('number of samples')\n",
    "plt.show()"
   ]
  },
  {
   "cell_type": "code",
   "execution_count": 16,
   "metadata": {},
   "outputs": [],
   "source": [
    "# text와 headline(summary) 최대길이 설정\n",
    "# 평균보다 조금 크게 설정함\n",
    "text_max_len = 40\n",
    "summary_max_len = 11"
   ]
  },
  {
   "cell_type": "code",
   "execution_count": 17,
   "metadata": {},
   "outputs": [],
   "source": [
    "def below_threshold_len(max_len, nested_list):\n",
    "    cnt = 0\n",
    "    for s in nested_list:\n",
    "        if(len(s.split()) <= max_len):\n",
    "            cnt = cnt + 1\n",
    "\n",
    "    print(f'전체 샘플 중 길이가 {max_len} 이하인 샘플 비율: {cnt/len(nested_list)}')"
   ]
  },
  {
   "cell_type": "code",
   "execution_count": 18,
   "metadata": {},
   "outputs": [
    {
     "name": "stdout",
     "output_type": "stream",
     "text": [
      "전체 샘플 중 길이가 40 이하인 샘플 비율: 0.9236884912566083\n",
      "전체 샘플 중 길이가 11 이하인 샘플 비율: 0.9426291175274502\n"
     ]
    }
   ],
   "source": [
    "below_threshold_len(text_max_len, data['text'])\n",
    "below_threshold_len(summary_max_len, data['headlines'])"
   ]
  },
  {
   "cell_type": "code",
   "execution_count": 19,
   "metadata": {},
   "outputs": [
    {
     "name": "stdout",
     "output_type": "stream",
     "text": [
      "samples: 85607\n"
     ]
    }
   ],
   "source": [
    "# 최대 길이보다 큰 샘플 제거\n",
    "data = data[data['text'].apply(lambda x: len(x.split()) <= text_max_len)]\n",
    "data = data[data['headlines'].apply(lambda x: len(x.split()) <= summary_max_len)]\n",
    "print(f'samples: {len(data)}')"
   ]
  },
  {
   "cell_type": "code",
   "execution_count": 20,
   "metadata": {},
   "outputs": [
    {
     "data": {
      "text/html": [
       "<div>\n",
       "<style scoped>\n",
       "    .dataframe tbody tr th:only-of-type {\n",
       "        vertical-align: middle;\n",
       "    }\n",
       "\n",
       "    .dataframe tbody tr th {\n",
       "        vertical-align: top;\n",
       "    }\n",
       "\n",
       "    .dataframe thead th {\n",
       "        text-align: right;\n",
       "    }\n",
       "</style>\n",
       "<table border=\"1\" class=\"dataframe\">\n",
       "  <thead>\n",
       "    <tr style=\"text-align: right;\">\n",
       "      <th></th>\n",
       "      <th>headlines</th>\n",
       "      <th>text</th>\n",
       "      <th>decoder_input</th>\n",
       "      <th>decoder_target</th>\n",
       "    </tr>\n",
       "  </thead>\n",
       "  <tbody>\n",
       "    <tr>\n",
       "      <th>0</th>\n",
       "      <td>upgrad learner switches to career in ml al wit...</td>\n",
       "      <td>saurav kant alumnus upgrad iiit pg program mac...</td>\n",
       "      <td>sostoken upgrad learner switches to career in ...</td>\n",
       "      <td>upgrad learner switches to career in ml al wit...</td>\n",
       "    </tr>\n",
       "    <tr>\n",
       "      <th>2</th>\n",
       "      <td>new zealand end rohit sharma led india match w...</td>\n",
       "      <td>new zealand defeated india wickets fourth odi ...</td>\n",
       "      <td>sostoken new zealand end rohit sharma led indi...</td>\n",
       "      <td>new zealand end rohit sharma led india match w...</td>\n",
       "    </tr>\n",
       "    <tr>\n",
       "      <th>3</th>\n",
       "      <td>aegon life iterm insurance plan helps customer...</td>\n",
       "      <td>aegon life iterm insurance plan customers enjo...</td>\n",
       "      <td>sostoken aegon life iterm insurance plan helps...</td>\n",
       "      <td>aegon life iterm insurance plan helps customer...</td>\n",
       "    </tr>\n",
       "    <tr>\n",
       "      <th>5</th>\n",
       "      <td>rahat fateh ali khan denies getting notice for...</td>\n",
       "      <td>pakistani singer rahat fateh ali khan denied r...</td>\n",
       "      <td>sostoken rahat fateh ali khan denies getting n...</td>\n",
       "      <td>rahat fateh ali khan denies getting notice for...</td>\n",
       "    </tr>\n",
       "    <tr>\n",
       "      <th>7</th>\n",
       "      <td>govt directs alok verma to join work day befor...</td>\n",
       "      <td>weeks ex cbi director alok verma told departme...</td>\n",
       "      <td>sostoken govt directs alok verma to join work ...</td>\n",
       "      <td>govt directs alok verma to join work day befor...</td>\n",
       "    </tr>\n",
       "  </tbody>\n",
       "</table>\n",
       "</div>"
      ],
      "text/plain": [
       "                                           headlines  \\\n",
       "0  upgrad learner switches to career in ml al wit...   \n",
       "2  new zealand end rohit sharma led india match w...   \n",
       "3  aegon life iterm insurance plan helps customer...   \n",
       "5  rahat fateh ali khan denies getting notice for...   \n",
       "7  govt directs alok verma to join work day befor...   \n",
       "\n",
       "                                                text  \\\n",
       "0  saurav kant alumnus upgrad iiit pg program mac...   \n",
       "2  new zealand defeated india wickets fourth odi ...   \n",
       "3  aegon life iterm insurance plan customers enjo...   \n",
       "5  pakistani singer rahat fateh ali khan denied r...   \n",
       "7  weeks ex cbi director alok verma told departme...   \n",
       "\n",
       "                                       decoder_input  \\\n",
       "0  sostoken upgrad learner switches to career in ...   \n",
       "2  sostoken new zealand end rohit sharma led indi...   \n",
       "3  sostoken aegon life iterm insurance plan helps...   \n",
       "5  sostoken rahat fateh ali khan denies getting n...   \n",
       "7  sostoken govt directs alok verma to join work ...   \n",
       "\n",
       "                                      decoder_target  \n",
       "0  upgrad learner switches to career in ml al wit...  \n",
       "2  new zealand end rohit sharma led india match w...  \n",
       "3  aegon life iterm insurance plan helps customer...  \n",
       "5  rahat fateh ali khan denies getting notice for...  \n",
       "7  govt directs alok verma to join work day befor...  "
      ]
     },
     "execution_count": 20,
     "metadata": {},
     "output_type": "execute_result"
    }
   ],
   "source": [
    "# 요약 데이터에 시작, 종료 토큰 추가\n",
    "data['decoder_input'] = data['headlines'].apply(lambda x : 'sostoken ' + x)\n",
    "data['decoder_target'] = data['headlines'].apply(lambda x: x + ' eostoken')\n",
    "data.head()"
   ]
  },
  {
   "cell_type": "code",
   "execution_count": 21,
   "metadata": {},
   "outputs": [],
   "source": [
    "# 인코더의 입력, 디코더의 입력/레이블 지정\n",
    "encoder_input = np.array(data['text'])\n",
    "decoder_input = np.array(data['decoder_input'])\n",
    "decoder_target = np.array(data['decoder_target'])"
   ]
  },
  {
   "cell_type": "code",
   "execution_count": 22,
   "metadata": {},
   "outputs": [
    {
     "name": "stdout",
     "output_type": "stream",
     "text": [
      "[ 6597 46621 16524 ... 61419 49064 33155]\n"
     ]
    }
   ],
   "source": [
    "# train, test data 분리\n",
    "indices = np.arange(encoder_input.shape[0]) # 정수 시퀀스 생성\n",
    "np.random.shuffle(indices)\n",
    "print(indices)"
   ]
  },
  {
   "cell_type": "code",
   "execution_count": 23,
   "metadata": {},
   "outputs": [],
   "source": [
    "# shuffle sample\n",
    "encoder_input = encoder_input[indices]\n",
    "decoder_input = decoder_input[indices]\n",
    "decoder_target = decoder_target[indices]"
   ]
  },
  {
   "cell_type": "code",
   "execution_count": 24,
   "metadata": {},
   "outputs": [
    {
     "name": "stdout",
     "output_type": "stream",
     "text": [
      "test data: 17121\n"
     ]
    }
   ],
   "source": [
    "n_of_val = int(len(encoder_input)*0.2)\n",
    "print(f'test data: {n_of_val}')"
   ]
  },
  {
   "cell_type": "code",
   "execution_count": 25,
   "metadata": {},
   "outputs": [],
   "source": [
    "# train, test data 준비\n",
    "encoder_input_train = encoder_input[:-n_of_val]\n",
    "decoder_input_train = decoder_input[:-n_of_val]\n",
    "decoder_target_train = decoder_target[:-n_of_val]\n",
    "\n",
    "encoder_input_test = encoder_input[-n_of_val:]\n",
    "decoder_input_test = decoder_input[-n_of_val:]\n",
    "decoder_target_test = decoder_target[-n_of_val:]"
   ]
  },
  {
   "cell_type": "code",
   "execution_count": 26,
   "metadata": {},
   "outputs": [
    {
     "name": "stdout",
     "output_type": "stream",
     "text": [
      "encoder input train: 68486\n",
      "decoder input train: 68486\n",
      "encoder input test: 17121\n",
      "decoder input test: 17121\n"
     ]
    }
   ],
   "source": [
    "print(f'encoder input train: {len(encoder_input_train)}')\n",
    "print(f'decoder input train: {len(decoder_input_train)}')\n",
    "print(f'encoder input test: {len(encoder_input_test)}')\n",
    "print(f'decoder input test: {len(decoder_input_test)}')"
   ]
  },
  {
   "cell_type": "code",
   "execution_count": 27,
   "metadata": {},
   "outputs": [],
   "source": [
    "# tokenizer 정의\n",
    "src_tokenizer = Tokenizer()\n",
    "src_tokenizer.fit_on_texts(encoder_input_train)"
   ]
  },
  {
   "cell_type": "code",
   "execution_count": 28,
   "metadata": {},
   "outputs": [
    {
     "name": "stdout",
     "output_type": "stream",
     "text": [
      "단어 집합의 크기: 64675\n",
      "등장 빈도가 6번 이하인 단어의 수: 44155\n",
      "단어 집합에서 희귀 단어를 제외시킬 경우 크기: 20520\n",
      "단어 집합에서 희귀 단어의 비율: 68.27212988017008\n",
      "전체 등장 빈도에서 희귀 단어 등장 비율: 3.7934641793662833\n"
     ]
    }
   ],
   "source": [
    "# 단어 등장 빈도수 확인\n",
    "threshold = 7\n",
    "total_cnt = len(src_tokenizer.word_index) # 단어 수\n",
    "rare_cnt = 0 # 등장 빈도수 < threshold\n",
    "total_freq = 0 # 훈련 데이터 전체 단어 빈도수 총 합\n",
    "rare_freq = 0 # 등장 빈도수 < threshold 총 합\n",
    "\n",
    "for key, value in src_tokenizer.word_counts.items():\n",
    "    total_freq += value\n",
    "    \n",
    "    if value < threshold:\n",
    "        rare_cnt += 1\n",
    "        rare_freq += value\n",
    "\n",
    "print(f'단어 집합의 크기: {total_cnt}')\n",
    "print(f'등장 빈도가 {threshold-1}번 이하인 단어의 수: {rare_cnt}')\n",
    "print(f'단어 집합에서 희귀 단어를 제외시킬 경우 크기: {total_cnt - rare_cnt}')\n",
    "print(f'단어 집합에서 희귀 단어의 비율: {(rare_cnt/total_cnt)*100}')\n",
    "print(f'전체 등장 빈도에서 희귀 단어 등장 비율: {(rare_freq/total_freq)*100}')"
   ]
  },
  {
   "cell_type": "code",
   "execution_count": 29,
   "metadata": {},
   "outputs": [],
   "source": [
    "# 등장 빈도 6회 미만 단어 제외\n",
    "src_vocab = 20000\n",
    "src_tokenizer = Tokenizer(num_words=src_vocab)\n",
    "src_tokenizer.fit_on_texts(encoder_input_train)\n",
    "\n",
    "#텍스트 시퀀스를 정수로 변환\n",
    "encoder_input_train = src_tokenizer.texts_to_sequences(encoder_input_train)\n",
    "encoder_input_test = src_tokenizer.texts_to_sequences(encoder_input_test)"
   ]
  },
  {
   "cell_type": "code",
   "execution_count": 30,
   "metadata": {},
   "outputs": [],
   "source": [
    "tar_tokenizer = Tokenizer()\n",
    "tar_tokenizer.fit_on_texts(decoder_input_train)"
   ]
  },
  {
   "cell_type": "code",
   "execution_count": 31,
   "metadata": {},
   "outputs": [
    {
     "name": "stdout",
     "output_type": "stream",
     "text": [
      "단어 집합의 크기: 28459\n",
      "등장 빈도가 6번 이하인 단어의 수: 19660\n",
      "단어 집합에서 희귀 단어를 제외시킬 경우 크기: 8799\n",
      "단어 집합에서 희귀 단어의 비율: 69.08183702870797\n",
      "전체 등장 빈도에서 희귀 단어 등장 비율: 5.9762295282979405\n"
     ]
    }
   ],
   "source": [
    "# 단어 등장 빈도수 확인\n",
    "threshold = 7\n",
    "total_cnt = len(tar_tokenizer.word_index) # 단어 수\n",
    "rare_cnt = 0 # 등장 빈도수 < threshold\n",
    "total_freq = 0 # 훈련 데이터 전체 단어 빈도수 총 합\n",
    "rare_freq = 0 # 등장 빈도수 < threshold 총 합\n",
    "\n",
    "for key, value in tar_tokenizer.word_counts.items():\n",
    "    total_freq += value\n",
    "    \n",
    "    if value < threshold:\n",
    "        rare_cnt += 1\n",
    "        rare_freq += value\n",
    "\n",
    "print(f'단어 집합의 크기: {total_cnt}')\n",
    "print(f'등장 빈도가 {threshold-1}번 이하인 단어의 수: {rare_cnt}')\n",
    "print(f'단어 집합에서 희귀 단어를 제외시킬 경우 크기: {total_cnt - rare_cnt}')\n",
    "print(f'단어 집합에서 희귀 단어의 비율: {(rare_cnt/total_cnt)*100}')\n",
    "print(f'전체 등장 빈도에서 희귀 단어 등장 비율: {(rare_freq/total_freq)*100}')"
   ]
  },
  {
   "cell_type": "code",
   "execution_count": 32,
   "metadata": {},
   "outputs": [],
   "source": [
    "tar_vocab = 9000\n",
    "tar_tokenizer = Tokenizer(num_words=tar_vocab)\n",
    "tar_tokenizer.fit_on_texts(decoder_input_train)\n",
    "tar_tokenizer.fit_on_texts(decoder_target_train)"
   ]
  },
  {
   "cell_type": "code",
   "execution_count": 33,
   "metadata": {},
   "outputs": [],
   "source": [
    "# 텍스트 시퀀스 정수로 변환\n",
    "decoder_input_train = tar_tokenizer.texts_to_sequences(decoder_input_train) \n",
    "decoder_target_train = tar_tokenizer.texts_to_sequences(decoder_target_train)\n",
    "decoder_input_test = tar_tokenizer.texts_to_sequences(decoder_input_test)\n",
    "decoder_target_test = tar_tokenizer.texts_to_sequences(decoder_target_test)"
   ]
  },
  {
   "cell_type": "code",
   "execution_count": 34,
   "metadata": {},
   "outputs": [
    {
     "name": "stdout",
     "output_type": "stream",
     "text": [
      "drop train: 0\n",
      "drop test: 0\n"
     ]
    }
   ],
   "source": [
    "# 빈 샘플 제거\n",
    "drop_train = [index for index, sentence in enumerate(decoder_input_train) if len(sentence) == 1]\n",
    "drop_test = [index for index, sentence in enumerate(decoder_input_test) if len(sentence) == 1]\n",
    "\n",
    "print(f'drop train: {len(drop_train)}')\n",
    "print(f'drop test: {len(drop_test)}')"
   ]
  },
  {
   "cell_type": "code",
   "execution_count": 35,
   "metadata": {},
   "outputs": [
    {
     "name": "stdout",
     "output_type": "stream",
     "text": [
      "encoder input train: 68486\n",
      "decoder input train: 68486\n",
      "encoder input test: 17121\n",
      "decoder input test: 17121\n"
     ]
    }
   ],
   "source": [
    "# drop할 test data가 없으므로 train data에 대해서만 처리\n",
    "\n",
    "encoder_input_train = np.delete(encoder_input_train, drop_train, axis=0)\n",
    "decoder_input_train = np.delete(decoder_input_train, drop_train, axis=0)\n",
    "decoder_target_train = np.delete(decoder_target_train, drop_train, axis=0)\n",
    "\n",
    "print(f'encoder input train: {len(encoder_input_train)}')\n",
    "print(f'decoder input train: {len(decoder_input_train)}')\n",
    "print(f'encoder input test: {len(encoder_input_test)}')\n",
    "print(f'decoder input test: {len(decoder_input_test)}')"
   ]
  },
  {
   "cell_type": "code",
   "execution_count": 36,
   "metadata": {},
   "outputs": [],
   "source": [
    "# padding\n",
    "encoder_input_train = pad_sequences(encoder_input_train, maxlen = text_max_len, padding='post')\n",
    "encoder_input_test = pad_sequences(encoder_input_test, maxlen = text_max_len, padding='post')\n",
    "decoder_input_train = pad_sequences(decoder_input_train, maxlen = summary_max_len, padding='post')\n",
    "decoder_target_train = pad_sequences(decoder_target_train, maxlen = summary_max_len, padding='post')\n",
    "decoder_input_test = pad_sequences(decoder_input_test, maxlen = summary_max_len, padding='post')\n",
    "decoder_target_test = pad_sequences(decoder_target_test, maxlen = summary_max_len, padding='post')"
   ]
  },
  {
   "cell_type": "markdown",
   "metadata": {},
   "source": [
    "## Step 3. 어텐션 메커니즘 사용하기(추상적 요약)"
   ]
  },
  {
   "cell_type": "code",
   "execution_count": 37,
   "metadata": {},
   "outputs": [],
   "source": [
    "from tensorflow.keras.layers import Input, LSTM, Embedding, Dense, Concatenate\n",
    "from tensorflow.keras.models import Model\n",
    "from tensorflow.keras.callbacks import EarlyStopping, ModelCheckpoint "
   ]
  },
  {
   "cell_type": "code",
   "execution_count": 38,
   "metadata": {},
   "outputs": [],
   "source": [
    "# 인코더 설계\n",
    "embedding_dim = 128\n",
    "hidden_size = 256\n",
    "\n",
    "# 인코더\n",
    "encoder_inputs = Input(shape=(text_max_len,))\n",
    "\n",
    "# 인코더의 임베딩 층\n",
    "enc_emb = Embedding(src_vocab, embedding_dim)(encoder_inputs)\n",
    "\n",
    "# 인코더의 LSTM 1\n",
    "encoder_lstm1 = LSTM(hidden_size, return_sequences=True, return_state=True ,dropout = 0.4)\n",
    "encoder_output1, state_h1, state_c1 = encoder_lstm1(enc_emb)\n",
    "\n",
    "# 인코더의 LSTM 2\n",
    "encoder_lstm2 = LSTM(hidden_size, return_sequences=True, return_state=True, dropout=0.4)\n",
    "encoder_output2, state_h2, state_c2 = encoder_lstm2(encoder_output1)\n",
    "\n",
    "# 인코더의 LSTM 3\n",
    "encoder_lstm3 = LSTM(hidden_size, return_state=True, return_sequences=True, dropout=0.4)\n",
    "encoder_outputs, state_h, state_c= encoder_lstm3(encoder_output2)"
   ]
  },
  {
   "cell_type": "code",
   "execution_count": 39,
   "metadata": {},
   "outputs": [],
   "source": [
    "# 디코더 설계\n",
    "# 디코더\n",
    "decoder_inputs = Input(shape=(None,))\n",
    "\n",
    "# 디코더의 임베딩 층\n",
    "dec_emb_layer = Embedding(tar_vocab, embedding_dim)\n",
    "dec_emb = dec_emb_layer(decoder_inputs)\n",
    "\n",
    "# 디코더의 LSTM\n",
    "decoder_lstm = LSTM(hidden_size, return_sequences = True, return_state = True, dropout = 0.4)\n",
    "decoder_outputs, _, _ = decoder_lstm(dec_emb, initial_state = [state_h, state_c])"
   ]
  },
  {
   "cell_type": "code",
   "execution_count": 40,
   "metadata": {},
   "outputs": [
    {
     "name": "stdout",
     "output_type": "stream",
     "text": [
      "Model: \"model\"\n",
      "__________________________________________________________________________________________________\n",
      "Layer (type)                    Output Shape         Param #     Connected to                     \n",
      "==================================================================================================\n",
      "input_1 (InputLayer)            [(None, 40)]         0                                            \n",
      "__________________________________________________________________________________________________\n",
      "embedding (Embedding)           (None, 40, 128)      2560000     input_1[0][0]                    \n",
      "__________________________________________________________________________________________________\n",
      "lstm (LSTM)                     [(None, 40, 256), (N 394240      embedding[0][0]                  \n",
      "__________________________________________________________________________________________________\n",
      "input_2 (InputLayer)            [(None, None)]       0                                            \n",
      "__________________________________________________________________________________________________\n",
      "lstm_1 (LSTM)                   [(None, 40, 256), (N 525312      lstm[0][0]                       \n",
      "__________________________________________________________________________________________________\n",
      "embedding_1 (Embedding)         (None, None, 128)    1152000     input_2[0][0]                    \n",
      "__________________________________________________________________________________________________\n",
      "lstm_2 (LSTM)                   [(None, 40, 256), (N 525312      lstm_1[0][0]                     \n",
      "__________________________________________________________________________________________________\n",
      "lstm_3 (LSTM)                   [(None, None, 256),  394240      embedding_1[0][0]                \n",
      "                                                                 lstm_2[0][1]                     \n",
      "                                                                 lstm_2[0][2]                     \n",
      "__________________________________________________________________________________________________\n",
      "attention_layer (AdditiveAttent (None, None, 256)    256         lstm_3[0][0]                     \n",
      "                                                                 lstm_2[0][0]                     \n",
      "__________________________________________________________________________________________________\n",
      "concat_layer (Concatenate)      (None, None, 512)    0           lstm_3[0][0]                     \n",
      "                                                                 attention_layer[0][0]            \n",
      "__________________________________________________________________________________________________\n",
      "dense (Dense)                   (None, None, 9000)   4617000     concat_layer[0][0]               \n",
      "==================================================================================================\n",
      "Total params: 10,168,360\n",
      "Trainable params: 10,168,360\n",
      "Non-trainable params: 0\n",
      "__________________________________________________________________________________________________\n"
     ]
    }
   ],
   "source": [
    "from tensorflow.keras.layers import AdditiveAttention\n",
    "\n",
    "# 어텐션 층(어텐션 함수)\n",
    "attn_layer = AdditiveAttention(name='attention_layer')\n",
    "\n",
    "# 인코더와 디코더의 모든 time step의 hidden state를 어텐션 층에 전달하고 결과를 리턴\n",
    "attn_out = attn_layer([decoder_outputs, encoder_outputs])\n",
    "\n",
    "\n",
    "# 어텐션의 결과와 디코더의 hidden state들을 연결\n",
    "decoder_concat_input = Concatenate(axis=-1, name='concat_layer')([decoder_outputs, attn_out])\n",
    "\n",
    "# 디코더의 출력층\n",
    "decoder_softmax_layer = Dense(tar_vocab, activation='softmax')\n",
    "decoder_softmax_outputs = decoder_softmax_layer(decoder_concat_input)\n",
    "\n",
    "# 모델 정의\n",
    "model = Model([encoder_inputs, decoder_inputs], decoder_softmax_outputs)\n",
    "model.summary()"
   ]
  },
  {
   "cell_type": "code",
   "execution_count": 41,
   "metadata": {},
   "outputs": [],
   "source": [
    "# model compile\n",
    "model.compile(optimizer='rmsprop', loss='sparse_categorical_crossentropy')"
   ]
  },
  {
   "cell_type": "code",
   "execution_count": 42,
   "metadata": {},
   "outputs": [
    {
     "name": "stdout",
     "output_type": "stream",
     "text": [
      "Epoch 1/50\n",
      "268/268 [==============================] - 58s 85ms/step - loss: 5.9452 - val_loss: 5.5217\n",
      "Epoch 2/50\n",
      "268/268 [==============================] - 22s 82ms/step - loss: 5.3893 - val_loss: 5.1695\n",
      "Epoch 3/50\n",
      "268/268 [==============================] - 22s 83ms/step - loss: 5.0344 - val_loss: 4.8752\n",
      "Epoch 4/50\n",
      "268/268 [==============================] - 23s 85ms/step - loss: 4.7562 - val_loss: 4.6668\n",
      "Epoch 5/50\n",
      "268/268 [==============================] - 23s 87ms/step - loss: 4.5325 - val_loss: 4.5190\n",
      "Epoch 6/50\n",
      "268/268 [==============================] - 23s 87ms/step - loss: 4.3435 - val_loss: 4.3980\n",
      "Epoch 7/50\n",
      "268/268 [==============================] - 23s 86ms/step - loss: 4.1821 - val_loss: 4.3018\n",
      "Epoch 8/50\n",
      "268/268 [==============================] - 23s 86ms/step - loss: 4.0380 - val_loss: 4.2287\n",
      "Epoch 9/50\n",
      "268/268 [==============================] - 23s 87ms/step - loss: 3.9127 - val_loss: 4.1586\n",
      "Epoch 10/50\n",
      "268/268 [==============================] - 23s 86ms/step - loss: 3.7999 - val_loss: 4.1182\n",
      "Epoch 11/50\n",
      "268/268 [==============================] - 23s 86ms/step - loss: 3.6980 - val_loss: 4.0777\n",
      "Epoch 12/50\n",
      "268/268 [==============================] - 23s 86ms/step - loss: 3.6053 - val_loss: 4.0358\n",
      "Epoch 13/50\n",
      "268/268 [==============================] - 23s 87ms/step - loss: 3.5188 - val_loss: 4.0163\n",
      "Epoch 14/50\n",
      "268/268 [==============================] - 23s 86ms/step - loss: 3.4393 - val_loss: 3.9916\n",
      "Epoch 15/50\n",
      "268/268 [==============================] - 23s 86ms/step - loss: 3.3651 - val_loss: 3.9729\n",
      "Epoch 16/50\n",
      "268/268 [==============================] - 23s 87ms/step - loss: 3.2974 - val_loss: 3.9547\n",
      "Epoch 17/50\n",
      "268/268 [==============================] - 23s 86ms/step - loss: 3.2357 - val_loss: 3.9463\n",
      "Epoch 18/50\n",
      "268/268 [==============================] - 23s 87ms/step - loss: 3.1749 - val_loss: 3.9372\n",
      "Epoch 19/50\n",
      "268/268 [==============================] - 23s 86ms/step - loss: 3.1196 - val_loss: 3.9296\n",
      "Epoch 20/50\n",
      "268/268 [==============================] - 23s 86ms/step - loss: 3.0657 - val_loss: 3.9240\n",
      "Epoch 21/50\n",
      "268/268 [==============================] - 23s 86ms/step - loss: 3.0166 - val_loss: 3.9172\n",
      "Epoch 22/50\n",
      "268/268 [==============================] - 23s 86ms/step - loss: 2.9687 - val_loss: 3.9193\n",
      "Epoch 23/50\n",
      "268/268 [==============================] - 23s 86ms/step - loss: 2.9234 - val_loss: 3.9150\n",
      "Epoch 24/50\n",
      "268/268 [==============================] - 23s 86ms/step - loss: 2.8795 - val_loss: 3.9155\n",
      "Epoch 25/50\n",
      "268/268 [==============================] - 23s 86ms/step - loss: 2.8377 - val_loss: 3.9201\n",
      "Epoch 00025: early stopping\n"
     ]
    }
   ],
   "source": [
    "es = EarlyStopping(monitor='val_loss', mode='min', verbose=1, patience = 2) # 조기종료 조건 설정\n",
    "history = model.fit(x = [encoder_input_train, decoder_input_train], y = decoder_target_train, \\\n",
    "          validation_data = ([encoder_input_test, decoder_input_test], decoder_target_test),\n",
    "          batch_size = 256, callbacks=[es], epochs = 50)"
   ]
  },
  {
   "cell_type": "code",
   "execution_count": 43,
   "metadata": {},
   "outputs": [
    {
     "data": {
      "image/png": "[encoded data removed]",
      "text/plain": [
       "<Figure size 432x288 with 1 Axes>"
      ]
     },
     "metadata": {
      "needs_background": "light"
     },
     "output_type": "display_data"
    }
   ],
   "source": [
    "plt.plot(history.history['loss'], label='train')\n",
    "plt.plot(history.history['val_loss'], label='test')\n",
    "plt.legend()\n",
    "plt.show()"
   ]
  },
  {
   "cell_type": "code",
   "execution_count": 44,
   "metadata": {},
   "outputs": [],
   "source": [
    "src_index_to_word = src_tokenizer.index_word # 원문 단어 집합에서 정수 -> 단어를 얻음\n",
    "tar_word_to_index = tar_tokenizer.word_index # 요약 단어 집합에서 단어 -> 정수를 얻음\n",
    "tar_index_to_word = tar_tokenizer.index_word # 요약 단어 집합에서 정수 -> 단어를 얻음"
   ]
  },
  {
   "cell_type": "code",
   "execution_count": 45,
   "metadata": {},
   "outputs": [],
   "source": [
    "# 인코더 설계\n",
    "encoder_model = Model(inputs=encoder_inputs, outputs=[encoder_outputs, state_h, state_c])"
   ]
  },
  {
   "cell_type": "code",
   "execution_count": 46,
   "metadata": {},
   "outputs": [],
   "source": [
    "# 이전 시점의 상태들을 저장하는 텐서\n",
    "decoder_state_input_h = Input(shape=(hidden_size,))\n",
    "decoder_state_input_c = Input(shape=(hidden_size,))\n",
    "\n",
    "dec_emb2 = dec_emb_layer(decoder_inputs)\n",
    "# 문장의 다음 단어를 예측하기 위해서 초기 상태(initial_state)를 이전 시점의 상태로 사용. 이는 뒤의 함수 decode_sequence()에 구현\n",
    "# 훈련 과정에서와 달리 LSTM의 리턴하는 은닉 상태와 셀 상태인 state_h와 state_c를 버리지 않음.\n",
    "decoder_outputs2, state_h2, state_c2 = decoder_lstm(dec_emb2, initial_state=[decoder_state_input_h, decoder_state_input_c])"
   ]
  },
  {
   "cell_type": "code",
   "execution_count": 47,
   "metadata": {},
   "outputs": [],
   "source": [
    "# 어텐션 함수\n",
    "decoder_hidden_state_input = Input(shape=(text_max_len, hidden_size))\n",
    "attn_out_inf = attn_layer([decoder_outputs2, decoder_hidden_state_input])\n",
    "decoder_inf_concat = Concatenate(axis=-1, name='concat')([decoder_outputs2, attn_out_inf])\n",
    "\n",
    "# 디코더의 출력층\n",
    "decoder_outputs2 = decoder_softmax_layer(decoder_inf_concat) \n",
    "\n",
    "# 최종 디코더 모델\n",
    "decoder_model = Model(\n",
    "    [decoder_inputs] + [decoder_hidden_state_input,decoder_state_input_h, decoder_state_input_c],\n",
    "    [decoder_outputs2] + [state_h2, state_c2])"
   ]
  },
  {
   "cell_type": "code",
   "execution_count": 48,
   "metadata": {},
   "outputs": [],
   "source": [
    "def decode_sequence(input_seq):\n",
    "    # 입력으로부터 인코더의 상태를 얻음\n",
    "    e_out, e_h, e_c = encoder_model.predict(input_seq)\n",
    "\n",
    "     # <SOS>에 해당하는 토큰 생성\n",
    "    target_seq = np.zeros((1,1))\n",
    "    target_seq[0, 0] = tar_word_to_index['sostoken']\n",
    "\n",
    "    stop_condition = False\n",
    "    decoded_sentence = ''\n",
    "    while not stop_condition: # stop_condition이 True가 될 때까지 루프 반복\n",
    "\n",
    "        output_tokens, h, c = decoder_model.predict([target_seq] + [e_out, e_h, e_c])\n",
    "        sampled_token_index = np.argmax(output_tokens[0, -1, :])\n",
    "        sampled_token = tar_index_to_word[sampled_token_index]\n",
    "\n",
    "        if (sampled_token!='eostoken'):\n",
    "            decoded_sentence += ' '+sampled_token\n",
    "\n",
    "        #  <eos>에 도달하거나 최대 길이를 넘으면 중단.\n",
    "        if (sampled_token == 'eostoken'  or len(decoded_sentence.split()) >= (summary_max_len-1)):\n",
    "            stop_condition = True\n",
    "\n",
    "        # 길이가 1인 타겟 시퀀스를 업데이트\n",
    "        target_seq = np.zeros((1,1))\n",
    "        target_seq[0, 0] = sampled_token_index\n",
    "\n",
    "        # 상태를 업데이트 합니다.\n",
    "        e_h, e_c = h, c\n",
    "\n",
    "    return decoded_sentence"
   ]
  },
  {
   "cell_type": "code",
   "execution_count": 49,
   "metadata": {},
   "outputs": [],
   "source": [
    "# 원문의 정수 시퀀스를 텍스트 시퀀스로 변환\n",
    "def seq2text(input_seq):\n",
    "    sentence=''\n",
    "    for i in input_seq:\n",
    "        if(i!=0):\n",
    "            sentence = sentence + src_index_to_word[i]+' '\n",
    "    return sentence\n",
    "\n",
    "# 요약문의 정수 시퀀스를 텍스트 시퀀스로 변환\n",
    "def seq2summary(input_seq):\n",
    "    sentence=''\n",
    "    for i in input_seq:\n",
    "        if((i!=0 and i!=tar_word_to_index['sostoken']) and i!=tar_word_to_index['eostoken']):\n",
    "            sentence = sentence + tar_index_to_word[i] + ' '\n",
    "    return sentence"
   ]
  },
  {
   "cell_type": "code",
   "execution_count": 101,
   "metadata": {},
   "outputs": [
    {
     "name": "stdout",
     "output_type": "stream",
     "text": [
      "원문 : video two doctors fighting inside operation theatre performing surgery woman umaid hospital rajasthan jodhpur surfaced online woman operating table delivered healthy girl another patient undergoing section room lost baby state government ordered probe incident \n",
      "실제 요약 : raj doctors caught fighting during surgery probe ordered \n",
      "예측 요약 :  doctor gives birth to remove patient from hospital\n",
      "\n",
      "\n",
      "원문 : inmates south african prison given strip show three women prompting outrage across country high crime rates event took place youth month celebrations official programme designed aid rehabilitation prisoners prison reportedly houses country dangerous criminals including rapists murderers \n",
      "실제 요약 : strip show organised for inmates in south african prison \n",
      "예측 요약 :  inmates inmates to get free prison in prison\n",
      "\n",
      "\n",
      "원문 : nepal measure mount everest period two years amid fears april earthquake could affected stature government nepal set measure mountain even though indian chinese institutions offered help everest height metres satellite images earthquake show mountain may \n",
      "실제 요약 : nepal to measure everest again after earthquake \n",
      "예측 요약 :  over india first ever coast in years\n",
      "\n",
      "\n",
      "원문 : delhi high court tuesday said entire delhi unauthorised response demolition colony encroachment dwellers years court remarked told delhi development authority carried demolition people ineligible relocation despite directed \n",
      "실제 요약 : entire delhi is unauthorised delhi hc over demolition drive \n",
      "예측 요약 :  delhi hc orders to delhi hc\n",
      "\n",
      "\n",
      "원문 : chairman chinese internet giant tencent became country richest man overtaking commerce major alibaba founder jack monday marked first time ranked top china gain share price tencent added nearly billion fortune stood estimated billion \n",
      "실제 요약 : tencent chairman ma becomes china richest person \n",
      "예측 요약 :  alibaba becomes st indian origin man to become bn\n",
      "\n",
      "\n",
      "원문 : norway global seed vault meant preserve world crops doomsday scenarios like nuclear war asteroid strike flooded vault built breached temperatures arctic post earth hottest recorded year sent water entrance however damage done seeds said government official \n",
      "실제 요약 : flooded after soil \n",
      "예측 요약 :  nuclear plant may be closed in years after years\n",
      "\n",
      "\n",
      "원문 : bihar rjd mla yadav booked abusing slapping man district land dispute man ashish kumar sharma accused yadav others trying extort lakh sharma claimed overseeing construction work boundary wall plot assaulted \n",
      "실제 요약 : rjd mla slaps man over land dispute video goes viral \n",
      "예측 요약 :  bjp mla son booked for assaulting woman\n",
      "\n",
      "\n",
      "원문 : thousands people began forced chinese occupation tibet march triggered fears dalai lama may kidnapped arrested killed chinese forces uprising subsequently led declaration tibetan independence dalai lama forced take refuge india \n",
      "실제 요약 : tibetan against chinese rule years ago \n",
      "예측 요약 :  china to migrant embassy in sweden\n",
      "\n",
      "\n",
      "원문 : argentina based holdings largest operator mcdonald restaurants world seen shares gain past year mcdonald gained currently operates restaurants latin america notably company investing million open new restaurants update existing ones \n",
      "실제 요약 : shares of mcdonald biggest surge in year \n",
      "예측 요약 :  billionaire buys the first ever restaurant\n",
      "\n",
      "\n",
      "원문 : arena claimed winners world cups last three fifa world cup matches hosted south korea knocked four time champions germany victory group stage two time champions argentina crashed loss france last five time champions brazil exited losing belgium quarter finals \n",
      "실제 요약 : same russian venue claims winners of world in games \n",
      "예측 요약 :  india wc winning team world cup opener despite wc\n",
      "\n",
      "\n",
      "원문 : chechen leader ramzan kadyrov vowed arrest us president donald trump german chancellor angela merkel ever visit country kadyrov added fear western sanctions since assets could seized nations said chechnya imposed sanctions trump merkel \n",
      "실제 요약 : will jail trump if he visits country leader \n",
      "예측 요약 :  prez trump formally attend white house in us\n",
      "\n",
      "\n",
      "원문 : telangana assembly speaker suspended congress mlas duration budget session expelled two unruly behaviour one mlas thrown headphone trs council head swamy hitting eye damaging trs also alleged congress members drunk \n",
      "실제 요약 : cong mlas suspended from gana assembly for being unruly \n",
      "예측 요약 :  himachal cm announces new assembly assembly for assembly\n",
      "\n",
      "\n",
      "원문 : astronomers reported stellar burst radiation sun nearest star increased star brightness times seconds times brighter sun largest made scientists question exoplanet orbits star times closer earth orbits sun \n",
      "실제 요약 : closest star increased by times for sec \n",
      "예측 요약 :  astronomers detect the sun on earth as star\n",
      "\n",
      "\n",
      "원문 : reserve bank india established april calcutta shareholder bank rbi nationalised issued first notes bearing portrait king george vi however bank continued act central bank till pakistan till \n",
      "실제 요약 : reserve bank of india was on this day yrs ago \n",
      "예측 요약 :  rbi rbi to issue on rbi old notes reports\n",
      "\n",
      "\n",
      "원문 : lahore high court wednesday restrained pakistani government arresting mumbai terror attack mastermind hafiz saeed till order saeed sought protection court ahead visit united nations security council sanctions monitoring team team arrive pakistan thursday assess country compliance un sanctions regime nnn \n",
      "실제 요약 : pak high court blocks govt from mastermind \n",
      "예측 요약 :  pak court orders hafiz saeed to pak terror attack\n",
      "\n",
      "\n",
      "원문 : pet dog british footballer ran onto pitch northern premier league match town united causing delay seven minutes dog cheered audience commentators gave play play antics meanwhile sent training school dogs \n",
      "실제 요약 : dog runs onto pitch delays football match by over minutes \n",
      "예측 요약 :  dog invades pitch to be auctioned for\n",
      "\n",
      "\n",
      "원문 : rajasthan royals rounder ben stokes expensive overseas player ipl crore said ipl individually disappointing farewell message added gave everything give meant stokes scored runs took wickets ipl matches \n",
      "실제 요약 : it was not meant to be costliest overseas player on ipl \n",
      "예측 요약 :  ipl has not srh to buy srh harbhajan\n",
      "\n",
      "\n",
      "원문 : pv sindhu advanced second round singapore open winning opening match england champion nozomi okuhara wednesday meanwhile india men singles players kidambi srikanth sai praneeth respective first round matches women doubles pair ashwini reddy also advanced next round \n",
      "실제 요약 : pv sindhu to nd round of singapore open \n",
      "예측 요약 :  sindhu reaches final final with sindhu after losing off\n",
      "\n",
      "\n",
      "원문 : north korean state media released photos highest ever intercontinental ballistic missile test fired wednesday missile reached altitude around km times higher orbit nasa international space station landing japan coast north korea claims icbm capable hitting us mainland \n",
      "실제 요약 : north korea releases photos of its latest highest ever icbm \n",
      "예측 요약 :  north korea missile test test test missile test\n",
      "\n",
      "\n",
      "원문 : centre directed states collect biometric details rohingyas illegal immigrants living jurisdiction home ministry official said move part nation wide security exercise identify illegal immigrants move different parts country around rohingyas said living india illegally \n",
      "실제 요약 : centre asks states to collect biometric details of rohingyas \n",
      "예측 요약 :  govt plans to withdraw cow slaughter in states\n",
      "\n",
      "\n",
      "원문 : villager jammu kashmir jhajjar claimed three terrorists broke house wednesday took biscuits apples since eaten five days asked car offered money left villager said one terrorists gunned thursday security personnel injured \n",
      "실제 요약 : terrorists took saying had not eaten for days man \n",
      "예측 요약 :  terrorists killed in encounter in jammu and kashmir\n",
      "\n",
      "\n",
      "원문 : himachal pradesh government banned use sale thermocol including cups plates glasses item state violating order fined according quantity thermocol state government set deadline three months manufacturers dispose stocks \n",
      "실제 요약 : use and sale of banned by himachal govt \n",
      "예측 요약 :  bihar bans sale of liquor sale for\n",
      "\n",
      "\n",
      "원문 : aiims doctor deepak agrawal collaboration delhi based robotics researcher diwakar developed pocket sized ventilator controlled android app ventilator run natural air flow without dedicated oxygen supply would priced around whereas portable cost lakhs market \n",
      "실제 요약 : indian doctor techie make app controlled pocket \n",
      "예측 요약 :  delhi based startup stops from food\n",
      "\n",
      "\n",
      "원문 : three sikhs among people killed friday bomb exploded market pakistan khyber pakhtunkhwa province police said victims shia muslims officials added earlier day two policemen killed terrorists belonging balochistan liberation army attacked chinese consulate karachi \n",
      "실제 요약 : sikhs among killed in bomb blast in pakistan \n"
     ]
    },
    {
     "name": "stdout",
     "output_type": "stream",
     "text": [
      "예측 요약 :  killed injured in ceasefire violation in pak\n",
      "\n",
      "\n",
      "원문 : russian astronaut anton shkaplerov saturday shared video flying vacuum cleaner aboard international space station attempting act first time shkaplerov said often asked people one could fly vacuum cleaners space astronaut currently third mission iss \n",
      "실제 요약 : video astronaut flies cleaner in space \n",
      "예측 요약 :  astronaut shares video of space station\n",
      "\n",
      "\n",
      "원문 : investment bank credit suisse reaching minority shareholders investors snapdeal get board commerce platform sale rival flipkart comes wipro chairman azim premji family office investor snapdeal objected million payout proposed snapdeal co founders part snapdeal flipkart merger \n",
      "실제 요약 : credit approaches snapdeal investors on flipkart sale \n",
      "예측 요약 :  airtel idea to acquire stake in snapdeal for merger report\n",
      "\n",
      "\n",
      "원문 : tamil nadu finance minister jayakumar said actor kamal haasan enter politics guts speaking haasan comments corruption tn government departments jayakumar said indulging meanwhile former tn cm panneerselvam supporting haasan said ministers counter charges proof instead threatening actor \n",
      "실제 요약 : haasan should join politics if he has the tn minister \n",
      "예측 요약 :  kamal haasan slams politics for remark on padmavati\n",
      "\n",
      "\n",
      "원문 : rahul dravid said favours innings west indies jamaica australia opposition kolkata former india captain said chooses jamaica knock century double century since less recognised \n",
      "실제 요약 : my in test better than at dravid \n",
      "예측 요약 :  jadeja to be as as captain of\n",
      "\n",
      "\n",
      "원문 : us president donald trump sunday unveiled new travel restrictions travellers north korea iran libya somalia syria venezuela yemen replacement travel ban signed earlier year admit country cannot safely trump said new restrictions come effect october \n",
      "실제 요약 : trump expands travel ban to include north korea \n",
      "예측 요약 :  trump signs order on jerusalem route\n",
      "\n",
      "\n",
      "원문 : year old dalit man allegedly beaten death group men upper caste watching event temple anand district gujarat sunday accused said dalits right watch made casteist remarks asked men come spot police said \n",
      "실제 요약 : dalit man beaten to death for watching event \n",
      "예측 요약 :  man thrashed for taking dalit head in up\n",
      "\n",
      "\n",
      "원문 : may day protests took place around world monday several turning violent protesters attacked police smoke bombs cocktails police paris istanbul new york washington high alert arrested dozens protesters day meant celebrate workers rights \n",
      "실제 요약 : in pictures may day protests around the world \n",
      "예측 요약 :  anti terror attack reported in spain\n",
      "\n",
      "\n",
      "원문 : cbse exams class postponed punjab due bharat bandh april held april class students appear hindi class students appear french sanskrit urdu came state government request due bandh wherein killed \n",
      "실제 요약 : cbse exam postponed in punjab over bandh to be on april \n",
      "예측 요약 :  maha govt to give up to class students\n",
      "\n",
      "\n",
      "원문 : actress twinkle khanna said footwear apparently yet another weapon days referring comedian kapil sharma fight onboard flight allegedly threw slipper sunil grover added airlines confiscate knives scissors cricket bats weapons like free footwear lead disastrous results \n",
      "실제 요약 : is weapon on flights twinkle on kapil row \n",
      "예측 요약 :  twinkle khanna is my own car twinkle\n",
      "\n",
      "\n",
      "원문 : recalling experience riding bike delhi highway winter october varun dhawan said scared shooting scene riding three hours trucks going past added varun said want disappoint director shoojit sircar want \n",
      "실제 요약 : was scared of riding bike on highway for october shoot varun \n",
      "예측 요약 :  felt like helmet on mumbai mumbai coast survivor\n",
      "\n",
      "\n",
      "원문 : study claimed north korea acquired engines icbm tests conducted last month russian ukrainian sources stated missiles appeared powered modified version engine previously used soviet engines probably acquired illicit channels operating russia ukraine report added \n",
      "실제 요약 : korea missiles used russian or ukrainian engines reports \n",
      "예측 요약 :  us missile missile test can cost us\n",
      "\n",
      "\n",
      "원문 : one economists credited predicting financial crisis called bitcoin biggest bubble human history added mother bubbles finally crashing cryptocurrencies even worse bitcoin said bitcoin price dropped peak friday \n",
      "실제 요약 : top economist calls bitcoin the mother of all \n",
      "예측 요약 :  bitcoin on climate change may be hit by\n",
      "\n",
      "\n",
      "원문 : railways received million job applications australia entire population state run organisation advertised job openings last month biggest recruitment drive nda government million people railways already biggest employer india currently midst billion modernisation plan \n",
      "실제 요약 : railways gets more job applications than aus population \n",
      "예측 요약 :  jobs to jobs in jobs jobs in february\n",
      "\n",
      "\n",
      "원문 : manipur scientist claims successfully hottest indian hybrid chilli latest hybrid derived cv hybrid two kishore average hybrid chilli heat unit scale content \n",
      "실제 요약 : india hottest hybrid chilli produced claims scientist \n",
      "예측 요약 :  india to be the of the of\n",
      "\n",
      "\n",
      "원문 : railway minister piyush goyal thursday said million jobs created less months railway ecosystem sense jobs may necessarily directly railways certainly engaging people working variety areas across ecosystem added \n",
      "실제 요약 : railway can create million jobs in year goyal \n",
      "예측 요약 :  govt to get more than india\n",
      "\n",
      "\n",
      "원문 : union minister textiles smriti irani posted picture dressed cotton saree asked people take trend forward rajasthan cm vasundhara raje shared photo wearing cotton tweeted cotton statement comfortable fashionable virender sehwag tweeted really really cool \n",
      "실제 요약 : celebrities post pics to support irani look \n",
      "예측 요약 :  smriti irani shares pic with women on diwali\n",
      "\n",
      "\n",
      "원문 : staff research facility united states texas chased four foot escaped enclosure three caught facility animal capture team within half hour fourth one returned notably facility houses nearly \n",
      "실제 요약 : escape from research lab staff chase them on foot \n",
      "예측 요약 :  tourist steals into eatery in us\n",
      "\n",
      "\n",
      "원문 : russian president vladimir putin thursday claimed human activity cause climate change warming already started factors emissions putin said issue stopping impossible since could tied global cycles earth issue adapt putin added \n",
      "실제 요약 : humans not responsible for climate change putin \n",
      "예측 요약 :  russia will never be putin on russian president\n",
      "\n",
      "\n",
      "원문 : amitabh bachchan talking thugs hindostan co actor aamir khan said brilliant artist difficult battle sphere joy working aamir great human writer director producer distributor rolled one added amitabh \n",
      "실제 요약 : it is difficult to battle aamir khan in any amitabh \n",
      "예측 요약 :  shah rukh khan is the best actor aamir khan\n",
      "\n",
      "\n",
      "원문 : team india head coach ravi shastri requested bcci schedule couple practice matches team tour australia later year comes india played one practice match england lost five match test series india lone warm match essex also shortened due heatwave britain \n",
      "실제 요약 : after england loss shastri wants more practice games in aus tour \n",
      "예측 요약 :  shastri to play aus team for team india coach\n",
      "\n",
      "\n",
      "원문 : swiss tennis star roger federer completed weeks inside top atp men singles rankings year old atp singles titles including record grand slam singles titles far currently ranked third world federer also spent record weeks world number one spot \n",
      "실제 요약 : roger federer completes weeks inside the top \n",
      "예측 요약 :  federer beats nadal to become world no title\n",
      "\n",
      "\n",
      "원문 : israeli prime minister benjamin netanyahu sunday hailed us decision stop aid un agency palestinian refugees calling refugee agency netanyahu called abolish added funds genuinely help rehabilitate refugees \n",
      "실제 요약 : israel hails end of us aid to un palestinian refugee agency \n",
      "예측 요약 :  israel pm netanyahu to israel pm netanyahu\n",
      "\n",
      "\n",
      "원문 : kuldeep yadav become quickest indian spinner take wickets odi cricket achieving feat th odi hong kong asia cup tuesday previous quickest indian spinner achieve milestone amit mishra reached wicket mark odis kuldeep picked wickets last odis \n",
      "실제 요약 : kuldeep fastest indian spinner to take wickets in odis \n",
      "예측 요약 :  pandya becomes st ever odi hundred in odi history\n",
      "\n",
      "\n",
      "원문 : highlighting need upgrade indian air force air chief marshal bs dhanoa wednesday said rafale air defence missile system deals like booster dose also defended rafale deal calling good package adding government took bold step bought rafale aircraft \n",
      "실제 요약 : rafale missiles are like iaf chief \n"
     ]
    },
    {
     "name": "stdout",
     "output_type": "stream",
     "text": [
      "예측 요약 :  air india will not be hit by iaf iaf iaf\n",
      "\n",
      "\n",
      "원문 : uefa champions league final real madrid juventus played closed roof first time competition history safety reasons stadium cardiff decision comes uk raised terrorism threat level wake monday suicide bomb attack manchester killed people \n",
      "실제 요약 : cl final to be played under closed roof for first time \n",
      "예측 요약 :  real madrid to open final to play in\n",
      "\n",
      "\n",
      "원문 : initial coin offering way startups raise money investors similar crowdfunding selling custom tokens token digital currency issued exchange legal tender cryptocurrencies like bitcoin value token appreciates depending issuing company performance \n",
      "실제 요약 : what is an initial coin offering \n",
      "예측 요약 :  cryptocurrency exchange may be mn in exchange\n",
      "\n",
      "\n"
     ]
    }
   ],
   "source": [
    "for i in range(0, 50):\n",
    "    print(\"원문 :\", seq2text(encoder_input_test[i]))\n",
    "    print(\"실제 요약 :\", seq2summary(decoder_input_test[i]))\n",
    "    print(\"예측 요약 :\", decode_sequence(encoder_input_test[i].reshape(1, text_max_len)))\n",
    "    print(\"\\n\")"
   ]
  },
  {
   "cell_type": "markdown",
   "metadata": {},
   "source": [
    "## Step 4. 실제 결과와 요약문 비교하기(추상적 요약)  \n",
    "\n",
    ">원문 : pet dog british footballer ran onto pitch northern premier league match town united causing delay seven minutes dog cheered audience commentators gave play play antics meanwhile sent training school dogs   \n",
    "실제 요약 : dog runs onto pitch delays football match by over minutes  \n",
    "예측 요약 :  dog invades pitch to be auctioned for\n",
    "\n",
    "위 예시에서 실제 요약과 예측 요약을 비교해보자. 'dog' 와 'invades pitch' 같은 핵심 내용을 포함했고 문법적인 어색함도 거의 없지만 헤드라인 내용과는 다소 차이가 있는 것을 알 수 있다. 원문을 완전히 반영하지는 못한 것으로 보이는데, 한 단어에도 여러 뜻이 있는 경우와 고유명사의 경우 완벽하게 파악하지는 못하는 것으로 추정된다. 이를 개선하기 위해서는 사전 훈련된 임베딩을 사용하는 것이 효과적일 것 같다."
   ]
  },
  {
   "cell_type": "markdown",
   "metadata": {},
   "source": [
    "## Step 5. Summa를 이용해서 추출적 요약해보기"
   ]
  },
  {
   "cell_type": "code",
   "execution_count": 51,
   "metadata": {},
   "outputs": [],
   "source": [
    "from summa.summarizer import summarize"
   ]
  },
  {
   "cell_type": "code",
   "execution_count": 102,
   "metadata": {
    "scrolled": false
   },
   "outputs": [
    {
     "name": "stdout",
     "output_type": "stream",
     "text": [
      "원문: Saurav Kant, an alumnus of upGrad and IIIT-B's PG Program in Machine learning and Artificial Intelligence, was a Sr Systems Engineer at Infosys with almost 5 years of work experience. The program and upGrad's 360-degree career support helped him transition to a Data Scientist at Tech Mahindra with 90% salary hike. upGrad's Online Power Learning has powered 3 lakh+ careers.\n",
      "실제 요약: upGrad learner switches to career in ML & Al with 90% salary hike\n",
      "예측 요약(summa): upGrad's Online Power Learning has powered 3 lakh+ careers.\n",
      "\n",
      "원문: Kunal Shah's credit card bill payment platform, CRED, gave users a chance to win free food from Swiggy for one year. Pranav Kaushik, a Delhi techie, bagged this reward after spending 2000 CRED coins. Users get one CRED coin per rupee of bill paid, which can be used to avail rewards from brands like Ixigo, BookMyShow, UberEats, Cult.Fit and more.\n",
      "실제 요약: Delhi techie wins free food from Swiggy for one year on CRED\n",
      "예측 요약(summa): Users get one CRED coin per rupee of bill paid, which can be used to avail rewards from brands like Ixigo, BookMyShow, UberEats, Cult.Fit and more.\n",
      "\n",
      "원문: New Zealand defeated India by 8 wickets in the fourth ODI at Hamilton on Thursday to win their first match of the five-match ODI series. India lost an international match under Rohit Sharma's captaincy after 12 consecutive victories dating back to March 2018. The match witnessed India getting all out for 92, their seventh lowest total in ODI cricket history.\n",
      "실제 요약: New Zealand end Rohit Sharma-led India's 12-match winning streak\n",
      "예측 요약(summa): The match witnessed India getting all out for 92, their seventh lowest total in ODI cricket history.\n",
      "\n",
      "원문: With Aegon Life iTerm Insurance plan, customers can enjoy tax benefits on your premiums paid and save up to Ã¢ÂÂ¹46,800^ on taxes. The plan provides life cover up to the age of 100 years. Also, customers have options to insure against Critical Illnesses, Disability and Accidental Death Benefit Rider with a life cover up to the age of 80 years.\n",
      "실제 요약: Aegon life iTerm insurance plan helps customers save tax\n",
      "예측 요약(summa): Also, customers have options to insure against Critical Illnesses, Disability and Accidental Death Benefit Rider with a life cover up to the age of 80 years.\n",
      "\n",
      "원문: Speaking about the sexual harassment allegations against Rajkumar Hirani, Sonam Kapoor said, \"I've known Hirani for many years...What if it's not true, the [#MeToo] movement will get derailed.\" \"In the #MeToo movement, I always believe a woman. But in this case, we need to reserve our judgment,\" she added. Hirani has been accused by an assistant who worked in 'Sanju'.\n",
      "실제 요약: Have known Hirani for yrs, what if MeToo claims are not true: Sonam\n",
      "예측 요약(summa): Speaking about the sexual harassment allegations against Rajkumar Hirani, Sonam Kapoor said, \"I've known Hirani for many years...What if it's not true, the [#MeToo] movement will get derailed.\" \"In the #MeToo movement, I always believe a woman.\n",
      "\n",
      "원문: Pakistani singer Rahat Fateh Ali Khan has denied receiving any notice from the Enforcement Directorate over allegedly smuggling foreign currency out of India. \"It would have been better if the authorities would have served the notice first if any and then publicised this,\" reads a press release issued on behalf of Rahat. The statement further called the allegation \"bizarre\".\n",
      "실제 요약: Rahat Fateh Ali Khan denies getting notice for smuggling currency\n",
      "예측 요약(summa): Pakistani singer Rahat Fateh Ali Khan has denied receiving any notice from the Enforcement Directorate over allegedly smuggling foreign currency out of India.\n",
      "\n",
      "원문: India recorded their lowest ODI total in New Zealand after getting all out for 92 runs in 30.5 overs in the fourth ODI at Hamilton on Thursday. Seven of India's batsmen were dismissed for single-digit scores, while their number ten batsman Yuzvendra Chahal top-scored with 18*(37). India's previous lowest ODI total in New Zealand was 108.\n",
      "실제 요약: India get all out for 92, their lowest ODI total in New Zealand\n",
      "예측 요약(summa): India's previous lowest ODI total in New Zealand was 108.\n",
      "\n",
      "원문: Weeks after ex-CBI Director Alok Verma told the Department of Personnel and Training to consider him retired, the Home Ministry asked him to join work on the last day of his fixed tenure as Director on Thursday. The ministry directed him to immediately join as DG, Fire Services, the post he was transferred to after his removal as CBI chief.\n",
      "실제 요약: Govt directs Alok Verma to join work 1 day before his retirement\n",
      "예측 요약(summa): \n",
      "\n",
      "원문: Andhra Pradesh CM N Chandrababu Naidu has said, \"When I met then US President Bill Clinton, I addressed him as Mr Clinton, not as 'sir'. (PM Narendra) Modi is my junior in politics...I addressed him as sir 10 times.\" \"I did this...to satisfy his ego in the hope that he will do justice to the state,\" he added.\n",
      "실제 요약: Called PM Modi 'sir' 10 times to satisfy his ego: Andhra CM\n",
      "예측 요약(summa): \n",
      "\n",
      "원문: Congress candidate Shafia Zubair won the Ramgarh Assembly seat in Rajasthan, by defeating BJP's Sukhwant Singh with a margin of 12,228 votes in the bypoll. With this victory, Congress has taken its total to 100 seats in the 200-member assembly. The election to the Ramgarh seat was delayed due to the death of sitting MLA and BSP candidate Laxman Singh.\n",
      "실제 요약: Cong wins Ramgarh bypoll in Rajasthan, takes total to 100 seats\n",
      "예측 요약(summa): Congress candidate Shafia Zubair won the Ramgarh Assembly seat in Rajasthan, by defeating BJP's Sukhwant Singh with a margin of 12,228 votes in the bypoll.\n",
      "\n",
      "원문: Two minor cousins in Uttar Pradesh's Gorakhpur were allegedly repeatedly burnt with tongs and forced to eat human excreta by their family for being friends with two boys from the same school. The cousins revealed their ordeal to the police and Child Welfare Committee after being brought back to Gorakhpur from Nepal, where they had fled to escape the torture.\n",
      "실제 요약: UP cousins fed human excreta for friendship with boys\n",
      "예측 요약(summa): \n",
      "\n",
      "원문: Isha Ghosh, an 81-year-old member of Bharat Scouts and Guides (BSG), has been imparting physical and mental training to schoolchildren in Jharkhand for several decades. Chaibasa-based Ghosh reportedly walks seven kilometres daily and spends eight hours conducting physical training, apart from climbing and yoga sessions. She says, \"One should do something for society till one's last breath.\"\n",
      "실제 요약: 81-yr-old woman conducts physical training in J'khand schools\n",
      "예측 요약(summa): Isha Ghosh, an 81-year-old member of Bharat Scouts and Guides (BSG), has been imparting physical and mental training to schoolchildren in Jharkhand for several decades.\n",
      "\n",
      "원문: Urging saints and seers at the Kumbh Mela to quit smoking, Yoga guru Ramdev said, \"We follow Ram and Krishna who never smoked in their life then why should we?\" Making them take a pledge to quit tobacco, he collected chillum (clay pipe) from several sadhus. He said he will deposit the chillums for display at a museum he'll build.\n",
      "실제 요약: Ram, Krishna didn't smoke, why should we: Ramdev to sadhus at Kumbh\n",
      "예측 요약(summa): \n",
      "\n",
      "원문: Former stripper and regional sales director of a pharmaceutical company, Sunrise Lee, gave a doctor a lap dance in a nightclub to persuade him to prescribe an addictive fentanyl spray in 2012, the company's sales representative told a US court. She said she saw Lee \"sitting on [doctor's] lap, kind of bouncing around.\" Lee has been accused of bribing doctors.\n",
      "실제 요약: Pharma exec gave doctor a lap dance to sell medicine in US: Witness\n",
      "예측 요약(summa): \n",
      "\n",
      "원문: Reliance Industries' Chairman Mukesh Ambani's daughter Isha Ambani, who got married last month, said she only cried at her 'bidaai' because she felt peer pressure as everyone was crying, especially her parents. \"I was emotional too but everyone around me would cry all the time,\" she added. \"It was a very emotional affair for everyone in my family,\" said Isha.\n",
      "실제 요약:  I only cried at my 'bidaai' as I felt peer pressure: Isha Ambani\n",
      "예측 요약(summa): \"It was a very emotional affair for everyone in my family,\" said Isha.\n",
      "\n",
      "원문: Louis Vuitton owner LVMH, which makes high-end beverages like MoÃÂ«t & Chandon champagne and Hennessy cognac, said it's stockpiling four months' worth of wine and spirits in UK in preparation for Brexit. \"We're ready for worst case scenario if there are difficulties with deliveries,\" the French luxury giant said. The UK is scheduled to leave the EU on March 29.\n",
      "실제 요약: Louis Vuitton owner to stockpile 4 months of wine, spirits in UK\n",
      "예측 요약(summa): Louis Vuitton owner LVMH, which makes high-end beverages like MoÃÂ«t & Chandon champagne and Hennessy cognac, said it's stockpiling four months' worth of wine and spirits in UK in preparation for Brexit.\n",
      "\n",
      "원문: Filmmaker Karan Johar and actress Tabu turned showstoppers for Gaurav Gupta on the opening night of LakmÃÂ© Fashion Week Summer/ Resort 2019. While Johar wore a red sequinned jacket with black pants, Tabu walked the ramp in a grey embellished gown. The fashion show, which began on January 29, will continue till February 3.\n",
      "실제 요약: Karan Johar, Tabu turn showstoppers on opening night of LFW\n",
      "예측 요약(summa): Filmmaker Karan Johar and actress Tabu turned showstoppers for Gaurav Gupta on the opening night of LakmÃÂ© Fashion Week Summer/ Resort 2019.\n",
      "\n",
      "원문: In a jibe at Congress President Rahul Gandhi, PM Narendra Modi on Wednesday said those on \"bail will have to go to jail.\" PM Modi added, \"He is out on bail and his associates too are facing charges...I know they will be convicted one day.\" The PM claimed he'd waged a war on corruption because he's from a common household. \n",
      "실제 요약: Those on bail will go to jail: PM Modi takes jibe at Rahul\n",
      "예측 요약(summa): \n",
      "\n",
      "원문: Days after he threatened to step down from his post if Congress MLAs continue \"crossing the line,\" Karnataka Chief Minister HD Kumaraswamy accused them of taking potshots and asked, \"How many more days can I tolerate such stuff?\" Kumaraswamy, who made the statements after a Congress MLA demanded that Siddaramaiah be made CM again, said, \"Power is ephemeral.\"\n",
      "실제 요약: How long can I tolerate Congress leaders' potshots: K'taka CM\n",
      "예측 요약(summa): \n",
      "\n",
      "원문: Union Minister Dharmendra Pradhan on Wednesday claimed the illegal mining mafia in Odisha operates under the control of CM Naveen Patnaik and state Congress chief Niranjan Patnaik. He added, \"The time has come for the people of Odisha to put a full stop to their activities...The time has come for us to ask for an explanation from this corrupt government.\"\n",
      "실제 요약: Odisha CM Patnaik controls mining mafia: Union Minister\n",
      "예측 요약(summa): \n",
      "\n",
      "원문: Claiming there is a dearth of ideas among opposition parties, Prime Minister Narendra Modi on Wednesday said, \"The opposition talks only about Modi the whole day, I suspect they even dream about me.\" PM Modi, who was addressing the New India Youth Conclave inÃ¢ÂÂ Surat, added that the opposition parties have only one agenda which is \"Modi\". \n",
      "실제 요약: I think the opposition even dreams about me: PM Modi\n",
      "예측 요약(summa): \n",
      "\n",
      "원문: The Indian Space Research Organisation on Wednesday unveiled Human Space Flight Centre in Bengaluru for its Ã¢ÂÂ¹10,000-crore manned space mission 'Gaganyaan' scheduled for 2021. ISRO said the centre will be responsible for development of engineering systems for crew survival in space and crew selection and training. It'll also pursue activities for sustained human space flight missions, ISRO added.\n",
      "실제 요약: ISRO unveils Bengaluru centre for manned space mission \n",
      "예측 요약(summa): It'll also pursue activities for sustained human space flight missions, ISRO added.\n",
      "\n",
      "원문: At least 12 people have been killed and 170 others have been injured in Saudi Arabia this week due to flooding from heavy rain. The emergency services rescued 271 people from the flooded areas, more than half of them in Tabuk. Heavy rains hit mainly western and northwestern parts of Saudi Arabia, near its border with Jordan.\n",
      "실제 요약: 12 killed, 170 injured in Saudi Arabia floods\n",
      "예측 요약(summa): At least 12 people have been killed and 170 others have been injured in Saudi Arabia this week due to flooding from heavy rain.\n",
      "\n",
      "원문: Reliance Industries' Chairman Mukesh Ambani's daughter Isha Ambani has featured on the cover of the February edition of Vogue India. She's dressed in a white shirt dress and black ruffled skirt by Australian designer Toni Maticevski, while accessorising her look with a Misho ring. In the cover story on her, Isha has spoken about her work and life after marriage.\n",
      " \n",
      "실제 요약: Isha Ambani features on February cover of Vogue magazine\n",
      "예측 요약(summa): Reliance Industries' Chairman Mukesh Ambani's daughter Isha Ambani has featured on the cover of the February edition of Vogue India.\n",
      "\n",
      "원문: Indian Oil Corporation on Wednesday said it's looking for an annual deal to buy US crude as it seeks to broaden oil purchasing options. This comes amid uncertainties over Iran imports. The US had in November granted a six-month waiver to India from sanctions against Iran and restricted the country's monthly intake of Iranian oil to 3,00,000 barrels per day.\n",
      "\n",
      "\n",
      "실제 요약: Indian Oil looking for annual deal to buy crude from US\n",
      "예측 요약(summa): The US had in November granted a six-month waiver to India from sanctions against Iran and restricted the country's monthly intake of Iranian oil to 3,00,000 barrels per day.\n",
      "\n",
      "원문: Former Windies fast bowler Curtly Ambrose dismissed seven Australian batsmen within a span of 32 balls giving away just one run, in a Test match on January 30, 1993. Ambrose's spell helped his team bowl out Australia for 119 in the first innings, after being 85 for 2 at one point. Ambrose ended with first-innings figures of 18-9-25-7.\n",
      "실제 요약: Pacer once took 7 wickets for just 1 run in 32 balls in a Test\n",
      "예측 요약(summa): Ambrose ended with first-innings figures of 18-9-25-7.\n",
      "\n",
      "원문: A London zoo is offering people to name a cockroach after their exes on Valentine's Day for ÃÂ£1.50 (nearly Ã¢ÂÂ¹140). \"For those that don't quite require revenge, there's another way to make you feel better about getting back at your ex,\" the zoo said in a statement. The names will appear on zoo's 'roach board' on February 14. \n",
      "실제 요약: UK zoo offers people to name cockroach after their ex on Valentine's\n",
      "예측 요약(summa): The names will appear on zoo's 'roach board' on February 14.\n",
      "\n",
      "원문: Stand-in captain Rohit Sharma has become the 14th Indian cricketer to play 200 ODIs, achieving the feat after taking the field against New Zealand in fourth ODI at Hamilton on Thursday. The 31-year-old had made his ODI debut on June 23, 2007, against Ireland in Belfast. Rohit scored 7,799 runs in his first 199 ODIs at an average of 48.14.\n",
      "실제 요약: Rohit Sharma becomes 14th Indian cricketer to play 200 ODIs\n",
      "예측 요약(summa): Rohit scored 7,799 runs in his first 199 ODIs at an average of 48.14.\n",
      "\n",
      "원문: Batsman Shubman Gill has become the 227th cricketer to represent India in ODI cricket, achieving the feat against New Zealand in the fourth ODI at Hamilton on Thursday. The 19-year-old received his maiden ODI cap from former captain MS Dhoni. Notably, Shubman was named Player of the Under-19 World Cup in New Zealand last year.\n",
      "실제 요약: 19-year-old Shubman Gill becomes India's 227th ODI cricketer\n",
      "예측 요약(summa): Notably, Shubman was named Player of the Under-19 World Cup in New Zealand last year.\n",
      "\n",
      "원문: Investigators searching for a lost plane carrying Argentine forward Emiliano Sala found two seat cushions on French coast that \"likely\" belonged to the aircraft. The investigators said they'll now launch an underwater seabed search for aircraft wreckage. The Cardiff City footballer was travelling from France's Nantes to Wales' Cardiff when his plane disappeared over English Channel on January 21.\n",
      "실제 요약: 2 seat cushions from 'missing plane carrying footballer' found\n",
      "예측 요약(summa): Investigators searching for a lost plane carrying Argentine forward Emiliano Sala found two seat cushions on French coast that \"likely\" belonged to the aircraft.\n",
      "\n",
      "원문: Italian third division football side Lucchese's head coach Giancarlo Favarin has been banned for five months for headbutting Alessandria's assistant coach Gaetano Mancino during a brawl following the teams' 2-2 draw on Sunday. Mancino was caught off-balance and knocked to the ground after the headbutt. Earlier in the match, Favarin had told his own player to break an opponent's legs.\n",
      "실제 요약: Italian coach knocks rival down with headbutt, banned for 5 months\n",
      "예측 요약(summa): Italian third division football side Lucchese's head coach Giancarlo Favarin has been banned for five months for headbutting Alessandria's assistant coach Gaetano Mancino during a brawl following the teams' 2-2 draw on Sunday.\n",
      "\n",
      "원문: Cyclists taking part in National Track Cycling Championship in Jaipur opted to sleep on the floor inside the stadium instead of hotels over expensive cycles. The organisers had booked hotels but they didn't have the provision for cyclists to keep their bikes inside. A national gold medallist said their cycles cost between Ã¢ÂÂ¹5-9 lakh and once damaged, they become non-repairable. \n",
      "실제 요약: Cyclists sleep on stadium floor instead of hotel over costly cycles\n",
      "예측 요약(summa): Cyclists taking part in National Track Cycling Championship in Jaipur opted to sleep on the floor inside the stadium instead of hotels over expensive cycles.\n",
      "\n",
      "원문: Silvia Grecco, a 56-year-old Brazilian mother narrates her local football team Palmeiras' matches live to her 12-year-old blind and autistic son Nickollas from the stands. \"I describe details: this player is wearing short sleeves...colour of...football boots, hair colour...Everything I see and feel, I tell him, even when I need to curse the referee!\" Grecco said after a recent match.\n",
      "실제 요약: Brazilian mother narrates football matches to blind son from stands\n",
      "예측 요약(summa): \n",
      "\n",
      "원문: A TechCrunch report has claimed that IndiaÃ¢ÂÂs largest bank SBI secured a passwordless server \"overnight\" on being alerted it allowed anyone to access phone numbers, bank balances, and transactions of millions of its customers. The Mumbai-based server was containing two months of data from SBI Quick, an SMS and call-based system used to request basic information about accounts, TechCrunch revealed.\n",
      "실제 요약: SBI left account data of millions of users unprotected: Report\n",
      "예측 요약(summa): \n",
      "\n",
      "원문: Rahul Gandhi has replied to Goa CM Manohar Parrikar's letter, which accused the Congress President of using his \"visit to an ailing man for political gains\". \"He's under immense pressure from the PM after our meeting and needs to demonstrate his loyalty by attacking me,\" Gandhi wrote in his letter. Parrikar had clarified he didn't discuss Rafale deal with Rahul.\n",
      "실제 요약: CM Parrikar under pressure from PM after our Goa meet: Rahul\n",
      "예측 요약(summa): Rahul Gandhi has replied to Goa CM Manohar Parrikar's letter, which accused the Congress President of using his \"visit to an ailing man for political gains\".\n",
      "\n",
      "원문: Twenty-seven-year-old Mohammed Mahuwala was arrested in Indore on Wednesday for allegedly cheating e-commerce giant Amazon of nearly Ã¢ÂÂ¹30 lakh. Mahuwala was a member of a gang who ordered costly gadgets from Amazon. \"[They] used to get refund of the amount paid...by saying the parcel...was empty. In reality, these devices were taken out from parcel and sold...to local shopkeepers,\" said police.\n",
      "실제 요약: Man arrested for cheating Amazon of Ã¢ÂÂ¹30 lakh by taking refunds\n",
      "예측 요약(summa): Mahuwala was a member of a gang who ordered costly gadgets from Amazon.\n",
      "\n",
      "원문: AgustaWestland chopper scam co-accused Rajiv Saxena was extradited to India from UAE on Wednesday. He had been evading the Enforcement Directorate's summons claiming he was suffering from leukaemia but had moved an anti-money laundering court for anticipatory bail in December, stating he had never been summoned at his Dubai address. Saxena's lawyers alleged he had been \"illegally extradited\". \n",
      "실제 요약: AgustaWestland scam accused Rajiv Saxena extradited to India\n",
      "예측 요약(summa): AgustaWestland chopper scam co-accused Rajiv Saxena was extradited to India from UAE on Wednesday.\n",
      "\n",
      "원문: Afghan President Ashraf Ghani has said the \"keys to war\" are in Pakistan's Islamabad, Quetta and Rawalpindi, accusing the country of providing safe havens to militants, including those belonging to the Taliban. Ghani added the \"key to peace was in Afghanistan\". His comments came amid the talks between the US and the Taliban to end the 17-year war in Afghanistan.\n",
      "실제 요약: Pakistan holds 'keys to war': Afghanistan\n",
      "예측 요약(summa): Afghan President Ashraf Ghani has said the \"keys to war\" are in Pakistan's Islamabad, Quetta and Rawalpindi, accusing the country of providing safe havens to militants, including those belonging to the Taliban.\n",
      "\n",
      "원문: A Singapore-based insurance agent has been jailed for two years and five months for threatening to harm his clients unless they paid him in bitcoins. The 36-year-old set up an email account, and signed the messages as 'Lord Voldemort', a fictional character from the Harry Potter series. Ye Lin Myint targeted about 33 people, including those who cancelled insurance policies.\n",
      "실제 요약: Insurance agent 'Lord Voldemort' jailed for threatening clients\n",
      "예측 요약(summa): A Singapore-based insurance agent has been jailed for two years and five months for threatening to harm his clients unless they paid him in bitcoins.\n",
      "\n",
      "원문: Gabrielle Reilly, a 22-year-old US woman, created earrings for her Apple AirPods and put it up for sale online for $20 (about Ã¢ÂÂ¹1,500). \"I absolutely refuse to lose them (AirPods)...So I made earrings,\" she explained. The earrings, which took her over an hour to make, debuted in a video on Twitter that has since garnered over three million views.\n",
      "실제 요약: Woman turns Apple AirPods into earrings to avoid losing them\n",
      "예측 요약(summa): \"I absolutely refuse to lose them (AirPods)...So I made earrings,\" she explained.\n",
      "\n",
      "원문: Ex-ICICI Bank CEO Chanda Kochhar said she's \"utterly disappointed, hurt and shocked\" by the bank's decision to terminate her. Kochhar said she served ICICI for 34 years with utmost honesty and integrity and that ultimately truth will prevail. Adding that she hasn't been given a copy of the independent probe report, Kochhar said none of ICICI's credit decisions are unilateral\n",
      "실제 요약: Shocked, hurt by ICICI's decision, truth will prevail: Kochhar\n",
      "예측 요약(summa): Adding that she hasn't been given a copy of the independent probe report, Kochhar said none of ICICI's credit decisions are unilateral\n",
      "\n",
      "원문: Swedish multinational fast-fashion brand Hennes & Mauritz AB (H&M) has hired Christopher Wylie, the whistleblower who exposed Facebook's Cambridge Analytica data scandal. WylieÃ¢ÂÂs focus will be to help get better insights on customers, products and markets and support work on sustainable and ethical artificial intelligence, H&M spokesperson said. Wylie is a former employee of Cambridge Analytica.\n",
      "실제 요약: Fashion brand H&M hires Facebook data scandal whistleblower\n",
      "예측 요약(summa): Swedish multinational fast-fashion brand Hennes & Mauritz AB (H&M) has hired Christopher Wylie, the whistleblower who exposed Facebook's Cambridge Analytica data scandal.\n",
      "\n",
      "원문: Micro-blogging platform Twitter is testing a new feature on Android to put news on the top of a user's timeline. \"With this update, weÃ¢ÂÂre making it easier for people to see news and stories their followers have been discussing,\" Product Manager Walter Gurzynski said. The feature comes alongside a prompt saying, \"Catch up on what's happened while you were away.\"\n",
      "실제 요약: Twitter testing news-first timeline feature on Android\n",
      "예측 요약(summa): Micro-blogging platform Twitter is testing a new feature on Android to put news on the top of a user's timeline.\n",
      "\n",
      "원문: Samsung has started mass producing its one terabyte 'embedded Universal Flash Storage (eUFS) 2.1' technology for \"use in next-generation mobile applications\", which it claims is the industry's first such eUFS. The company added the new eUFS will let smartphones store 260 10-minute videos shot in 4K UHD format. It'll be sized the same as the previous 512GB version, Samsung said.\n",
      "실제 요약: Samsung builds world's first 1TB storage chip for smartphones \n",
      "예측 요약(summa): Samsung has started mass producing its one terabyte 'embedded Universal Flash Storage (eUFS) 2.1' technology for \"use in next-generation mobile applications\", which it claims is the industry's first such eUFS.\n",
      "\n",
      "원문: Prime Minister Narendra Modi on Wednesday said the people with 'negative mindset' are questioning him and his government for floating pro-poor schemes. He added negative mindset people are raising doubts about schemes such as building toilets and providing free gas connections to the poor. He further said that negative mentality laced with a vested interest still exists in the country.\n",
      "실제 요약: People with 'negative mindset' quizzing pro-poor schemes: PM\n",
      "예측 요약(summa): Prime Minister Narendra Modi on Wednesday said the people with 'negative mindset' are questioning him and his government for floating pro-poor schemes.\n",
      "\n",
      "원문: Union Minister Anantkumar Hegde took a dig at Congress President Rahul Gandhi by calling him a \"hybrid specimen\" who has no clue about religion. \"A father who's...Muslim, a mother who's...Christian and the son is supposed to be...Brahmin. How is that even possible?\" he said. He added such \"hybrid specimen\" cannot be found in any laboratory in the world.\n",
      "실제 요약: Rahul is hybrid specimen, has no clue about religion: Hegde\n",
      "예측 요약(summa): Union Minister Anantkumar Hegde took a dig at Congress President Rahul Gandhi by calling him a \"hybrid specimen\" who has no clue about religion.\n",
      "\n",
      "원문: Several parts of the US are set to experience record low temperatures as the polar vortex hit the Upper Midwest, with more than 200 million people expected to experience below-freezing temperatures this week. Temperatures throughout the Upper Midwest are expected to be at least 20-40Ã¢ÂÂ below zero. Government offices and schools have been closed in several areas.\n",
      "실제 요약: Extreme cold to affect 200 million people as polar vortex hits US\n",
      "예측 요약(summa): Several parts of the US are set to experience record low temperatures as the polar vortex hit the Upper Midwest, with more than 200 million people expected to experience below-freezing temperatures this week.\n",
      "\n",
      "원문: The police on Wednesday registered cases against 13 persons, including a woman leader of Hindu Mahasabha, in Aligarh for firing at an effigy of Mahatma Gandhi with an air pistol. \"The incident took place in a house in Naurangabad locality of the city,\" Senior Superintendent of Police said. The video of the event went viral on social media, he added.\n",
      "실제 요약: 13 booked for firing air shots at Mahatma Gandhi's effigy\n",
      "예측 요약(summa): The police on Wednesday registered cases against 13 persons, including a woman leader of Hindu Mahasabha, in Aligarh for firing at an effigy of Mahatma Gandhi with an air pistol.\n",
      "\n",
      "원문: Railway police has rescued a woman travelling on a train in Chennai who got her leg stuck inside the commode of a toilet. After being caught inside the commode hole, she struggled to remove her leg and following failed attempts, she shouted for help, reports said. Railway police used a cutter to pry open the commode and freed her leg.\n",
      "실제 요약: Railway police rescues woman with leg stuck in train toilet\n",
      "예측 요약(summa): Railway police has rescued a woman travelling on a train in Chennai who got her leg stuck inside the commode of a toilet.\n",
      "\n",
      "원문: The US on Tuesday began returning asylum seekers to Mexico, sending back a migrant from a Central American nation and called the move a \"response to the illegal migration crisis\" faced by it. Under its Migrant Protection Protocols policy, the US will return certain migrants who cross into the country illegally back to Mexico while their asylum requests are processed.\n",
      "실제 요약: US begins sending back asylum seekers to Mexico\n",
      "예측 요약(summa): \n",
      "\n"
     ]
    }
   ],
   "source": [
    "urllib.request.urlretrieve(\"https://raw.githubusercontent.com/sunnysai12345/News_Summary/master/news_summary_more.csv\", filename=\"news_summary_more.csv\")\n",
    "data = pd.read_csv('news_summary_more.csv', encoding = 'iso-8859-1')\n",
    "\n",
    "for i in range(0,50):\n",
    "    text = data['text'][i]\n",
    "    summary = data['headlines'][i]\n",
    "    print(f'원문: {text}')\n",
    "    print(f'실제 요약: {summary}')\n",
    "    print(f'예측 요약(summa): {summarize(text, ratio=0.4)}\\n')"
   ]
  },
  {
   "cell_type": "markdown",
   "metadata": {},
   "source": [
    "## 결론\n",
    "### 추상적 요약과 추출적 요약의 평가"
   ]
  },
  {
   "cell_type": "markdown",
   "metadata": {},
   "source": [
    "||추상적 요약|추출적 요약|\n",
    "|:---:|:---:|:---:|\n",
    "|**문법 완성도**|문법상의 어색함이 거의 없다|문장 간 호응이 맞지 않을 수 있다|\n",
    "|**핵심단어 포함**|새로운 텍스트를 생성하기 때문에<br>본문과 맞지 않는 내용이 있을 수 있다|본문의 핵심 문장을 추출하기 때문에<br> 핵심단어를 포함한다|"
   ]
  },
  {
   "cell_type": "markdown",
   "metadata": {},
   "source": [
    "### 회고\n",
    "|KPT|내용|\n",
    "|:---:|:---:|\n",
    "|**Keep**|+ 추상적 요약을 사용하여 텍스트를 요약하는 모델을 만들었다 <br>+ 프로젝트에서 요구하는 과제를 성공적으로 수행했다|\n",
    "|**Problem**|+ 추상적 요약에서 요약문이 원문을 완벽하게 반영하지 못하는 경우가 있었다<br>+ 추출적 요약에서 ratio나 words의 값에 따라 예측 요약문이 출력되지 않는 경우가 있었다|\n",
    "|**Try**|+ 추상적 요약에서 사전 학습 임베딩이나 다른 모델을 사용해본다<br>+ 추출적 요약의 성능을 향상시킬 수 있는 방법들을 탐색해본다|"
   ]
  },
  {
   "cell_type": "markdown",
   "metadata": {},
   "source": [
    "### 고찰\n",
    "텍스트 요약의 큰 분류인 추상적 요약과 추출적 요약을 프로젝트를 통해 학습하였다. 기존의 모델을 사용하여 전체적인 흐름을 이해하는 수준의 과정이었음에도 신경쓸 게 많다고 느껴졌다. 텍스트 요약 분야에 관련된 자료를 정리해 둔 [github](https://github.com/uoneway/Text-Summarization-Repo)이 있어 학습 내용을 정리하면서 함께 읽어보면 좋을 것 같다. \n",
    "추가적으로 이번 프로젝트에서는 시도해보지 않았지만 데이터 전처리 단계에서 문장의 최대 길이나 빈도수를 수정해 보고 결과가 어떻게 달라지는지 살펴보고 싶다. 해당 값들이 어떤 식으로 영향을 주는지 알아보면 다음번에 비슷한 프로젝트를 진행할 때 도움이 될 것 같다."
   ]
  },
  {
   "cell_type": "code",
   "execution_count": null,
   "metadata": {},
   "outputs": [],
   "source": []
  }
 ],
 "metadata": {
  "kernelspec": {
   "display_name": "Python 3 (ipykernel)",
   "language": "python",
   "name": "python3"
  },
  "language_info": {
   "codemirror_mode": {
    "name": "ipython",
    "version": 3
   },
   "file_extension": ".py",
   "mimetype": "text/x-python",
   "name": "python",
   "nbconvert_exporter": "python",
   "pygments_lexer": "ipython3",
   "version": "3.9.7"
  }
 },
 "nbformat": 4,
 "nbformat_minor": 2
}
