{
 "cells": [
  {
   "cell_type": "markdown",
   "id": "9bdb47e2",
   "metadata": {},
   "source": [
    "# 네이버 영화리뷰 감성분석 도전하기"
   ]
  },
  {
   "cell_type": "code",
   "execution_count": 1,
   "id": "a3825b3f",
   "metadata": {},
   "outputs": [],
   "source": [
    "import pandas\n",
    "import konlpy\n",
    "import gensim"
   ]
  },
  {
   "cell_type": "markdown",
   "id": "5614b84d",
   "metadata": {},
   "source": [
    "### 1) 데이터 준비와 확인"
   ]
  },
  {
   "cell_type": "code",
   "execution_count": 2,
   "id": "81b0deba",
   "metadata": {},
   "outputs": [
    {
     "ename": "FileNotFoundError",
     "evalue": "[Errno 2] No such file or directory: '/Users/jmson/aiffel/sentiment_classification/data/ratings_train.txt'",
     "output_type": "error",
     "traceback": [
      "\u001b[0;31m---------------------------------------------------------------------------\u001b[0m",
      "\u001b[0;31mFileNotFoundError\u001b[0m                         Traceback (most recent call last)",
      "Cell \u001b[0;32mIn[2], line 4\u001b[0m\n\u001b[1;32m      1\u001b[0m \u001b[39mimport\u001b[39;00m \u001b[39mpandas\u001b[39;00m \u001b[39mas\u001b[39;00m \u001b[39mpd\u001b[39;00m\n\u001b[1;32m      3\u001b[0m \u001b[39m# 분석할 데이터 준비\u001b[39;00m\n\u001b[0;32m----> 4\u001b[0m train_data \u001b[39m=\u001b[39m pd\u001b[39m.\u001b[39;49mread_table(\u001b[39m'\u001b[39;49m\u001b[39m~/aiffel/sentiment_classification/data/ratings_train.txt\u001b[39;49m\u001b[39m'\u001b[39;49m)\n\u001b[1;32m      5\u001b[0m test_data \u001b[39m=\u001b[39m pd\u001b[39m.\u001b[39mread_table(\u001b[39m'\u001b[39m\u001b[39m~/aiffel/sentiment_classification/data/ratings_test.txt\u001b[39m\u001b[39m'\u001b[39m)\n\u001b[1;32m      7\u001b[0m train_data\u001b[39m.\u001b[39mhead()\n",
      "File \u001b[0;32m/opt/homebrew/lib/python3.11/site-packages/pandas/io/parsers/readers.py:1242\u001b[0m, in \u001b[0;36mread_table\u001b[0;34m(filepath_or_buffer, sep, delimiter, header, names, index_col, usecols, dtype, engine, converters, true_values, false_values, skipinitialspace, skiprows, skipfooter, nrows, na_values, keep_default_na, na_filter, verbose, skip_blank_lines, parse_dates, infer_datetime_format, keep_date_col, date_parser, date_format, dayfirst, cache_dates, iterator, chunksize, compression, thousands, decimal, lineterminator, quotechar, quoting, doublequote, escapechar, comment, encoding, encoding_errors, dialect, on_bad_lines, delim_whitespace, low_memory, memory_map, float_precision, storage_options, dtype_backend)\u001b[0m\n\u001b[1;32m   1229\u001b[0m kwds_defaults \u001b[39m=\u001b[39m _refine_defaults_read(\n\u001b[1;32m   1230\u001b[0m     dialect,\n\u001b[1;32m   1231\u001b[0m     delimiter,\n\u001b[0;32m   (...)\u001b[0m\n\u001b[1;32m   1238\u001b[0m     dtype_backend\u001b[39m=\u001b[39mdtype_backend,\n\u001b[1;32m   1239\u001b[0m )\n\u001b[1;32m   1240\u001b[0m kwds\u001b[39m.\u001b[39mupdate(kwds_defaults)\n\u001b[0;32m-> 1242\u001b[0m \u001b[39mreturn\u001b[39;00m _read(filepath_or_buffer, kwds)\n",
      "File \u001b[0;32m/opt/homebrew/lib/python3.11/site-packages/pandas/io/parsers/readers.py:577\u001b[0m, in \u001b[0;36m_read\u001b[0;34m(filepath_or_buffer, kwds)\u001b[0m\n\u001b[1;32m    574\u001b[0m _validate_names(kwds\u001b[39m.\u001b[39mget(\u001b[39m\"\u001b[39m\u001b[39mnames\u001b[39m\u001b[39m\"\u001b[39m, \u001b[39mNone\u001b[39;00m))\n\u001b[1;32m    576\u001b[0m \u001b[39m# Create the parser.\u001b[39;00m\n\u001b[0;32m--> 577\u001b[0m parser \u001b[39m=\u001b[39m TextFileReader(filepath_or_buffer, \u001b[39m*\u001b[39;49m\u001b[39m*\u001b[39;49mkwds)\n\u001b[1;32m    579\u001b[0m \u001b[39mif\u001b[39;00m chunksize \u001b[39mor\u001b[39;00m iterator:\n\u001b[1;32m    580\u001b[0m     \u001b[39mreturn\u001b[39;00m parser\n",
      "File \u001b[0;32m/opt/homebrew/lib/python3.11/site-packages/pandas/io/parsers/readers.py:1407\u001b[0m, in \u001b[0;36mTextFileReader.__init__\u001b[0;34m(self, f, engine, **kwds)\u001b[0m\n\u001b[1;32m   1404\u001b[0m     \u001b[39mself\u001b[39m\u001b[39m.\u001b[39moptions[\u001b[39m\"\u001b[39m\u001b[39mhas_index_names\u001b[39m\u001b[39m\"\u001b[39m] \u001b[39m=\u001b[39m kwds[\u001b[39m\"\u001b[39m\u001b[39mhas_index_names\u001b[39m\u001b[39m\"\u001b[39m]\n\u001b[1;32m   1406\u001b[0m \u001b[39mself\u001b[39m\u001b[39m.\u001b[39mhandles: IOHandles \u001b[39m|\u001b[39m \u001b[39mNone\u001b[39;00m \u001b[39m=\u001b[39m \u001b[39mNone\u001b[39;00m\n\u001b[0;32m-> 1407\u001b[0m \u001b[39mself\u001b[39m\u001b[39m.\u001b[39m_engine \u001b[39m=\u001b[39m \u001b[39mself\u001b[39;49m\u001b[39m.\u001b[39;49m_make_engine(f, \u001b[39mself\u001b[39;49m\u001b[39m.\u001b[39;49mengine)\n",
      "File \u001b[0;32m/opt/homebrew/lib/python3.11/site-packages/pandas/io/parsers/readers.py:1661\u001b[0m, in \u001b[0;36mTextFileReader._make_engine\u001b[0;34m(self, f, engine)\u001b[0m\n\u001b[1;32m   1659\u001b[0m     \u001b[39mif\u001b[39;00m \u001b[39m\"\u001b[39m\u001b[39mb\u001b[39m\u001b[39m\"\u001b[39m \u001b[39mnot\u001b[39;00m \u001b[39min\u001b[39;00m mode:\n\u001b[1;32m   1660\u001b[0m         mode \u001b[39m+\u001b[39m\u001b[39m=\u001b[39m \u001b[39m\"\u001b[39m\u001b[39mb\u001b[39m\u001b[39m\"\u001b[39m\n\u001b[0;32m-> 1661\u001b[0m \u001b[39mself\u001b[39m\u001b[39m.\u001b[39mhandles \u001b[39m=\u001b[39m get_handle(\n\u001b[1;32m   1662\u001b[0m     f,\n\u001b[1;32m   1663\u001b[0m     mode,\n\u001b[1;32m   1664\u001b[0m     encoding\u001b[39m=\u001b[39;49m\u001b[39mself\u001b[39;49m\u001b[39m.\u001b[39;49moptions\u001b[39m.\u001b[39;49mget(\u001b[39m\"\u001b[39;49m\u001b[39mencoding\u001b[39;49m\u001b[39m\"\u001b[39;49m, \u001b[39mNone\u001b[39;49;00m),\n\u001b[1;32m   1665\u001b[0m     compression\u001b[39m=\u001b[39;49m\u001b[39mself\u001b[39;49m\u001b[39m.\u001b[39;49moptions\u001b[39m.\u001b[39;49mget(\u001b[39m\"\u001b[39;49m\u001b[39mcompression\u001b[39;49m\u001b[39m\"\u001b[39;49m, \u001b[39mNone\u001b[39;49;00m),\n\u001b[1;32m   1666\u001b[0m     memory_map\u001b[39m=\u001b[39;49m\u001b[39mself\u001b[39;49m\u001b[39m.\u001b[39;49moptions\u001b[39m.\u001b[39;49mget(\u001b[39m\"\u001b[39;49m\u001b[39mmemory_map\u001b[39;49m\u001b[39m\"\u001b[39;49m, \u001b[39mFalse\u001b[39;49;00m),\n\u001b[1;32m   1667\u001b[0m     is_text\u001b[39m=\u001b[39;49mis_text,\n\u001b[1;32m   1668\u001b[0m     errors\u001b[39m=\u001b[39;49m\u001b[39mself\u001b[39;49m\u001b[39m.\u001b[39;49moptions\u001b[39m.\u001b[39;49mget(\u001b[39m\"\u001b[39;49m\u001b[39mencoding_errors\u001b[39;49m\u001b[39m\"\u001b[39;49m, \u001b[39m\"\u001b[39;49m\u001b[39mstrict\u001b[39;49m\u001b[39m\"\u001b[39;49m),\n\u001b[1;32m   1669\u001b[0m     storage_options\u001b[39m=\u001b[39;49m\u001b[39mself\u001b[39;49m\u001b[39m.\u001b[39;49moptions\u001b[39m.\u001b[39;49mget(\u001b[39m\"\u001b[39;49m\u001b[39mstorage_options\u001b[39;49m\u001b[39m\"\u001b[39;49m, \u001b[39mNone\u001b[39;49;00m),\n\u001b[1;32m   1670\u001b[0m )\n\u001b[1;32m   1671\u001b[0m \u001b[39massert\u001b[39;00m \u001b[39mself\u001b[39m\u001b[39m.\u001b[39mhandles \u001b[39mis\u001b[39;00m \u001b[39mnot\u001b[39;00m \u001b[39mNone\u001b[39;00m\n\u001b[1;32m   1672\u001b[0m f \u001b[39m=\u001b[39m \u001b[39mself\u001b[39m\u001b[39m.\u001b[39mhandles\u001b[39m.\u001b[39mhandle\n",
      "File \u001b[0;32m/opt/homebrew/lib/python3.11/site-packages/pandas/io/common.py:859\u001b[0m, in \u001b[0;36mget_handle\u001b[0;34m(path_or_buf, mode, encoding, compression, memory_map, is_text, errors, storage_options)\u001b[0m\n\u001b[1;32m    854\u001b[0m \u001b[39melif\u001b[39;00m \u001b[39misinstance\u001b[39m(handle, \u001b[39mstr\u001b[39m):\n\u001b[1;32m    855\u001b[0m     \u001b[39m# Check whether the filename is to be opened in binary mode.\u001b[39;00m\n\u001b[1;32m    856\u001b[0m     \u001b[39m# Binary mode does not support 'encoding' and 'newline'.\u001b[39;00m\n\u001b[1;32m    857\u001b[0m     \u001b[39mif\u001b[39;00m ioargs\u001b[39m.\u001b[39mencoding \u001b[39mand\u001b[39;00m \u001b[39m\"\u001b[39m\u001b[39mb\u001b[39m\u001b[39m\"\u001b[39m \u001b[39mnot\u001b[39;00m \u001b[39min\u001b[39;00m ioargs\u001b[39m.\u001b[39mmode:\n\u001b[1;32m    858\u001b[0m         \u001b[39m# Encoding\u001b[39;00m\n\u001b[0;32m--> 859\u001b[0m         handle \u001b[39m=\u001b[39m \u001b[39mopen\u001b[39;49m(\n\u001b[1;32m    860\u001b[0m             handle,\n\u001b[1;32m    861\u001b[0m             ioargs\u001b[39m.\u001b[39;49mmode,\n\u001b[1;32m    862\u001b[0m             encoding\u001b[39m=\u001b[39;49mioargs\u001b[39m.\u001b[39;49mencoding,\n\u001b[1;32m    863\u001b[0m             errors\u001b[39m=\u001b[39;49merrors,\n\u001b[1;32m    864\u001b[0m             newline\u001b[39m=\u001b[39;49m\u001b[39m\"\u001b[39;49m\u001b[39m\"\u001b[39;49m,\n\u001b[1;32m    865\u001b[0m         )\n\u001b[1;32m    866\u001b[0m     \u001b[39melse\u001b[39;00m:\n\u001b[1;32m    867\u001b[0m         \u001b[39m# Binary mode\u001b[39;00m\n\u001b[1;32m    868\u001b[0m         handle \u001b[39m=\u001b[39m \u001b[39mopen\u001b[39m(handle, ioargs\u001b[39m.\u001b[39mmode)\n",
      "\u001b[0;31mFileNotFoundError\u001b[0m: [Errno 2] No such file or directory: '/Users/jmson/aiffel/sentiment_classification/data/ratings_train.txt'"
     ]
    }
   ],
   "source": [
    "import pandas as pd\n",
    "\n",
    "# 분석할 데이터 준비\n",
    "train_data = pd.read_table('~/aiffel/sentiment_classification/data/ratings_train.txt')\n",
    "test_data = pd.read_table('~/aiffel/sentiment_classification/data/ratings_test.txt')\n",
    "\n",
    "train_data.head()"
   ]
  },
  {
   "cell_type": "markdown",
   "id": "ca3a9af4",
   "metadata": {},
   "source": [
    "### 2) 데이터로더 구성"
   ]
  },
  {
   "cell_type": "code",
   "execution_count": 9,
   "id": "99eb2c68",
   "metadata": {},
   "outputs": [
    {
     "ename": "Exception",
     "evalue": "Install MeCab in order to use it: http://konlpy.org/en/latest/install/",
     "output_type": "error",
     "traceback": [
      "\u001b[0;31m---------------------------------------------------------------------------\u001b[0m",
      "\u001b[0;31mNameError\u001b[0m                                 Traceback (most recent call last)",
      "File \u001b[0;32m/opt/homebrew/lib/python3.11/site-packages/konlpy/tag/_mecab.py:77\u001b[0m, in \u001b[0;36mMecab.__init__\u001b[0;34m(self, dicpath)\u001b[0m\n\u001b[1;32m     76\u001b[0m \u001b[39mtry\u001b[39;00m:\n\u001b[0;32m---> 77\u001b[0m     \u001b[39mself\u001b[39m\u001b[39m.\u001b[39mtagger \u001b[39m=\u001b[39m Tagger(\u001b[39m'\u001b[39m\u001b[39m-d \u001b[39m\u001b[39m%s\u001b[39;00m\u001b[39m'\u001b[39m \u001b[39m%\u001b[39m dicpath)\n\u001b[1;32m     78\u001b[0m     \u001b[39mself\u001b[39m\u001b[39m.\u001b[39mtagset \u001b[39m=\u001b[39m utils\u001b[39m.\u001b[39mread_json(\u001b[39m'\u001b[39m\u001b[39m%s\u001b[39;00m\u001b[39m/data/tagset/mecab.json\u001b[39m\u001b[39m'\u001b[39m \u001b[39m%\u001b[39m utils\u001b[39m.\u001b[39minstallpath)\n",
      "\u001b[0;31mNameError\u001b[0m: name 'Tagger' is not defined",
      "\nDuring handling of the above exception, another exception occurred:\n",
      "\u001b[0;31mException\u001b[0m                                 Traceback (most recent call last)",
      "Cell \u001b[0;32mIn[9], line 5\u001b[0m\n\u001b[1;32m      2\u001b[0m \u001b[39mimport\u001b[39;00m \u001b[39mnumpy\u001b[39;00m \u001b[39mas\u001b[39;00m \u001b[39mnp\u001b[39;00m\n\u001b[1;32m      3\u001b[0m \u001b[39mfrom\u001b[39;00m \u001b[39mcollections\u001b[39;00m \u001b[39mimport\u001b[39;00m Counter\n\u001b[0;32m----> 5\u001b[0m tokenizer \u001b[39m=\u001b[39m Mecab()\n\u001b[1;32m      6\u001b[0m stopwords \u001b[39m=\u001b[39m [\u001b[39m'\u001b[39m\u001b[39m의\u001b[39m\u001b[39m'\u001b[39m,\u001b[39m'\u001b[39m\u001b[39m가\u001b[39m\u001b[39m'\u001b[39m,\u001b[39m'\u001b[39m\u001b[39m이\u001b[39m\u001b[39m'\u001b[39m,\u001b[39m'\u001b[39m\u001b[39m은\u001b[39m\u001b[39m'\u001b[39m,\u001b[39m'\u001b[39m\u001b[39m들\u001b[39m\u001b[39m'\u001b[39m,\u001b[39m'\u001b[39m\u001b[39m는\u001b[39m\u001b[39m'\u001b[39m,\u001b[39m'\u001b[39m\u001b[39m좀\u001b[39m\u001b[39m'\u001b[39m,\u001b[39m'\u001b[39m\u001b[39m잘\u001b[39m\u001b[39m'\u001b[39m,\u001b[39m'\u001b[39m\u001b[39m걍\u001b[39m\u001b[39m'\u001b[39m,\u001b[39m'\u001b[39m\u001b[39m과\u001b[39m\u001b[39m'\u001b[39m,\u001b[39m'\u001b[39m\u001b[39m도\u001b[39m\u001b[39m'\u001b[39m,\u001b[39m'\u001b[39m\u001b[39m를\u001b[39m\u001b[39m'\u001b[39m,\u001b[39m'\u001b[39m\u001b[39m으로\u001b[39m\u001b[39m'\u001b[39m,\u001b[39m'\u001b[39m\u001b[39m자\u001b[39m\u001b[39m'\u001b[39m,\u001b[39m'\u001b[39m\u001b[39m에\u001b[39m\u001b[39m'\u001b[39m,\u001b[39m'\u001b[39m\u001b[39m와\u001b[39m\u001b[39m'\u001b[39m,\u001b[39m'\u001b[39m\u001b[39m한\u001b[39m\u001b[39m'\u001b[39m,\u001b[39m'\u001b[39m\u001b[39m하다\u001b[39m\u001b[39m'\u001b[39m]\n\u001b[1;32m      8\u001b[0m \u001b[39mdef\u001b[39;00m \u001b[39mload_data\u001b[39m(train_data, test_data, num_words\u001b[39m=\u001b[39m\u001b[39m10000\u001b[39m): \u001b[39m# 데이터 전처리 후 반환하는 함수\u001b[39;00m\n",
      "File \u001b[0;32m/opt/homebrew/lib/python3.11/site-packages/konlpy/tag/_mecab.py:82\u001b[0m, in \u001b[0;36mMecab.__init__\u001b[0;34m(self, dicpath)\u001b[0m\n\u001b[1;32m     80\u001b[0m     \u001b[39mraise\u001b[39;00m \u001b[39mException\u001b[39;00m(\u001b[39m'\u001b[39m\u001b[39mThe MeCab dictionary does not exist at \u001b[39m\u001b[39m\"\u001b[39m\u001b[39m%s\u001b[39;00m\u001b[39m\"\u001b[39m\u001b[39m. Is the dictionary correctly installed?\u001b[39m\u001b[39m\\n\u001b[39;00m\u001b[39mYou can also try entering the dictionary path when initializing the Mecab class: \u001b[39m\u001b[39m\"\u001b[39m\u001b[39mMecab(\u001b[39m\u001b[39m\\'\u001b[39;00m\u001b[39m/some/dic/path\u001b[39m\u001b[39m\\'\u001b[39;00m\u001b[39m)\u001b[39m\u001b[39m\"\u001b[39m\u001b[39m'\u001b[39m \u001b[39m%\u001b[39m dicpath)\n\u001b[1;32m     81\u001b[0m \u001b[39mexcept\u001b[39;00m \u001b[39mNameError\u001b[39;00m:\n\u001b[0;32m---> 82\u001b[0m     \u001b[39mraise\u001b[39;00m \u001b[39mException\u001b[39;00m(\u001b[39m'\u001b[39m\u001b[39mInstall MeCab in order to use it: http://konlpy.org/en/latest/install/\u001b[39m\u001b[39m'\u001b[39m)\n",
      "\u001b[0;31mException\u001b[0m: Install MeCab in order to use it: http://konlpy.org/en/latest/install/"
     ]
    }
   ],
   "source": [
    "from konlpy.tag import Mecab\n",
    "import numpy as np\n",
    "from collections import Counter\n",
    "\n",
    "tokenizer = Mecab()\n",
    "stopwords = ['의','가','이','은','들','는','좀','잘','걍','과','도','를','으로','자','에','와','한','하다']\n",
    "\n",
    "def load_data(train_data, test_data, num_words=10000): # 데이터 전처리 후 반환하는 함수\n",
    "    train_data.drop_duplicates(subset=['document'], inplace=True)\n",
    "    train_data = train_data.dropna(how='any')\n",
    "    test_data.drop_duplicates(subset=['document'], inplace=True)\n",
    "    test_data = test_data.dropna(how='any')\n",
    "\n",
    "    X_train= []\n",
    "    for sentence in train_data['document']:\n",
    "        temp_X = tokenizer.morphs(sentence)\n",
    "        temp_X = [word for word in temp_X if not word in stopwords]\n",
    "        X_train.append(temp_X)\n",
    "\n",
    "    X_test = []\n",
    "    for sentence in test_data['document']:\n",
    "        temp_X = tokenizer.morphs(sentence)\n",
    "        temp_X = [word for word in temp_X if not word in stopwords]\n",
    "        X_test.append(temp_X)\n",
    "\n",
    "    words = np.concatenate(X_train).tolist()\n",
    "    counter = Counter(words)\n",
    "    counter = counter.most_common(num_words-4)\n",
    "    vocab = ['<PAD>','<BOS>', '<UNK>', '<UNUSED>'] + [key for key, _ in counter]\n",
    "    word_to_index = {word:index for index, word in enumerate(vocab)}\n",
    "\n",
    "    def wordlist_to_indexlist(wordlist):\n",
    "        return [word_to_index[word] if word in word_to_index else word_to_index['<UNK>'] for word in wordlist]\n",
    "        \n",
    "    X_train = list(map(wordlist_to_indexlist, X_train))\n",
    "    X_test = list(map(wordlist_to_indexlist, X_test))\n",
    "        \n",
    "    return X_train, np.array(list(train_data['label'])), X_test, np.array(list(test_data['label'])), word_to_index\n",
    "    \n",
    "X_train, y_train, X_test, y_test, word_to_index = load_data(train_data, test_data) # 데이터 준비 완료"
   ]
  },
  {
   "cell_type": "code",
   "execution_count": 4,
   "id": "c330ddc3",
   "metadata": {},
   "outputs": [],
   "source": [
    "index_to_word = {index:word for word, index in word_to_index.items()}"
   ]
  },
  {
   "cell_type": "code",
   "execution_count": 5,
   "id": "9393a022",
   "metadata": {},
   "outputs": [],
   "source": [
    "# 문장 1개를 단어 인덱스 리스트 벡터로 반환함\n",
    "def get_encoded_sentence(sentence, word_to_index):\n",
    "    return [word_to_index['<BOS>']]+[word_to_index[word] if word in word_to_index else word_to_index['<UNK>'] for word in sentence.split()]\n",
    "\n",
    "# 여러 개의 문장 리스트를 단어 인덱스 리스트 벡터로 encode \n",
    "def get_encoded_sentences(sentences, word_to_index):\n",
    "    return [get_encoded_sentence(sentence, word_to_index) for sentence in sentences]\n",
    "\n",
    "# 숫자 벡터로 encode된 문장을 원래대로 decode\n",
    "def get_decoded_sentence(encoded_sentence, index_to_word):\n",
    "    return ' '.join(index_to_word[index] if index in index_to_word else '<UNK>' for index in encoded_sentence[1:])  #[1:]를 통해 <BOS>를 제외\n",
    "\n",
    "# 여러 개의 숫자 벡터로 encode된 문장들을 decode\n",
    "def get_decoded_sentences(encoded_sentences, index_to_word):\n",
    "    return [get_decoded_sentence(encoded_sentence, index_to_word) for encoded_sentence in encoded_sentences]"
   ]
  },
  {
   "cell_type": "markdown",
   "id": "27a5a183",
   "metadata": {},
   "source": [
    "### 3) 모델 구성을 위한 데이터 분석 및 가공"
   ]
  },
  {
   "cell_type": "code",
   "execution_count": 6,
   "id": "8d67cad9",
   "metadata": {},
   "outputs": [
    {
     "name": "stdout",
     "output_type": "stream",
     "text": [
      "max len:  116\n",
      "mean len:  15.98170773419436\n"
     ]
    },
    {
     "data": {
      "image/png": "[encoded data removed]",
      "text/plain": [
       "<Figure size 432x288 with 1 Axes>"
      ]
     },
     "metadata": {
      "needs_background": "light"
     },
     "output_type": "display_data"
    }
   ],
   "source": [
    "import matplotlib.pyplot as plt\n",
    "\n",
    "print('max len: ', max(len(review) for review in X_train)) # 데이터셋 내 최대 문장 길이\n",
    "print('mean len: ', sum(map(len, X_train))/len(X_train)) # 데이터셋 문장 길이 평균\n",
    "plt.hist([len(review) for review in X_train], bins=50)\n",
    "plt.show() # 문장 길이 분포 확인"
   ]
  },
  {
   "cell_type": "code",
   "execution_count": 7,
   "id": "958d8078",
   "metadata": {},
   "outputs": [],
   "source": [
    "def below_threshold_len(max_len, nested_list):\n",
    "    count = 0\n",
    "    for sentence in nested_list:\n",
    "        if(len(sentence) <= max_len):\n",
    "            count += 1\n",
    "    print(f'최대 길이: {max_len}, 커버 가능한 샘플 비율: {(count/len(nested_list))*100}')"
   ]
  },
  {
   "cell_type": "code",
   "execution_count": 8,
   "id": "29cf31e5",
   "metadata": {},
   "outputs": [
    {
     "name": "stdout",
     "output_type": "stream",
     "text": [
      "최대 길이: 50, 커버 가능한 샘플 비율: 96.03439547960761\n"
     ]
    }
   ],
   "source": [
    "below_threshold_len(50, X_train) # 최대 길이 50일 때 96퍼센트의 샘플 커버 가능"
   ]
  },
  {
   "cell_type": "code",
   "execution_count": 9,
   "id": "c748c1bd",
   "metadata": {},
   "outputs": [],
   "source": [
    "import tensorflow as tf\n",
    "# 최대 문장 길이 50으로 결정\n",
    "# 패딩 추가\n",
    "X_train = tf.keras.preprocessing.sequence.pad_sequences(X_train, padding='pre',maxlen=50)\n",
    "X_test = tf.keras.preprocessing.sequence.pad_sequences(X_test, padding='pre',maxlen=50)"
   ]
  },
  {
   "cell_type": "markdown",
   "id": "a77c5aa4",
   "metadata": {},
   "source": [
    "### 4) 모델 구성 및 validation set 구성"
   ]
  },
  {
   "cell_type": "markdown",
   "id": "22d49065",
   "metadata": {},
   "source": [
    "#### (1) LSTM"
   ]
  },
  {
   "cell_type": "code",
   "execution_count": 10,
   "id": "1ffd388f",
   "metadata": {},
   "outputs": [
    {
     "name": "stdout",
     "output_type": "stream",
     "text": [
      "Model: \"sequential\"\n",
      "_________________________________________________________________\n",
      "Layer (type)                 Output Shape              Param #   \n",
      "=================================================================\n",
      "embedding (Embedding)        (None, None, 50)          500000    \n",
      "_________________________________________________________________\n",
      "lstm (LSTM)                  (None, 30)                9720      \n",
      "_________________________________________________________________\n",
      "dense (Dense)                (None, 1)                 31        \n",
      "=================================================================\n",
      "Total params: 509,751\n",
      "Trainable params: 509,751\n",
      "Non-trainable params: 0\n",
      "_________________________________________________________________\n"
     ]
    }
   ],
   "source": [
    "# LSTM 모델 준비\n",
    "from tensorflow.keras.layers import Embedding, Dense, LSTM\n",
    "from tensorflow.keras.models import Sequential\n",
    "from tensorflow.keras.callbacks import EarlyStopping\n",
    "\n",
    "vocab_size = 10000 \n",
    "word_vector_dim = 50 \n",
    "hidden_units = 30\n",
    "\n",
    "model_lstm = Sequential()\n",
    "model_lstm.add(Embedding(vocab_size, word_vector_dim))\n",
    "model_lstm.add(LSTM(hidden_units))\n",
    "model_lstm.add(Dense(1, activation='sigmoid'))\n",
    "\n",
    "es = EarlyStopping(monitor='val_loss', mode='min', verbose=1, patience=4) # val_loss가 4번 떨어지면 학습 멈춤\n",
    "model_lstm.compile(optimizer='adam', loss='binary_crossentropy', metrics='accuracy')\n",
    "model_lstm.summary()"
   ]
  },
  {
   "cell_type": "markdown",
   "id": "5026194e",
   "metadata": {},
   "source": [
    "#### (2) GRU"
   ]
  },
  {
   "cell_type": "code",
   "execution_count": 11,
   "id": "ca4eb7ca",
   "metadata": {},
   "outputs": [
    {
     "name": "stdout",
     "output_type": "stream",
     "text": [
      "Model: \"sequential_1\"\n",
      "_________________________________________________________________\n",
      "Layer (type)                 Output Shape              Param #   \n",
      "=================================================================\n",
      "embedding_1 (Embedding)      (None, None, 50)          500000    \n",
      "_________________________________________________________________\n",
      "gru (GRU)                    (None, 30)                7380      \n",
      "_________________________________________________________________\n",
      "dense_1 (Dense)              (None, 1)                 31        \n",
      "=================================================================\n",
      "Total params: 507,411\n",
      "Trainable params: 507,411\n",
      "Non-trainable params: 0\n",
      "_________________________________________________________________\n"
     ]
    }
   ],
   "source": [
    "# GRU 모델 준비\n",
    "from tensorflow.keras.layers import Embedding, Dense, GRU\n",
    "from tensorflow.keras.models import Sequential\n",
    "from tensorflow.keras.callbacks import EarlyStopping\n",
    "\n",
    "vocab_size=10000\n",
    "word_vector_dim = 50\n",
    "hidden_units = 30\n",
    "\n",
    "model_gru = Sequential()\n",
    "model_gru.add(Embedding(vocab_size, word_vector_dim))\n",
    "model_gru.add(GRU(hidden_units))\n",
    "model_gru.add(Dense(1, activation='sigmoid'))\n",
    "\n",
    "es = EarlyStopping(monitor='val_loss', mode='min', verbose=1, patience=4)\n",
    "model_gru.compile(optimizer='adam', loss='binary_crossentropy', metrics='accuracy')\n",
    "model_gru.summary()"
   ]
  },
  {
   "cell_type": "markdown",
   "id": "e9287052",
   "metadata": {},
   "source": [
    "#### (3) 1D CNN"
   ]
  },
  {
   "cell_type": "code",
   "execution_count": 12,
   "id": "eb1c9daf",
   "metadata": {},
   "outputs": [
    {
     "name": "stdout",
     "output_type": "stream",
     "text": [
      "Model: \"sequential_2\"\n",
      "_________________________________________________________________\n",
      "Layer (type)                 Output Shape              Param #   \n",
      "=================================================================\n",
      "embedding_2 (Embedding)      (None, None, 16)          160000    \n",
      "_________________________________________________________________\n",
      "conv1d (Conv1D)              (None, None, 16)          1808      \n",
      "_________________________________________________________________\n",
      "max_pooling1d (MaxPooling1D) (None, None, 16)          0         \n",
      "_________________________________________________________________\n",
      "conv1d_1 (Conv1D)            (None, None, 16)          1808      \n",
      "_________________________________________________________________\n",
      "global_max_pooling1d (Global (None, 16)                0         \n",
      "_________________________________________________________________\n",
      "dense_2 (Dense)              (None, 8)                 136       \n",
      "_________________________________________________________________\n",
      "dense_3 (Dense)              (None, 1)                 9         \n",
      "=================================================================\n",
      "Total params: 163,761\n",
      "Trainable params: 163,761\n",
      "Non-trainable params: 0\n",
      "_________________________________________________________________\n"
     ]
    }
   ],
   "source": [
    "# 1D CNN 모델 준비\n",
    "from tensorflow.keras.layers import Embedding, Dense, Conv1D, MaxPooling1D, GlobalMaxPooling1D\n",
    "from tensorflow.keras.models import Sequential\n",
    "from tensorflow.keras.callbacks import EarlyStopping\n",
    "\n",
    "vocab_size = 10000\n",
    "word_vector_dim_cnn = 16\n",
    "\n",
    "model_cnn = Sequential()\n",
    "model_cnn.add(Embedding(vocab_size, word_vector_dim_cnn))\n",
    "model_cnn.add(Conv1D(16, 7, activation='relu'))\n",
    "model_cnn.add(MaxPooling1D(5))\n",
    "model_cnn.add(Conv1D(16, 7, activation='relu'))\n",
    "model_cnn.add(GlobalMaxPooling1D())\n",
    "model_cnn.add(Dense(8, activation='relu'))\n",
    "model_cnn.add(Dense(1, activation='sigmoid'))\n",
    "\n",
    "es = EarlyStopping(monitor='val_loss', mode='min', verbose=1, patience=4)\n",
    "model_cnn.compile(optimizer='adam', loss='binary_crossentropy', metrics='accuracy')\n",
    "model_cnn.summary()"
   ]
  },
  {
   "cell_type": "code",
   "execution_count": 13,
   "id": "b76308d7",
   "metadata": {},
   "outputs": [],
   "source": [
    "from sklearn.model_selection import train_test_split\n",
    "\n",
    "X_train, X_val, y_train, y_val = train_test_split(X_train, y_train, test_size=0.25, shuffle=True,\\\n",
    "                                                 stratify=y_train, random_state=1234)"
   ]
  },
  {
   "cell_type": "markdown",
   "id": "116cfb5a",
   "metadata": {},
   "source": [
    "### 5) 모델 훈련 개시"
   ]
  },
  {
   "cell_type": "markdown",
   "id": "a0c50d5e",
   "metadata": {},
   "source": [
    "#### (1) LSTM"
   ]
  },
  {
   "cell_type": "code",
   "execution_count": 14,
   "id": "26365c1e",
   "metadata": {},
   "outputs": [
    {
     "name": "stdout",
     "output_type": "stream",
     "text": [
      "Epoch 1/15\n",
      "215/215 [==============================] - 5s 9ms/step - loss: 0.4616 - accuracy: 0.7891 - val_loss: 0.3641 - val_accuracy: 0.8411\n",
      "Epoch 2/15\n",
      "215/215 [==============================] - 1s 6ms/step - loss: 0.3296 - accuracy: 0.8595 - val_loss: 0.3472 - val_accuracy: 0.8485\n",
      "Epoch 3/15\n",
      "215/215 [==============================] - 1s 6ms/step - loss: 0.3023 - accuracy: 0.8724 - val_loss: 0.3694 - val_accuracy: 0.8404\n",
      "Epoch 4/15\n",
      "215/215 [==============================] - 1s 6ms/step - loss: 0.2835 - accuracy: 0.8810 - val_loss: 0.3463 - val_accuracy: 0.8500\n",
      "Epoch 5/15\n",
      "215/215 [==============================] - 1s 6ms/step - loss: 0.2638 - accuracy: 0.8901 - val_loss: 0.3556 - val_accuracy: 0.8513\n",
      "Epoch 6/15\n",
      "215/215 [==============================] - 1s 6ms/step - loss: 0.2438 - accuracy: 0.8990 - val_loss: 0.3573 - val_accuracy: 0.8482\n",
      "Epoch 7/15\n",
      "215/215 [==============================] - 1s 6ms/step - loss: 0.2259 - accuracy: 0.9071 - val_loss: 0.3753 - val_accuracy: 0.8497\n",
      "Epoch 8/15\n",
      "215/215 [==============================] - 1s 7ms/step - loss: 0.2094 - accuracy: 0.9140 - val_loss: 0.4017 - val_accuracy: 0.8485\n",
      "Epoch 00008: early stopping\n"
     ]
    }
   ],
   "source": [
    "history_lstm = model_lstm.fit(X_train, y_train, epochs=15, callbacks=es, batch_size=512,\\\n",
    "                    validation_data=(X_val, y_val), verbose=1) # LSTM 훈련"
   ]
  },
  {
   "cell_type": "code",
   "execution_count": 15,
   "id": "25b10ef2",
   "metadata": {},
   "outputs": [
    {
     "name": "stdout",
     "output_type": "stream",
     "text": [
      "1537/1537 - 3s - loss: 0.4019 - accuracy: 0.8462\n",
      "[0.4018649756908417, 0.8462274074554443]\n"
     ]
    }
   ],
   "source": [
    "result_lstm = model_lstm.evaluate(X_test, y_test, verbose=2)\n",
    "print(result_lstm) # LSTM 결과"
   ]
  },
  {
   "cell_type": "markdown",
   "id": "16b73f55",
   "metadata": {},
   "source": [
    "#### (2) GRU"
   ]
  },
  {
   "cell_type": "code",
   "execution_count": 16,
   "id": "c7bfd1b1",
   "metadata": {},
   "outputs": [
    {
     "name": "stdout",
     "output_type": "stream",
     "text": [
      "Epoch 1/15\n",
      "215/215 [==============================] - 3s 8ms/step - loss: 0.4472 - accuracy: 0.7914 - val_loss: 0.3612 - val_accuracy: 0.8427\n",
      "Epoch 2/15\n",
      "215/215 [==============================] - 1s 6ms/step - loss: 0.3301 - accuracy: 0.8598 - val_loss: 0.3565 - val_accuracy: 0.8460\n",
      "Epoch 3/15\n",
      "215/215 [==============================] - 1s 7ms/step - loss: 0.3102 - accuracy: 0.8697 - val_loss: 0.3528 - val_accuracy: 0.8470\n",
      "Epoch 4/15\n",
      "215/215 [==============================] - 1s 7ms/step - loss: 0.2966 - accuracy: 0.8754 - val_loss: 0.3603 - val_accuracy: 0.8476\n",
      "Epoch 5/15\n",
      "215/215 [==============================] - 1s 6ms/step - loss: 0.2826 - accuracy: 0.8826 - val_loss: 0.3517 - val_accuracy: 0.8506\n",
      "Epoch 6/15\n",
      "215/215 [==============================] - 1s 6ms/step - loss: 0.2661 - accuracy: 0.8906 - val_loss: 0.3617 - val_accuracy: 0.8513\n",
      "Epoch 7/15\n",
      "215/215 [==============================] - 1s 6ms/step - loss: 0.2486 - accuracy: 0.8990 - val_loss: 0.3596 - val_accuracy: 0.8517\n",
      "Epoch 8/15\n",
      "215/215 [==============================] - 1s 6ms/step - loss: 0.2309 - accuracy: 0.9082 - val_loss: 0.3685 - val_accuracy: 0.8499\n",
      "Epoch 9/15\n",
      "215/215 [==============================] - 1s 6ms/step - loss: 0.2155 - accuracy: 0.9147 - val_loss: 0.3861 - val_accuracy: 0.8493\n",
      "Epoch 00009: early stopping\n"
     ]
    }
   ],
   "source": [
    "history_gru = model_gru.fit(X_train, y_train, epochs=15, callbacks=es, batch_size=512, \\\n",
    "                        validation_data=(X_val, y_val), verbose=1) # GRU 훈련"
   ]
  },
  {
   "cell_type": "code",
   "execution_count": 17,
   "id": "d6fa76c0",
   "metadata": {},
   "outputs": [
    {
     "name": "stdout",
     "output_type": "stream",
     "text": [
      "1537/1537 - 3s - loss: 0.3858 - accuracy: 0.8461\n",
      "[0.3858424425125122, 0.8461053371429443]\n"
     ]
    }
   ],
   "source": [
    "result_gru = model_gru.evaluate(X_test, y_test, verbose=2)\n",
    "print(result_gru) # GRU 결과"
   ]
  },
  {
   "cell_type": "markdown",
   "id": "57f46209",
   "metadata": {},
   "source": [
    "#### (3) 1D CNN"
   ]
  },
  {
   "cell_type": "code",
   "execution_count": 18,
   "id": "476c2645",
   "metadata": {},
   "outputs": [
    {
     "name": "stdout",
     "output_type": "stream",
     "text": [
      "Epoch 1/15\n",
      "215/215 [==============================] - 3s 6ms/step - loss: 0.5960 - accuracy: 0.6624 - val_loss: 0.4830 - val_accuracy: 0.7567\n",
      "Epoch 2/15\n",
      "215/215 [==============================] - 1s 5ms/step - loss: 0.4473 - accuracy: 0.7790 - val_loss: 0.4609 - val_accuracy: 0.7689\n",
      "Epoch 3/15\n",
      "215/215 [==============================] - 1s 5ms/step - loss: 0.4126 - accuracy: 0.7976 - val_loss: 0.4597 - val_accuracy: 0.7717\n",
      "Epoch 4/15\n",
      "215/215 [==============================] - 1s 5ms/step - loss: 0.3875 - accuracy: 0.8110 - val_loss: 0.4656 - val_accuracy: 0.7705\n",
      "Epoch 5/15\n",
      "215/215 [==============================] - 1s 5ms/step - loss: 0.3616 - accuracy: 0.8253 - val_loss: 0.4776 - val_accuracy: 0.7692\n",
      "Epoch 6/15\n",
      "215/215 [==============================] - 1s 5ms/step - loss: 0.3322 - accuracy: 0.8425 - val_loss: 0.5007 - val_accuracy: 0.7599\n",
      "Epoch 7/15\n",
      "215/215 [==============================] - 1s 5ms/step - loss: 0.3030 - accuracy: 0.8564 - val_loss: 0.5321 - val_accuracy: 0.7627\n",
      "Epoch 00007: early stopping\n"
     ]
    }
   ],
   "source": [
    "history_cnn = model_cnn.fit(X_train, y_train, epochs=15, callbacks=es, batch_size=512, \\\n",
    "                        validation_data=(X_val, y_val), verbose=1) # 1D CNN 훈련"
   ]
  },
  {
   "cell_type": "code",
   "execution_count": 19,
   "id": "9cde3d31",
   "metadata": {},
   "outputs": [
    {
     "name": "stdout",
     "output_type": "stream",
     "text": [
      "1537/1537 - 3s - loss: 0.5282 - accuracy: 0.7617\n",
      "[0.5281824469566345, 0.761702299118042]\n"
     ]
    }
   ],
   "source": [
    "result_cnn = model_cnn.evaluate(X_test, y_test, verbose=2)\n",
    "print(result_cnn) #1D CNN 결과"
   ]
  },
  {
   "cell_type": "markdown",
   "id": "f4180466",
   "metadata": {},
   "source": [
    "### 6) Loss, Accuracy 그래프 시각화"
   ]
  },
  {
   "cell_type": "code",
   "execution_count": null,
   "id": "a1e1b925",
   "metadata": {},
   "outputs": [],
   "source": [
    "def show_loss_acc(history_model, show): # epoch에 따라 증감하는 accuracy, loss 시각화\n",
    "    history_dict = history_model.history\n",
    "    acc = history_dict['accuracy']\n",
    "    val_acc = history_dict['val_accuracy']\n",
    "    loss = history_dict['loss']\n",
    "    val_loss = history_dict['val_loss']\n",
    "    \n",
    "    epochs = range(1, len(acc) + 1)\n",
    "    \n",
    "    if show == 'acc':\n",
    "        show = acc\n",
    "        val_show = val_acc\n",
    "    else:\n",
    "        show = loss\n",
    "        val_show = val_loss\n",
    "\n",
    "    plt.plot(epochs, show, 'bo', label='Training loss')\n",
    "    plt.plot(epochs, val_show, 'b', label='Validation loss')\n",
    "    plt.title('Training and validation loss')\n",
    "    plt.xlabel('Epochs')\n",
    "    plt.ylabel('Loss')\n",
    "    plt.legend()\n",
    "    \n",
    "    plt.show()"
   ]
  },
  {
   "cell_type": "markdown",
   "id": "eaa831ce",
   "metadata": {},
   "source": [
    "#### (1) LSTM"
   ]
  },
  {
   "cell_type": "code",
   "execution_count": 21,
   "id": "516e6b00",
   "metadata": {},
   "outputs": [
    {
     "data": {
      "image/png": "[encoded data removed]",
      "text/plain": [
       "<Figure size 432x288 with 1 Axes>"
      ]
     },
     "metadata": {
      "needs_background": "light"
     },
     "output_type": "display_data"
    }
   ],
   "source": [
    "show_loss_acc(history_lstm)"
   ]
  },
  {
   "cell_type": "markdown",
   "id": "b0fb6c34",
   "metadata": {},
   "source": [
    "#### (2) GRU"
   ]
  },
  {
   "cell_type": "code",
   "execution_count": 22,
   "id": "30e1f918",
   "metadata": {},
   "outputs": [
    {
     "data": {
      "image/png": "[encoded data removed]",
      "text/plain": [
       "<Figure size 432x288 with 1 Axes>"
      ]
     },
     "metadata": {
      "needs_background": "light"
     },
     "output_type": "display_data"
    }
   ],
   "source": [
    "show_loss_acc(history_gru)"
   ]
  },
  {
   "cell_type": "markdown",
   "id": "4682bffb",
   "metadata": {},
   "source": [
    "#### (3) CNN"
   ]
  },
  {
   "cell_type": "code",
   "execution_count": 23,
   "id": "da7972aa",
   "metadata": {},
   "outputs": [
    {
     "data": {
      "image/png": "[encoded data removed]",
      "text/plain": [
       "<Figure size 432x288 with 1 Axes>"
      ]
     },
     "metadata": {
      "needs_background": "light"
     },
     "output_type": "display_data"
    }
   ],
   "source": [
    "show_loss_acc(history_cnn)"
   ]
  },
  {
   "cell_type": "markdown",
   "id": "24f12980",
   "metadata": {},
   "source": [
    "### 7) 학습된 Embedding 레이어 분석"
   ]
  },
  {
   "cell_type": "markdown",
   "id": "242afb05",
   "metadata": {},
   "source": [
    "#### (1) LSTM"
   ]
  },
  {
   "cell_type": "code",
   "execution_count": 24,
   "id": "151965c2",
   "metadata": {},
   "outputs": [
    {
     "name": "stdout",
     "output_type": "stream",
     "text": [
      "(10000, 50)\n"
     ]
    }
   ],
   "source": [
    "import os \n",
    "from gensim.models.keyedvectors import Word2VecKeyedVectors\n",
    "\n",
    "embedding_layer = model_lstm.layers[0]\n",
    "weights = embedding_layer.get_weights()[0]\n",
    "print(weights.shape) \n",
    "\n",
    "word2vec_file_path_lstm = os.getenv('HOME')+'/aiffel/sentiment_classification/data/word2vec_lstm.txt'\n",
    "f = open(word2vec_file_path_lstm, 'w')\n",
    "f.write('{} {}\\n'.format(vocab_size-4, word_vector_dim)) \n",
    "\n",
    "vectors = model_lstm.get_weights()[0]\n",
    "for i in range(4,vocab_size):\n",
    "    f.write('{} {}\\n'.format(index_to_word[i], ' '.join(map(str, list(vectors[i, :])))))\n",
    "f.close()"
   ]
  },
  {
   "cell_type": "code",
   "execution_count": 66,
   "id": "3257b126",
   "metadata": {},
   "outputs": [
    {
     "data": {
      "text/plain": [
       "array([-0.10338707, -0.09272889, -0.07954173, -0.06722962, -0.08293702,\n",
       "       -0.0221831 ,  0.09565692,  0.13618015,  0.07182993,  0.11074545,\n",
       "        0.05544777, -0.14621629, -0.1247906 ,  0.0826328 , -0.05834436,\n",
       "        0.07176371,  0.07454565, -0.06764479,  0.08570617,  0.0797506 ,\n",
       "        0.10930809,  0.07361075,  0.11297198,  0.14133841,  0.11338778,\n",
       "       -0.09444339,  0.06530226, -0.08984935,  0.0489859 , -0.11216385,\n",
       "       -0.10423142, -0.05931703,  0.07993412,  0.14629062, -0.03407083,\n",
       "       -0.12134437,  0.04053222,  0.09212717,  0.11698933, -0.11145418,\n",
       "       -0.08363123,  0.08711222,  0.07835259, -0.07228428, -0.08384022,\n",
       "        0.1060757 , -0.10100158,  0.1202772 ,  0.1346255 , -0.05037095],\n",
       "      dtype=float32)"
      ]
     },
     "execution_count": 66,
     "metadata": {},
     "output_type": "execute_result"
    }
   ],
   "source": [
    "word_vectors = Word2VecKeyedVectors.load_word2vec_format(word2vec_file_path_lstm, binary=False)\n",
    "vector = word_vectors['눈물']\n",
    "vector"
   ]
  },
  {
   "cell_type": "code",
   "execution_count": 67,
   "id": "a58fef23",
   "metadata": {},
   "outputs": [
    {
     "data": {
      "text/plain": [
       "[('굿', 0.9430440664291382),\n",
       " ('ㅠㅠㅠㅠ', 0.939810037612915),\n",
       " ('으뜸', 0.9385641813278198),\n",
       " ('탁월', 0.9360297322273254),\n",
       " ('전율', 0.9357385039329529),\n",
       " ('빠져', 0.9335129261016846),\n",
       " ('최고', 0.9311909079551697),\n",
       " ('앓', 0.9307574033737183),\n",
       " ('이제서야', 0.9297536611557007),\n",
       " ('멋져요', 0.928886890411377)]"
      ]
     },
     "execution_count": 67,
     "metadata": {},
     "output_type": "execute_result"
    }
   ],
   "source": [
    "word_vectors.similar_by_word('눈물')"
   ]
  },
  {
   "cell_type": "markdown",
   "id": "a7b15095",
   "metadata": {},
   "source": [
    "#### (2) GRU"
   ]
  },
  {
   "cell_type": "code",
   "execution_count": 27,
   "id": "c870bcb9",
   "metadata": {},
   "outputs": [
    {
     "name": "stdout",
     "output_type": "stream",
     "text": [
      "(10000, 50)\n"
     ]
    }
   ],
   "source": [
    "import os \n",
    "from gensim.models.keyedvectors import Word2VecKeyedVectors\n",
    "\n",
    "embedding_layer = model_gru.layers[0]\n",
    "weights = embedding_layer.get_weights()[0]\n",
    "print(weights.shape) \n",
    "\n",
    "word2vec_file_path_gru = os.getenv('HOME')+'/aiffel/sentiment_classification/data/word2vec_gru.txt'\n",
    "f = open(word2vec_file_path_gru, 'w')\n",
    "f.write('{} {}\\n'.format(vocab_size-4, word_vector_dim)) \n",
    "\n",
    "vectors = model_gru.get_weights()[0]\n",
    "for i in range(4,vocab_size):\n",
    "    f.write('{} {}\\n'.format(index_to_word[i], ' '.join(map(str, list(vectors[i, :])))))\n",
    "f.close()"
   ]
  },
  {
   "cell_type": "code",
   "execution_count": 68,
   "id": "6e8306b5",
   "metadata": {},
   "outputs": [
    {
     "data": {
      "text/plain": [
       "array([ 0.12693708,  0.14176683,  0.12311012, -0.02533282,  0.09545334,\n",
       "        0.0765553 ,  0.02470577,  0.10983959,  0.05899293, -0.07785632,\n",
       "        0.08395557, -0.1007695 ,  0.08179231,  0.13724278,  0.08949124,\n",
       "        0.01808309,  0.07286359, -0.03362349, -0.07429541, -0.0768572 ,\n",
       "        0.10928863,  0.09094515, -0.10956294,  0.04425193, -0.11595646,\n",
       "       -0.08003119,  0.13051414, -0.05693857, -0.07573619, -0.0635351 ,\n",
       "       -0.07513034, -0.07884769,  0.06944908, -0.08177596, -0.04120137,\n",
       "       -0.12719034,  0.09661915,  0.10201462, -0.13153037,  0.07441767,\n",
       "       -0.0493964 , -0.0977996 , -0.08618743,  0.06115859, -0.09716722,\n",
       "       -0.04700529, -0.0658942 , -0.01276191,  0.0447739 ,  0.08218557],\n",
       "      dtype=float32)"
      ]
     },
     "execution_count": 68,
     "metadata": {},
     "output_type": "execute_result"
    }
   ],
   "source": [
    "word_vectors = Word2VecKeyedVectors.load_word2vec_format(word2vec_file_path_gru, binary=False)\n",
    "vector = word_vectors['눈물']\n",
    "vector"
   ]
  },
  {
   "cell_type": "code",
   "execution_count": 69,
   "id": "b492b927",
   "metadata": {},
   "outputs": [
    {
     "data": {
      "text/plain": [
       "[('더한', 0.9601083397865295),\n",
       " ('무덤덤', 0.9533775448799133),\n",
       " ('It', 0.9492419362068176),\n",
       " ('리암니슨', 0.948829174041748),\n",
       " ('극대', 0.9464994668960571),\n",
       " ('해학', 0.9460211992263794),\n",
       " ('보복', 0.9448063373565674),\n",
       " ('겸손', 0.943171501159668),\n",
       " ('두고두고', 0.941153347492218),\n",
       " ('각지', 0.9407122135162354)]"
      ]
     },
     "execution_count": 69,
     "metadata": {},
     "output_type": "execute_result"
    }
   ],
   "source": [
    "word_vectors.similar_by_word('눈물')"
   ]
  },
  {
   "cell_type": "markdown",
   "id": "b2b6ba3e",
   "metadata": {},
   "source": [
    "#### (3) 1D CNN"
   ]
  },
  {
   "cell_type": "code",
   "execution_count": 30,
   "id": "c9f74e43",
   "metadata": {},
   "outputs": [
    {
     "name": "stdout",
     "output_type": "stream",
     "text": [
      "(10000, 16)\n"
     ]
    }
   ],
   "source": [
    "import os \n",
    "from gensim.models.keyedvectors import Word2VecKeyedVectors\n",
    "\n",
    "embedding_layer = model_cnn.layers[0]\n",
    "weights = embedding_layer.get_weights()[0]\n",
    "print(weights.shape) \n",
    "\n",
    "word2vec_file_path_cnn = os.getenv('HOME')+'/aiffel/sentiment_classification/data/word2vec_cnn.txt'\n",
    "f = open(word2vec_file_path_cnn, 'w')\n",
    "f.write('{} {}\\n'.format(vocab_size-4, word_vector_dim_cnn)) \n",
    "\n",
    "vectors = model_cnn.get_weights()[0]\n",
    "for i in range(4,vocab_size):\n",
    "    f.write('{} {}\\n'.format(index_to_word[i], ' '.join(map(str, list(vectors[i, :])))))\n",
    "f.close()"
   ]
  },
  {
   "cell_type": "code",
   "execution_count": 70,
   "id": "a81c3462",
   "metadata": {},
   "outputs": [
    {
     "data": {
      "text/plain": [
       "array([ 0.08393544,  0.1492883 , -0.05195571, -0.05479405, -0.12365288,\n",
       "        0.02026335, -0.04435963, -0.04204091, -0.10297357,  0.13234288,\n",
       "        0.06048306,  0.01636155,  0.16912337,  0.08014829, -0.09969768,\n",
       "        0.10210065], dtype=float32)"
      ]
     },
     "execution_count": 70,
     "metadata": {},
     "output_type": "execute_result"
    }
   ],
   "source": [
    "word_vectors = Word2VecKeyedVectors.load_word2vec_format(word2vec_file_path_cnn, binary=False)\n",
    "vector = word_vectors['눈물']\n",
    "vector"
   ]
  },
  {
   "cell_type": "code",
   "execution_count": 71,
   "id": "7dd82045",
   "metadata": {},
   "outputs": [
    {
     "data": {
      "text/plain": [
       "[('17', 0.9409992694854736),\n",
       " ('웃긴데', 0.9383087754249573),\n",
       " ('곳', 0.9154172539710999),\n",
       " ('하루하루', 0.896135151386261),\n",
       " ('결합', 0.8883051872253418),\n",
       " ('덜덜', 0.8824495673179626),\n",
       " ('톰크루즈', 0.881274402141571),\n",
       " ('ㅠㅠㅠ', 0.8795425295829773),\n",
       " ('불패', 0.8772687911987305),\n",
       " ('풍성', 0.8759429454803467)]"
      ]
     },
     "execution_count": 71,
     "metadata": {},
     "output_type": "execute_result"
    }
   ],
   "source": [
    "word_vectors.similar_by_word('눈물')"
   ]
  },
  {
   "cell_type": "markdown",
   "id": "9a848dca",
   "metadata": {},
   "source": [
    "### 8) 한국어 Word2Vec 임베딩 활용하여 성능 개선"
   ]
  },
  {
   "cell_type": "code",
   "execution_count": null,
   "id": "6c37ac1b",
   "metadata": {},
   "outputs": [],
   "source": [
    "from gensim.models.keyedvectors import Word2VecKeyedVectors\n",
    "\n",
    "word2vec_path =os.getenv('HOME')+'/aiffel/sentiment_classification/data/word2vec_ko.model'\n",
    "word2vec = Word2VecKeyedVectors.load(word2vec_path)\n",
    "vector = word2vec.wv['눈물']\n",
    "vector"
   ]
  },
  {
   "cell_type": "code",
   "execution_count": 73,
   "id": "3727f3c0",
   "metadata": {},
   "outputs": [
    {
     "data": {
      "text/plain": [
       "[('웃음', 0.7543492317199707),\n",
       " ('슬픔', 0.7267216444015503),\n",
       " ('한숨', 0.7182712554931641),\n",
       " ('피눈물', 0.7141152024269104),\n",
       " ('땀', 0.7121106386184692),\n",
       " ('이별', 0.695806622505188),\n",
       " ('가슴', 0.6698150038719177),\n",
       " ('기쁨', 0.657920241355896),\n",
       " ('머리카락', 0.6576725840568542),\n",
       " ('꿈', 0.6558417677879333)]"
      ]
     },
     "execution_count": 73,
     "metadata": {},
     "output_type": "execute_result"
    }
   ],
   "source": [
    "word2vec.wv.similar_by_word('눈물')"
   ]
  },
  {
   "cell_type": "code",
   "execution_count": 63,
   "id": "77d579b0",
   "metadata": {},
   "outputs": [
    {
     "name": "stdout",
     "output_type": "stream",
     "text": [
      "Model: \"sequential_8\"\n",
      "_________________________________________________________________\n",
      "Layer (type)                 Output Shape              Param #   \n",
      "=================================================================\n",
      "embedding_6 (Embedding)      (None, 50, 100)           1000000   \n",
      "_________________________________________________________________\n",
      "lstm_4 (LSTM)                (None, 200)               240800    \n",
      "_________________________________________________________________\n",
      "dense_7 (Dense)              (None, 1)                 201       \n",
      "=================================================================\n",
      "Total params: 1,241,001\n",
      "Trainable params: 1,241,001\n",
      "Non-trainable params: 0\n",
      "_________________________________________________________________\n"
     ]
    }
   ],
   "source": [
    "vocab_size = 10000\n",
    "word_vector_dim = 100\n",
    "embedding_matrix = np.random.rand(vocab_size, word_vector_dim)\n",
    "\n",
    "for i in range(4,vocab_size):\n",
    "    if index_to_word[i] in word2vec.wv:\n",
    "        embedding_matrix[i] = word2vec.wv[index_to_word[i]]\n",
    "        \n",
    "from tensorflow.keras.initializers import Constant\n",
    "\n",
    "vocab_size = 10000\n",
    "word_vector_dim = 100\n",
    "hidden_units = 200\n",
    "\n",
    "model = Sequential()\n",
    "model.add(Embedding(vocab_size, \n",
    "                         word_vector_dim, \n",
    "                         embeddings_initializer=Constant(embedding_matrix),\n",
    "                         input_length=50,\n",
    "                         trainable=True))\n",
    "model.add(LSTM(hidden_units))\n",
    "model.add(Dense(1, activation='sigmoid'))\n",
    "\n",
    "es = EarlyStopping(monitor='val_loss', mode='min', verbose=1, patience=4)\n",
    "model.compile(optimizer='adam', loss='binary_crossentropy', metrics='accuracy')\n",
    "model.summary()\n"
   ]
  },
  {
   "cell_type": "code",
   "execution_count": 64,
   "id": "f4a6d93e",
   "metadata": {},
   "outputs": [
    {
     "name": "stdout",
     "output_type": "stream",
     "text": [
      "Epoch 1/20\n",
      "429/429 [==============================] - 8s 15ms/step - loss: 0.4408 - accuracy: 0.7914 - val_loss: 0.3656 - val_accuracy: 0.8367\n",
      "Epoch 2/20\n",
      "429/429 [==============================] - 6s 14ms/step - loss: 0.3217 - accuracy: 0.8597 - val_loss: 0.3301 - val_accuracy: 0.8548\n",
      "Epoch 3/20\n",
      "429/429 [==============================] - 6s 14ms/step - loss: 0.2746 - accuracy: 0.8834 - val_loss: 0.3215 - val_accuracy: 0.8592\n",
      "Epoch 4/20\n",
      "429/429 [==============================] - 6s 14ms/step - loss: 0.2369 - accuracy: 0.9022 - val_loss: 0.3235 - val_accuracy: 0.8636\n",
      "Epoch 5/20\n",
      "429/429 [==============================] - 6s 14ms/step - loss: 0.2033 - accuracy: 0.9183 - val_loss: 0.3461 - val_accuracy: 0.8579\n",
      "Epoch 6/20\n",
      "429/429 [==============================] - 6s 14ms/step - loss: 0.1676 - accuracy: 0.9345 - val_loss: 0.3693 - val_accuracy: 0.8610\n",
      "Epoch 7/20\n",
      "429/429 [==============================] - 6s 14ms/step - loss: 0.1333 - accuracy: 0.9486 - val_loss: 0.4124 - val_accuracy: 0.8554\n",
      "Epoch 00007: early stopping\n"
     ]
    }
   ],
   "source": [
    "history = model.fit(X_train, y_train, epochs=20, callbacks=es, batch_size=256,\\\n",
    "                    validation_data=(X_val, y_val), verbose=1)"
   ]
  },
  {
   "cell_type": "code",
   "execution_count": 65,
   "id": "82a44847",
   "metadata": {},
   "outputs": [
    {
     "name": "stdout",
     "output_type": "stream",
     "text": [
      "1537/1537 - 4s - loss: 0.4068 - accuracy: 0.8557\n"
     ]
    }
   ],
   "source": [
    "results = model.evaluate(X_test,  y_test, verbose=2)"
   ]
  },
  {
   "cell_type": "code",
   "execution_count": null,
   "id": "1f38ce7e",
   "metadata": {},
   "outputs": [],
   "source": []
  }
 ],
 "metadata": {
  "kernelspec": {
   "display_name": "Python 3 (ipykernel)",
   "language": "python",
   "name": "python3"
  },
  "language_info": {
   "codemirror_mode": {
    "name": "ipython",
    "version": 3
   },
   "file_extension": ".py",
   "mimetype": "text/x-python",
   "name": "python",
   "nbconvert_exporter": "python",
   "pygments_lexer": "ipython3",
   "version": "3.11.4"
  }
 },
 "nbformat": 4,
 "nbformat_minor": 5
}
