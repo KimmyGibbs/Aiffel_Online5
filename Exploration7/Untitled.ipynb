{
 "cells": [
  {
   "cell_type": "markdown",
   "id": "3c91e146",
   "metadata": {},
   "source": [
    "# 프로젝트: Segmentation map으로 도로 이미지 만들기\n",
    "### 과제\n",
    "1. 데이터에 한 가지 이상의 **argumentation** 적용(어떤 방법을 사용했는지 적기)\n",
    "2. U-Net Generator 사용\n",
    "3. 테스트 데이터는 다운로드한 \"val\" 폴더 내 이미지 사용\n",
    "4. 1개 이상의 이미지에 대해서 테스트 후 **스케치, 생성된 사진, 실제 사진** 순서로 시각화\n",
    "5. 10 epoch 이상 학습하여 중간 손실 값에 대한 로그 남기기  "
   ]
  },
  {
   "cell_type": "code",
   "execution_count": null,
   "id": "d63eb197",
   "metadata": {},
   "outputs": [],
   "source": []
  }
 ],
 "metadata": {
  "kernelspec": {
   "display_name": "Python 3 (ipykernel)",
   "language": "python",
   "name": "python3"
  },
  "language_info": {
   "codemirror_mode": {
    "name": "ipython",
    "version": 3
   },
   "file_extension": ".py",
   "mimetype": "text/x-python",
   "name": "python",
   "nbconvert_exporter": "python",
   "pygments_lexer": "ipython3",
   "version": "3.9.7"
  }
 },
 "nbformat": 4,
 "nbformat_minor": 5
}
